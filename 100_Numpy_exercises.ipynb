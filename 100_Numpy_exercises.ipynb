{
 "cells": [
  {
   "cell_type": "markdown",
   "metadata": {},
   "source": [
    "# 100 numpy exercises\n",
    "\n",
    "This is a collection of exercises that have been collected in the numpy mailing list, on stack overflow\n",
    "and in the numpy documentation. The goal of this collection is to offer a quick reference for both old\n",
    "and new users but also to provide a set of exercises for those who teach.\n",
    "\n",
    "\n",
    "If you find an error or think you've a better way to solve some of them, feel\n",
    "free to open an issue at <https://github.com/rougier/numpy-100>."
   ]
  },
  {
   "cell_type": "markdown",
   "metadata": {},
   "source": [
    "File automatically generated. See the documentation to update questions/answers/hints programmatically."
   ]
  },
  {
   "cell_type": "markdown",
   "metadata": {},
   "source": [
    "Run the `initialize.py` module, then for each question you can query the\n",
    "answer or an hint with `hint(n)` or `answer(n)` for `n` question number."
   ]
  },
  {
   "cell_type": "code",
   "execution_count": 7,
   "metadata": {},
   "outputs": [],
   "source": [
    "%run initialise.py"
   ]
  },
  {
   "cell_type": "markdown",
   "metadata": {},
   "source": [
    "#### 1. Import the numpy package under the name `np` (★☆☆)"
   ]
  },
  {
   "cell_type": "code",
   "execution_count": 8,
   "metadata": {},
   "outputs": [],
   "source": [
    "import numpy as np"
   ]
  },
  {
   "cell_type": "markdown",
   "metadata": {},
   "source": [
    "#### 2. Print the numpy version and the configuration (★☆☆)"
   ]
  },
  {
   "cell_type": "code",
   "execution_count": 9,
   "metadata": {},
   "outputs": [
    {
     "name": "stdout",
     "output_type": "stream",
     "text": [
      "1.16.5\n",
      "mkl_info:\n",
      "    libraries = ['mkl_rt']\n",
      "    library_dirs = ['C:/python/ana\\\\Library\\\\lib']\n",
      "    define_macros = [('SCIPY_MKL_H', None), ('HAVE_CBLAS', None)]\n",
      "    include_dirs = ['C:\\\\Program Files (x86)\\\\IntelSWTools\\\\compilers_and_libraries_2019.0.117\\\\windows\\\\mkl', 'C:\\\\Program Files (x86)\\\\IntelSWTools\\\\compilers_and_libraries_2019.0.117\\\\windows\\\\mkl\\\\include', 'C:\\\\Program Files (x86)\\\\IntelSWTools\\\\compilers_and_libraries_2019.0.117\\\\windows\\\\mkl\\\\lib', 'C:/python/ana\\\\Library\\\\include']\n",
      "blas_mkl_info:\n",
      "    libraries = ['mkl_rt']\n",
      "    library_dirs = ['C:/python/ana\\\\Library\\\\lib']\n",
      "    define_macros = [('SCIPY_MKL_H', None), ('HAVE_CBLAS', None)]\n",
      "    include_dirs = ['C:\\\\Program Files (x86)\\\\IntelSWTools\\\\compilers_and_libraries_2019.0.117\\\\windows\\\\mkl', 'C:\\\\Program Files (x86)\\\\IntelSWTools\\\\compilers_and_libraries_2019.0.117\\\\windows\\\\mkl\\\\include', 'C:\\\\Program Files (x86)\\\\IntelSWTools\\\\compilers_and_libraries_2019.0.117\\\\windows\\\\mkl\\\\lib', 'C:/python/ana\\\\Library\\\\include']\n",
      "blas_opt_info:\n",
      "    libraries = ['mkl_rt']\n",
      "    library_dirs = ['C:/python/ana\\\\Library\\\\lib']\n",
      "    define_macros = [('SCIPY_MKL_H', None), ('HAVE_CBLAS', None)]\n",
      "    include_dirs = ['C:\\\\Program Files (x86)\\\\IntelSWTools\\\\compilers_and_libraries_2019.0.117\\\\windows\\\\mkl', 'C:\\\\Program Files (x86)\\\\IntelSWTools\\\\compilers_and_libraries_2019.0.117\\\\windows\\\\mkl\\\\include', 'C:\\\\Program Files (x86)\\\\IntelSWTools\\\\compilers_and_libraries_2019.0.117\\\\windows\\\\mkl\\\\lib', 'C:/python/ana\\\\Library\\\\include']\n",
      "lapack_mkl_info:\n",
      "    libraries = ['mkl_rt']\n",
      "    library_dirs = ['C:/python/ana\\\\Library\\\\lib']\n",
      "    define_macros = [('SCIPY_MKL_H', None), ('HAVE_CBLAS', None)]\n",
      "    include_dirs = ['C:\\\\Program Files (x86)\\\\IntelSWTools\\\\compilers_and_libraries_2019.0.117\\\\windows\\\\mkl', 'C:\\\\Program Files (x86)\\\\IntelSWTools\\\\compilers_and_libraries_2019.0.117\\\\windows\\\\mkl\\\\include', 'C:\\\\Program Files (x86)\\\\IntelSWTools\\\\compilers_and_libraries_2019.0.117\\\\windows\\\\mkl\\\\lib', 'C:/python/ana\\\\Library\\\\include']\n",
      "lapack_opt_info:\n",
      "    libraries = ['mkl_rt']\n",
      "    library_dirs = ['C:/python/ana\\\\Library\\\\lib']\n",
      "    define_macros = [('SCIPY_MKL_H', None), ('HAVE_CBLAS', None)]\n",
      "    include_dirs = ['C:\\\\Program Files (x86)\\\\IntelSWTools\\\\compilers_and_libraries_2019.0.117\\\\windows\\\\mkl', 'C:\\\\Program Files (x86)\\\\IntelSWTools\\\\compilers_and_libraries_2019.0.117\\\\windows\\\\mkl\\\\include', 'C:\\\\Program Files (x86)\\\\IntelSWTools\\\\compilers_and_libraries_2019.0.117\\\\windows\\\\mkl\\\\lib', 'C:/python/ana\\\\Library\\\\include']\n"
     ]
    }
   ],
   "source": [
    "print(np.__version__)\n",
    "np.show_config()"
   ]
  },
  {
   "cell_type": "markdown",
   "metadata": {},
   "source": [
    "#### 3. Create a null vector of size 10 (★☆☆)"
   ]
  },
  {
   "cell_type": "code",
   "execution_count": 10,
   "metadata": {},
   "outputs": [
    {
     "name": "stdout",
     "output_type": "stream",
     "text": [
      "[0. 0. 0. 0. 0. 0. 0. 0. 0. 0.]\n"
     ]
    }
   ],
   "source": [
    "v = np.zeros(10)\n",
    "print(v)"
   ]
  },
  {
   "cell_type": "markdown",
   "metadata": {},
   "source": [
    "#### 4. How to find the memory size of any array (★☆☆)"
   ]
  },
  {
   "cell_type": "code",
   "execution_count": 11,
   "metadata": {},
   "outputs": [
    {
     "name": "stdout",
     "output_type": "stream",
     "text": [
      "48 bytes\n"
     ]
    }
   ],
   "source": [
    "v0 = np.array([[1, 0, 0, 2],\n",
    "             [0, 0, 1, 1],\n",
    "             [9, 9, 9, 0]])\n",
    "print(\"%d bytes\" % (v0.size * v0.itemsize))"
   ]
  },
  {
   "cell_type": "markdown",
   "metadata": {},
   "source": [
    "#### 5. How to get the documentation of the numpy add function from the command line? (★☆☆)"
   ]
  },
  {
   "cell_type": "code",
   "execution_count": 13,
   "metadata": {},
   "outputs": [],
   "source": [
    "#python -c \"import numpy; numpy.info(numpy.add)\""
   ]
  },
  {
   "cell_type": "markdown",
   "metadata": {},
   "source": [
    "#### 6. Create a null vector of size 10 but the fifth value which is 1 (★☆☆)"
   ]
  },
  {
   "cell_type": "code",
   "execution_count": 14,
   "metadata": {},
   "outputs": [
    {
     "name": "stdout",
     "output_type": "stream",
     "text": [
      "[0. 0. 0. 0. 1. 0. 0. 0. 0. 0.]\n"
     ]
    }
   ],
   "source": [
    "v1 = np.zeros(10)\n",
    "v1[4] = 1\n",
    "print(v1)"
   ]
  },
  {
   "cell_type": "markdown",
   "metadata": {},
   "source": [
    "#### 7. Create a vector with values ranging from 10 to 49 (★☆☆)"
   ]
  },
  {
   "cell_type": "code",
   "execution_count": 16,
   "metadata": {},
   "outputs": [
    {
     "name": "stdout",
     "output_type": "stream",
     "text": [
      "[10. 11. 12. 13. 14. 15. 16. 17. 18. 19. 20. 21. 22. 23. 24. 25. 26. 27.\n",
      " 28. 29. 30. 31. 32. 33. 34. 35. 36. 37. 38. 39. 40. 41. 42. 43. 44. 45.\n",
      " 46. 47. 48. 49.]\n"
     ]
    }
   ],
   "source": [
    "v2 = np.arange(10,50, dtype=float)\n",
    "print(v2)"
   ]
  },
  {
   "cell_type": "markdown",
   "metadata": {},
   "source": [
    "#### 8. Reverse a vector (first element becomes last) (★☆☆)"
   ]
  },
  {
   "cell_type": "code",
   "execution_count": 17,
   "metadata": {},
   "outputs": [
    {
     "name": "stdout",
     "output_type": "stream",
     "text": [
      "[49. 48. 47. 46. 45. 44. 43. 42. 41. 40. 39. 38. 37. 36. 35. 34. 33. 32.\n",
      " 31. 30. 29. 28. 27. 26. 25. 24. 23. 22. 21. 20. 19. 18. 17. 16. 15. 14.\n",
      " 13. 12. 11. 10.]\n"
     ]
    }
   ],
   "source": [
    "v2 = v2[::-1]\n",
    "print(v2)"
   ]
  },
  {
   "cell_type": "markdown",
   "metadata": {},
   "source": [
    "#### 9. Create a 3x3 matrix with values ranging from 0 to 8 (★☆☆)"
   ]
  },
  {
   "cell_type": "code",
   "execution_count": 19,
   "metadata": {},
   "outputs": [
    {
     "name": "stdout",
     "output_type": "stream",
     "text": [
      "[[0. 1. 2.]\n",
      " [3. 4. 5.]\n",
      " [6. 7. 8.]]\n"
     ]
    }
   ],
   "source": [
    "M = np.arange(9, dtype=float).reshape(3, 3)\n",
    "print(M)"
   ]
  },
  {
   "cell_type": "markdown",
   "metadata": {},
   "source": [
    "#### 10. Find indices of non-zero elements from [1,2,0,0,4,0] (★☆☆)"
   ]
  },
  {
   "cell_type": "code",
   "execution_count": 23,
   "metadata": {},
   "outputs": [
    {
     "name": "stdout",
     "output_type": "stream",
     "text": [
      "(array([0, 1, 4], dtype=int64),)\n"
     ]
    }
   ],
   "source": [
    "print(np.nonzero([1, 2, 0, 0, 4, 0]))"
   ]
  },
  {
   "cell_type": "markdown",
   "metadata": {},
   "source": [
    "#### 11. Create a 3x3 identity matrix (★☆☆)"
   ]
  },
  {
   "cell_type": "code",
   "execution_count": 24,
   "metadata": {},
   "outputs": [
    {
     "name": "stdout",
     "output_type": "stream",
     "text": [
      "[[1. 0. 0.]\n",
      " [0. 1. 0.]\n",
      " [0. 0. 1.]]\n"
     ]
    }
   ],
   "source": [
    "print(np.eye(3))"
   ]
  },
  {
   "cell_type": "markdown",
   "metadata": {},
   "source": [
    "#### 12. Create a 3x3x3 array with random values (★☆☆)"
   ]
  },
  {
   "cell_type": "code",
   "execution_count": 25,
   "metadata": {},
   "outputs": [
    {
     "name": "stdout",
     "output_type": "stream",
     "text": [
      "[[[0.37260625 0.2792126  0.73206746]\n",
      "  [0.32485826 0.46704383 0.6270689 ]\n",
      "  [0.80276572 0.78140104 0.00682487]]\n",
      "\n",
      " [[0.55278419 0.47094802 0.43971556]\n",
      "  [0.35162784 0.39104909 0.17311746]\n",
      "  [0.68916875 0.31406598 0.6570877 ]]\n",
      "\n",
      " [[0.78118817 0.88070842 0.99819045]\n",
      "  [0.52312446 0.17470763 0.43232436]\n",
      "  [0.23280438 0.26940003 0.81094093]]]\n"
     ]
    }
   ],
   "source": [
    "print(np.random.random((3, 3, 3)))"
   ]
  },
  {
   "cell_type": "markdown",
   "metadata": {},
   "source": [
    "#### 13. Create a 10x10 array with random values and find the minimum and maximum values (★☆☆)"
   ]
  },
  {
   "cell_type": "code",
   "execution_count": 30,
   "metadata": {},
   "outputs": [
    {
     "name": "stdout",
     "output_type": "stream",
     "text": [
      "[[0.44938533 0.15928194 0.35078403 0.52914611 0.35435205 0.93347784\n",
      "  0.80009753 0.98421208 0.53136132 0.94670136]\n",
      " [0.54743101 0.54931374 0.66984519 0.15285095 0.86038638 0.41537566\n",
      "  0.83794166 0.39593228 0.29387541 0.49419449]\n",
      " [0.8236368  0.62550816 0.22288045 0.22155938 0.29732489 0.80484737\n",
      "  0.59398975 0.85078389 0.1395576  0.64895224]\n",
      " [0.07730964 0.05223655 0.67525003 0.0484614  0.87294156 0.64154245\n",
      "  0.58485594 0.71174427 0.82804768 0.43098847]\n",
      " [0.4419296  0.1567613  0.10555253 0.67262185 0.59704282 0.53591695\n",
      "  0.20227116 0.9428119  0.60698856 0.59817966]\n",
      " [0.39258464 0.22857808 0.26725595 0.47064306 0.74796783 0.13603125\n",
      "  0.92528412 0.54303631 0.41130492 0.37796879]\n",
      " [0.67948943 0.28765884 0.66373896 0.29990085 0.54555768 0.48038777\n",
      "  0.49421143 0.22915861 0.34486664 0.03015365]\n",
      " [0.11129368 0.92696617 0.12187284 0.99063093 0.56136657 0.17841445\n",
      "  0.28641427 0.23682382 0.22475953 0.14449875]\n",
      " [0.99171918 0.72094025 0.71785883 0.88992828 0.19093008 0.66607212\n",
      "  0.44356001 0.18814131 0.46835336 0.53060972]\n",
      " [0.48241316 0.1215765  0.02444664 0.76294448 0.58393749 0.55911319\n",
      "  0.38009049 0.79497148 0.46069894 0.70917753]]\n",
      "0.024446639661979463 0.9917191774656451\n"
     ]
    }
   ],
   "source": [
    "M = np.random.random((10, 10))\n",
    "print(M)\n",
    "print(M.min(), M.max())"
   ]
  },
  {
   "cell_type": "markdown",
   "metadata": {},
   "source": [
    "#### 14. Create a random vector of size 30 and find the mean value (★☆☆)"
   ]
  },
  {
   "cell_type": "code",
   "execution_count": 31,
   "metadata": {},
   "outputs": [
    {
     "name": "stdout",
     "output_type": "stream",
     "text": [
      "[0.52847117 0.28279082 0.85800901 0.09947734 0.05992404 0.82761178\n",
      " 0.37150825 0.67218207 0.20658222 0.03891872 0.53231667 0.01467699\n",
      " 0.64956262 0.13896975 0.3162737  0.14737168 0.84232367 0.85031907\n",
      " 0.55617976 0.36704986 0.02588679 0.51400093 0.32276035 0.80605593\n",
      " 0.86759637 0.54658075 0.40670565 0.6100192  0.65955614 0.42243508]\n",
      "0.4514038794187229\n"
     ]
    }
   ],
   "source": [
    "v3 = np.random.random(30)\n",
    "print(v3)\n",
    "print(v3.mean())"
   ]
  },
  {
   "cell_type": "markdown",
   "metadata": {},
   "source": [
    "#### 15. Create a 2d array with 1 on the border and 0 inside (★☆☆)"
   ]
  },
  {
   "cell_type": "code",
   "execution_count": 33,
   "metadata": {},
   "outputs": [
    {
     "name": "stdout",
     "output_type": "stream",
     "text": [
      "[[1. 1. 1. 1. 1.]\n",
      " [1. 0. 0. 0. 1.]\n",
      " [1. 0. 0. 0. 1.]\n",
      " [1. 0. 0. 0. 1.]\n",
      " [1. 1. 1. 1. 1.]]\n"
     ]
    }
   ],
   "source": [
    "M1 = np.ones((5, 5))\n",
    "M1[1:-1, 1:-1] = 0\n",
    "print(M1)"
   ]
  },
  {
   "cell_type": "markdown",
   "metadata": {},
   "source": [
    "#### 16. How to add a border (filled with 0's) around an existing array? (★☆☆)"
   ]
  },
  {
   "cell_type": "code",
   "execution_count": 34,
   "metadata": {},
   "outputs": [
    {
     "name": "stdout",
     "output_type": "stream",
     "text": [
      "[[0. 0. 0. 0. 0. 0. 0.]\n",
      " [0. 1. 1. 1. 1. 1. 0.]\n",
      " [0. 1. 1. 1. 1. 1. 0.]\n",
      " [0. 1. 1. 1. 1. 1. 0.]\n",
      " [0. 1. 1. 1. 1. 1. 0.]\n",
      " [0. 1. 1. 1. 1. 1. 0.]\n",
      " [0. 0. 0. 0. 0. 0. 0.]]\n"
     ]
    }
   ],
   "source": [
    "M2 = np.ones((5, 5))\n",
    "M2 = np.pad(M2, pad_width=1, mode='constant', constant_values=0)\n",
    "print(M2)"
   ]
  },
  {
   "cell_type": "markdown",
   "metadata": {},
   "source": [
    "#### 17. What is the result of the following expression? (★☆☆)\n",
    "```python\n",
    "0 * np.nan\n",
    "np.nan == np.nan\n",
    "np.inf > np.nan\n",
    "np.nan - np.nan\n",
    "np.nan in set([np.nan])\n",
    "0.3 == 3 * 0.1\n",
    "```"
   ]
  },
  {
   "cell_type": "code",
   "execution_count": 36,
   "metadata": {},
   "outputs": [
    {
     "name": "stdout",
     "output_type": "stream",
     "text": [
      "nan\n",
      "False\n",
      "False\n",
      "nan\n",
      "True\n",
      "False\n"
     ]
    }
   ],
   "source": [
    "print(0 * np.nan)\n",
    "print(np.nan == np.nan)\n",
    "print(np.inf > np.nan)\n",
    "print(np.nan - np.nan)\n",
    "print(np.nan in set([np.nan]))\n",
    "print(0.3 == 3 * 0.1)"
   ]
  },
  {
   "cell_type": "markdown",
   "metadata": {},
   "source": [
    "#### 18. Create a 5x5 matrix with values 1,2,3,4 just below the diagonal (★☆☆)"
   ]
  },
  {
   "cell_type": "code",
   "execution_count": 40,
   "metadata": {},
   "outputs": [
    {
     "name": "stdout",
     "output_type": "stream",
     "text": [
      "[[0 0 0 0 0]\n",
      " [1 0 0 0 0]\n",
      " [0 2 0 0 0]\n",
      " [0 0 3 0 0]\n",
      " [0 0 0 4 0]]\n"
     ]
    }
   ],
   "source": [
    "print(np.diag(np.arange(4) + 1, k=-1))"
   ]
  },
  {
   "cell_type": "markdown",
   "metadata": {},
   "source": [
    "#### 19. Create a 8x8 matrix and fill it with a checkerboard pattern (★☆☆)"
   ]
  },
  {
   "cell_type": "code",
   "execution_count": 42,
   "metadata": {},
   "outputs": [
    {
     "name": "stdout",
     "output_type": "stream",
     "text": [
      "[[0 1 0 1 0 1 0 1]\n",
      " [1 0 1 0 1 0 1 0]\n",
      " [0 1 0 1 0 1 0 1]\n",
      " [1 0 1 0 1 0 1 0]\n",
      " [0 1 0 1 0 1 0 1]\n",
      " [1 0 1 0 1 0 1 0]\n",
      " [0 1 0 1 0 1 0 1]\n",
      " [1 0 1 0 1 0 1 0]]\n"
     ]
    }
   ],
   "source": [
    "C = np.zeros((8, 8), dtype=int)\n",
    "C[1::2,::2] = 1\n",
    "C[::2,1::2] = 1\n",
    "print(C)"
   ]
  },
  {
   "cell_type": "markdown",
   "metadata": {},
   "source": [
    "#### 20. Consider a (6,7,8) shape array, what is the index (x,y,z) of the 100th element? (★☆☆)"
   ]
  },
  {
   "cell_type": "code",
   "execution_count": 44,
   "metadata": {},
   "outputs": [
    {
     "name": "stdout",
     "output_type": "stream",
     "text": [
      "(1, 5, 3)\n"
     ]
    }
   ],
   "source": [
    "print(np.unravel_index(99, (6, 7, 8)))"
   ]
  },
  {
   "cell_type": "markdown",
   "metadata": {},
   "source": [
    "#### 21. Create a checkerboard 8x8 matrix using the tile function (★☆☆)"
   ]
  },
  {
   "cell_type": "code",
   "execution_count": 46,
   "metadata": {},
   "outputs": [
    {
     "name": "stdout",
     "output_type": "stream",
     "text": [
      "[[0 1 0 1 0 1 0 1]\n",
      " [1 0 1 0 1 0 1 0]\n",
      " [0 1 0 1 0 1 0 1]\n",
      " [1 0 1 0 1 0 1 0]\n",
      " [0 1 0 1 0 1 0 1]\n",
      " [1 0 1 0 1 0 1 0]\n",
      " [0 1 0 1 0 1 0 1]\n",
      " [1 0 1 0 1 0 1 0]]\n"
     ]
    }
   ],
   "source": [
    "print(np.tile(np.array([[0, 1], [1, 0]]), (4, 4)))"
   ]
  },
  {
   "cell_type": "markdown",
   "metadata": {},
   "source": [
    "#### 22. Normalize a 5x5 random matrix (★☆☆)"
   ]
  },
  {
   "cell_type": "code",
   "execution_count": 47,
   "metadata": {},
   "outputs": [
    {
     "name": "stdout",
     "output_type": "stream",
     "text": [
      "[[ 1.36308253 -0.97895572 -0.8554814   0.6733621   1.32506849]\n",
      " [-0.98555896 -0.37724806 -0.80799256 -1.18923625  0.37158054]\n",
      " [-0.70284119 -1.46545671  0.94140413  1.86429705 -0.92320683]\n",
      " [ 1.19554218 -0.62524616 -1.05057076  1.57131416  0.01836222]\n",
      " [-0.12912931  0.11914448  0.79001632  0.93127055 -1.07352085]]\n"
     ]
    }
   ],
   "source": [
    "M3 = np.random.random((5,5))\n",
    "M3 = (M3 - np.mean(M3)) / (np.std(M3))\n",
    "print(M3)"
   ]
  },
  {
   "cell_type": "markdown",
   "metadata": {},
   "source": [
    "#### 23. Create a custom dtype that describes a color as four unsigned bytes (RGBA) (★☆☆)"
   ]
  },
  {
   "cell_type": "code",
   "execution_count": 50,
   "metadata": {},
   "outputs": [
    {
     "name": "stdout",
     "output_type": "stream",
     "text": [
      "[(255,   0,   0, 255) (  0, 255,   0, 255) (  0,   0, 255, 255)]\n"
     ]
    }
   ],
   "source": [
    "color = np.dtype([('r', np.uint8), ('g', np.uint8), ('b', np.uint8), ('a', np.uint8)])\n",
    "\n",
    "# Create an array of colors\n",
    "colors = np.array([(255, 0, 0, 255), (0, 255, 0, 255), (0, 0, 255, 255)], dtype=color)\n",
    "\n",
    "# Print the array of colors\n",
    "print(colors)"
   ]
  },
  {
   "cell_type": "markdown",
   "metadata": {},
   "source": [
    "#### 24. Multiply a 5x3 matrix by a 3x2 matrix (real matrix product) (★☆☆)"
   ]
  },
  {
   "cell_type": "code",
   "execution_count": 51,
   "metadata": {},
   "outputs": [
    {
     "name": "stdout",
     "output_type": "stream",
     "text": [
      "[[ 22  28]\n",
      " [ 49  64]\n",
      " [ 76 100]\n",
      " [103 136]\n",
      " [130 172]]\n"
     ]
    }
   ],
   "source": [
    "M1 = np.array([[1,2,3],\n",
    "               [4,5,6],\n",
    "               [7,8,9],\n",
    "               [10,11,12],\n",
    "               [13,14,15]])\n",
    "M2 = np.array([[1,2],\n",
    "               [3,4],\n",
    "               [5,6]])\n",
    "\n",
    "print(M1 @ M2)"
   ]
  },
  {
   "cell_type": "markdown",
   "metadata": {},
   "source": [
    "#### 25. Given a 1D array, negate all elements which are between 3 and 8, in place. (★☆☆)"
   ]
  },
  {
   "cell_type": "code",
   "execution_count": 53,
   "metadata": {},
   "outputs": [
    {
     "name": "stdout",
     "output_type": "stream",
     "text": [
      "[ 0  1  2 -3 -4 -5 -6 -7 -8  9 10]\n"
     ]
    }
   ],
   "source": [
    "M = np.arange(11)\n",
    "\n",
    "M[(M >= 3) & (M <= 8)] *= -1\n",
    "print(M)"
   ]
  },
  {
   "cell_type": "markdown",
   "metadata": {},
   "source": [
    "#### 26. What is the output of the following script? (★☆☆)\n",
    "```python\n",
    "# Author: Jake VanderPlas\n",
    "\n",
    "print(sum(range(5),-1))\n",
    "from numpy import *\n",
    "print(sum(range(5),-1))\n",
    "```"
   ]
  },
  {
   "cell_type": "code",
   "execution_count": 54,
   "metadata": {},
   "outputs": [
    {
     "name": "stdout",
     "output_type": "stream",
     "text": [
      "9\n",
      "10\n"
     ]
    }
   ],
   "source": [
    "print(sum(range(5),-1))\n",
    "from numpy import *\n",
    "print(sum(range(5),-1))"
   ]
  },
  {
   "cell_type": "markdown",
   "metadata": {},
   "source": [
    "#### 27. Consider an integer vector Z, which of these expressions are legal? (★☆☆)\n",
    "```python\n",
    "Z**Z\n",
    "2 << Z >> 2\n",
    "Z <- Z\n",
    "1j*Z\n",
    "Z/1/1\n",
    "Z<Z>Z\n",
    "```"
   ]
  },
  {
   "cell_type": "code",
   "execution_count": 58,
   "metadata": {},
   "outputs": [
    {
     "data": {
      "text/plain": [
       "array([0., 0., 0.])"
      ]
     },
     "execution_count": 58,
     "metadata": {},
     "output_type": "execute_result"
    }
   ],
   "source": [
    "Z = np.zeros(3)\n",
    "Z**Z\n",
    "#2 << Z >> 2 illegal :)\n",
    "Z <- Z\n",
    "1j*Z\n",
    "Z/1/1\n",
    "#Z<Z>Z  illegal :)"
   ]
  },
  {
   "cell_type": "markdown",
   "metadata": {},
   "source": [
    "#### 28. What are the result of the following expressions? (★☆☆)\n",
    "```python\n",
    "np.array(0) / np.array(0)\n",
    "np.array(0) // np.array(0)\n",
    "np.array([np.nan]).astype(int).astype(float)\n",
    "```"
   ]
  },
  {
   "cell_type": "code",
   "execution_count": 60,
   "metadata": {},
   "outputs": [
    {
     "name": "stdout",
     "output_type": "stream",
     "text": [
      "nan\n",
      "0\n",
      "[-2.14748365e+09]\n"
     ]
    },
    {
     "name": "stderr",
     "output_type": "stream",
     "text": [
      "C:\\python\\ana\\lib\\site-packages\\ipykernel_launcher.py:1: RuntimeWarning: invalid value encountered in true_divide\n",
      "  \"\"\"Entry point for launching an IPython kernel.\n",
      "C:\\python\\ana\\lib\\site-packages\\ipykernel_launcher.py:2: RuntimeWarning: divide by zero encountered in floor_divide\n",
      "  \n"
     ]
    }
   ],
   "source": [
    "print(np.array(0) / np.array(0))\n",
    "print(np.array(0) // np.array(0))\n",
    "print(np.array([np.nan]).astype(int).astype(float))"
   ]
  },
  {
   "cell_type": "markdown",
   "metadata": {},
   "source": [
    "#### 29. How to round away from zero a float array ? (★☆☆)"
   ]
  },
  {
   "cell_type": "code",
   "execution_count": 68,
   "metadata": {},
   "outputs": [
    {
     "name": "stdout",
     "output_type": "stream",
     "text": [
      "[1. 2. 5.]\n"
     ]
    }
   ],
   "source": [
    "v = np.array([1.1, 2.3, 4.6])\n",
    "print(np.round(v, 0) )"
   ]
  },
  {
   "cell_type": "markdown",
   "metadata": {},
   "source": [
    "#### 30. How to find common values between two arrays? (★☆☆)"
   ]
  },
  {
   "cell_type": "code",
   "execution_count": 69,
   "metadata": {},
   "outputs": [
    {
     "name": "stdout",
     "output_type": "stream",
     "text": [
      "[3 4 5]\n"
     ]
    }
   ],
   "source": [
    "v1 = np.array([1, 2, 3, 4, 5])\n",
    "v2 = np.array([3, 4, 5, 6, 7])\n",
    "\n",
    "print(np.intersect1d(v1, v2))"
   ]
  },
  {
   "cell_type": "markdown",
   "metadata": {},
   "source": [
    "#### 31. How to ignore all numpy warnings (not recommended)? (★☆☆)"
   ]
  },
  {
   "cell_type": "code",
   "execution_count": 74,
   "metadata": {},
   "outputs": [
    {
     "name": "stdout",
     "output_type": "stream",
     "text": [
      "[inf inf inf]\n"
     ]
    }
   ],
   "source": [
    "with np.errstate(all=\"ignore\"):\n",
    "    print(np.ones(3) / 0)"
   ]
  },
  {
   "cell_type": "markdown",
   "metadata": {},
   "source": [
    "#### 32. Is the following expressions true? (★☆☆)\n",
    "```python\n",
    "np.sqrt(-1) == np.emath.sqrt(-1)\n",
    "```"
   ]
  },
  {
   "cell_type": "code",
   "execution_count": 75,
   "metadata": {},
   "outputs": [
    {
     "name": "stdout",
     "output_type": "stream",
     "text": [
      "False\n"
     ]
    }
   ],
   "source": [
    "print(np.sqrt(-1) == np.emath.sqrt(-1))"
   ]
  },
  {
   "cell_type": "markdown",
   "metadata": {},
   "source": [
    "#### 33. How to get the dates of yesterday, today and tomorrow? (★☆☆)"
   ]
  },
  {
   "cell_type": "code",
   "execution_count": 77,
   "metadata": {},
   "outputs": [
    {
     "name": "stdout",
     "output_type": "stream",
     "text": [
      "Yesterday:  2023-04-13\n",
      "Today:  2023-04-14\n",
      "Tomorrow:  2023-04-15\n"
     ]
    }
   ],
   "source": [
    "import datetime \n",
    "\n",
    "yesterday = np.datetime64(datetime.datetime.now(), 'D') - np.timedelta64(1, 'D') \n",
    "today = np.datetime64(datetime.datetime.now(), 'D') \n",
    "tomorrow = np.datetime64(datetime.datetime.now(), 'D') + np.timedelta64(1, 'D') \n",
    "\n",
    "print('Yesterday: ', yesterday) \n",
    "print('Today: ', today) \n",
    "print('Tomorrow: ', tomorrow)"
   ]
  },
  {
   "cell_type": "markdown",
   "metadata": {},
   "source": [
    "#### 34. How to get all the dates corresponding to the month of July 2016? (★★☆)"
   ]
  },
  {
   "cell_type": "code",
   "execution_count": 78,
   "metadata": {},
   "outputs": [
    {
     "name": "stdout",
     "output_type": "stream",
     "text": [
      "['2016-07-01' '2016-07-02' '2016-07-03' '2016-07-04' '2016-07-05'\n",
      " '2016-07-06' '2016-07-07' '2016-07-08' '2016-07-09' '2016-07-10'\n",
      " '2016-07-11' '2016-07-12' '2016-07-13' '2016-07-14' '2016-07-15'\n",
      " '2016-07-16' '2016-07-17' '2016-07-18' '2016-07-19' '2016-07-20'\n",
      " '2016-07-21' '2016-07-22' '2016-07-23' '2016-07-24' '2016-07-25'\n",
      " '2016-07-26' '2016-07-27' '2016-07-28' '2016-07-29' '2016-07-30'\n",
      " '2016-07-31']\n"
     ]
    }
   ],
   "source": [
    "print(np.arange('2016-07-01','2016-08-01', dtype='datetime64[D]'))"
   ]
  },
  {
   "cell_type": "markdown",
   "metadata": {},
   "source": [
    "#### 35. How to compute ((A+B)*(-A/2)) in place (without copy)? (★★☆)"
   ]
  },
  {
   "cell_type": "code",
   "execution_count": 88,
   "metadata": {},
   "outputs": [
    {
     "name": "stdout",
     "output_type": "stream",
     "text": [
      "[[-465. -450. -450. -450. -450.]\n",
      " [-450. -465. -450. -450. -450.]\n",
      " [-450. -450. -465. -450. -450.]\n",
      " [-450. -450. -450. -465. -450.]\n",
      " [-450. -450. -450. -450. -465.]]\n"
     ]
    }
   ],
   "source": [
    "v1, v2 = np.arange(5), np.arange(5)\n",
    "A = v1 @ v2\n",
    "B = np.eye(5)\n",
    "print(np.negative(A / 2) * (A + B))"
   ]
  },
  {
   "cell_type": "markdown",
   "metadata": {},
   "source": [
    "#### 36. Extract the integer part of a random array of positive numbers using 4 different methods (★★☆)"
   ]
  },
  {
   "cell_type": "code",
   "execution_count": 91,
   "metadata": {},
   "outputs": [
    {
     "name": "stdout",
     "output_type": "stream",
     "text": [
      "[4. 7. 9. 8. 3. 1. 4. 6. 2. 9.]\n",
      "[4. 7. 9. 8. 3. 1. 4. 6. 2. 9.]\n",
      "[4. 7. 9. 8. 3. 1. 4. 6. 2. 9.]\n",
      "[4 7 9 8 3 1 4 6 2 9]\n"
     ]
    }
   ],
   "source": [
    "#Method 1:\n",
    "arr = np.random.randint(0, 10, size=10)\n",
    "int_arr = np.floor(arr)\n",
    "print(int_arr) \n",
    "\n",
    "#Method 2: \n",
    "int_arr = np.trunc(arr)\n",
    "print(int_arr) \n",
    "\n",
    "#Method 3: \n",
    "int_arr = np.fix(arr)\n",
    "print(int_arr) \n",
    "\n",
    "#Method 4: \n",
    "int_arr = np.around(arr)\n",
    "print(int_arr)"
   ]
  },
  {
   "cell_type": "markdown",
   "metadata": {},
   "source": [
    "#### 37. Create a 5x5 matrix with row values ranging from 0 to 4 (★★☆)"
   ]
  },
  {
   "cell_type": "code",
   "execution_count": 95,
   "metadata": {},
   "outputs": [
    {
     "name": "stdout",
     "output_type": "stream",
     "text": [
      "[[0. 1. 2. 3. 4.]\n",
      " [0. 1. 2. 3. 4.]\n",
      " [0. 1. 2. 3. 4.]\n",
      " [0. 1. 2. 3. 4.]\n",
      " [0. 1. 2. 3. 4.]]\n"
     ]
    }
   ],
   "source": [
    "M = np.zeros((5,5))\n",
    "M += np.arange(5)\n",
    "print(M)"
   ]
  },
  {
   "cell_type": "markdown",
   "metadata": {},
   "source": [
    "#### 38. Consider a generator function that generates 10 integers and use it to build an array (★☆☆)"
   ]
  },
  {
   "cell_type": "code",
   "execution_count": 96,
   "metadata": {},
   "outputs": [
    {
     "name": "stdout",
     "output_type": "stream",
     "text": [
      "[0 1 2 3 4 5 6 7 8 9]\n"
     ]
    }
   ],
   "source": [
    "def generate_integers():\n",
    "    for i in range(10):\n",
    "        yield i\n",
    "\n",
    "v = np.fromiter(generate_integers(), int)\n",
    "print(v)"
   ]
  },
  {
   "cell_type": "markdown",
   "metadata": {},
   "source": [
    "#### 39. Create a vector of size 10 with values ranging from 0 to 1, both excluded (★★☆)"
   ]
  },
  {
   "cell_type": "code",
   "execution_count": 97,
   "metadata": {},
   "outputs": [
    {
     "name": "stdout",
     "output_type": "stream",
     "text": [
      "[0.1 0.2 0.3 0.4 0.5 0.6 0.7 0.8 0.9]\n"
     ]
    }
   ],
   "source": [
    "v = np.linspace(0,1,11)[1:-1]\n",
    "print(v)"
   ]
  },
  {
   "cell_type": "markdown",
   "metadata": {},
   "source": [
    "#### 40. Create a random vector of size 10 and sort it (★★☆)"
   ]
  },
  {
   "cell_type": "code",
   "execution_count": 101,
   "metadata": {},
   "outputs": [
    {
     "name": "stdout",
     "output_type": "stream",
     "text": [
      "[9 7 7 6 8 6 3 5 3 8]\n",
      "[3 3 5 6 6 7 7 8 8 9]\n"
     ]
    }
   ],
   "source": [
    "v = np.random.randint(0, 10, size=10)\n",
    "print(v)\n",
    "v = np.sort(v)\n",
    "print(v)"
   ]
  },
  {
   "cell_type": "markdown",
   "metadata": {},
   "source": [
    "#### 41. How to sum a small array faster than np.sum? (★★☆)"
   ]
  },
  {
   "cell_type": "code",
   "execution_count": 104,
   "metadata": {},
   "outputs": [
    {
     "name": "stdout",
     "output_type": "stream",
     "text": [
      "12\n"
     ]
    }
   ],
   "source": [
    "def array_sum(arr):\n",
    "    summation = 0\n",
    "    for i in arr:\n",
    "        summation += i\n",
    "    return summation\n",
    "\n",
    "v = [1, 2, 3, 6]\n",
    "print(array_sum(v))"
   ]
  },
  {
   "cell_type": "markdown",
   "metadata": {},
   "source": [
    "#### 42. Consider two random array A and B, check if they are equal (★★☆)"
   ]
  },
  {
   "cell_type": "code",
   "execution_count": 105,
   "metadata": {},
   "outputs": [
    {
     "name": "stdout",
     "output_type": "stream",
     "text": [
      "False\n"
     ]
    }
   ],
   "source": [
    "A = np.random.rand(10)\n",
    "B = np.random.rand(10)\n",
    "\n",
    "print(np.array_equal(A, B))"
   ]
  },
  {
   "cell_type": "markdown",
   "metadata": {},
   "source": [
    "#### 43. Make an array immutable (read-only) (★★☆)"
   ]
  },
  {
   "cell_type": "code",
   "execution_count": 108,
   "metadata": {},
   "outputs": [
    {
     "ename": "ValueError",
     "evalue": "assignment destination is read-only",
     "output_type": "error",
     "traceback": [
      "\u001b[1;31m---------------------------------------------------------------------------\u001b[0m",
      "\u001b[1;31mValueError\u001b[0m                                Traceback (most recent call last)",
      "\u001b[1;32m<ipython-input-108-c0106ba043a4>\u001b[0m in \u001b[0;36m<module>\u001b[1;34m\u001b[0m\n\u001b[0;32m      1\u001b[0m \u001b[0mv\u001b[0m \u001b[1;33m=\u001b[0m \u001b[0mnp\u001b[0m\u001b[1;33m.\u001b[0m\u001b[0mzeros\u001b[0m\u001b[1;33m(\u001b[0m\u001b[1;36m10\u001b[0m\u001b[1;33m)\u001b[0m\u001b[1;33m\u001b[0m\u001b[1;33m\u001b[0m\u001b[0m\n\u001b[0;32m      2\u001b[0m \u001b[0mv\u001b[0m\u001b[1;33m.\u001b[0m\u001b[0mflags\u001b[0m\u001b[1;33m.\u001b[0m\u001b[0mwriteable\u001b[0m \u001b[1;33m=\u001b[0m \u001b[1;32mFalse\u001b[0m\u001b[1;33m\u001b[0m\u001b[1;33m\u001b[0m\u001b[0m\n\u001b[1;32m----> 3\u001b[1;33m \u001b[0mv\u001b[0m\u001b[1;33m[\u001b[0m\u001b[1;36m0\u001b[0m\u001b[1;33m]\u001b[0m \u001b[1;33m=\u001b[0m \u001b[1;36m0\u001b[0m\u001b[1;33m\u001b[0m\u001b[1;33m\u001b[0m\u001b[0m\n\u001b[0m",
      "\u001b[1;31mValueError\u001b[0m: assignment destination is read-only"
     ]
    }
   ],
   "source": [
    "v = np.zeros(10)\n",
    "v.flags.writeable = False\n",
    "v[0] = 0"
   ]
  },
  {
   "cell_type": "markdown",
   "metadata": {},
   "source": [
    "#### 44. Consider a random 10x2 matrix representing cartesian coordinates, convert them to polar coordinates (★★☆)"
   ]
  },
  {
   "cell_type": "code",
   "execution_count": 109,
   "metadata": {},
   "outputs": [
    {
     "name": "stdout",
     "output_type": "stream",
     "text": [
      "[[0.676329   1.15090057]\n",
      " [0.20937617 0.8024577 ]\n",
      " [1.01606759 0.34498498]\n",
      " [0.39213541 0.01159721]\n",
      " [1.08798097 0.75744687]\n",
      " [0.91184284 0.234417  ]\n",
      " [1.06524877 0.99556422]\n",
      " [0.46078115 1.3784542 ]\n",
      " [0.87381845 1.19450979]\n",
      " [0.79247239 1.42146191]]\n"
     ]
    }
   ],
   "source": [
    "cartesian = np.random.random((10,2))\n",
    "\n",
    "x = cartesian[:,0]\n",
    "y = cartesian[:,1]\n",
    "\n",
    "r = np.sqrt(x**2 + y**2)\n",
    "theta = np.arctan2(y,x)\n",
    "\n",
    "polar = np.column_stack((r,theta))\n",
    "print(polar)"
   ]
  },
  {
   "cell_type": "markdown",
   "metadata": {},
   "source": [
    "#### 45. Create random vector of size 10 and replace the maximum value by 0 (★★☆)"
   ]
  },
  {
   "cell_type": "code",
   "execution_count": 111,
   "metadata": {},
   "outputs": [
    {
     "name": "stdout",
     "output_type": "stream",
     "text": [
      "[14 42 91  7 90 46 79 88  3 32]\n",
      "[14 42  0  7 90 46 79 88  3 32]\n"
     ]
    }
   ],
   "source": [
    "v = np.random.randint(100, size=10)\n",
    "print(v)\n",
    "v[v.argmax()] = 0\n",
    "print(v)"
   ]
  },
  {
   "cell_type": "markdown",
   "metadata": {},
   "source": [
    "#### 46. Create a structured array with `x` and `y` coordinates covering the [0,1]x[0,1] area (★★☆)"
   ]
  },
  {
   "cell_type": "code",
   "execution_count": 112,
   "metadata": {},
   "outputs": [
    {
     "name": "stdout",
     "output_type": "stream",
     "text": [
      "[[0.   0.  ]\n",
      " [0.   0.01]\n",
      " [0.   0.02]\n",
      " ...\n",
      " [1.   0.98]\n",
      " [1.   0.99]\n",
      " [1.   1.  ]]\n"
     ]
    }
   ],
   "source": [
    "x_coords = np.arange(0, 1.01, 0.01)\n",
    "y_coords = np.arange(0, 1.01, 0.01)\n",
    "\n",
    "coords = np.array(np.meshgrid(x_coords, y_coords)).T.reshape(-1, 2)\n",
    "print(coords)"
   ]
  },
  {
   "cell_type": "markdown",
   "metadata": {},
   "source": [
    "#### 47. Given two arrays, X and Y, construct the Cauchy matrix C (Cij =1/(xi - yj)) (★★☆)"
   ]
  },
  {
   "cell_type": "code",
   "execution_count": 114,
   "metadata": {},
   "outputs": [
    {
     "name": "stdout",
     "output_type": "stream",
     "text": [
      "[[-0.33333333 -0.25       -0.2       ]\n",
      " [-0.5        -0.33333333 -0.25      ]\n",
      " [-1.         -0.5        -0.33333333]]\n"
     ]
    }
   ],
   "source": [
    "x = np.array([1,2,3])\n",
    "y = np.array([4,5,6])\n",
    "\n",
    "C = 1 / np.subtract.outer(x, y)\n",
    "print(C)"
   ]
  },
  {
   "cell_type": "markdown",
   "metadata": {},
   "source": [
    "#### 48. Print the minimum and maximum representable value for each numpy scalar type (★★☆)"
   ]
  },
  {
   "cell_type": "code",
   "execution_count": 121,
   "metadata": {},
   "outputs": [
    {
     "name": "stdout",
     "output_type": "stream",
     "text": [
      "<class 'numpy.int8'>\n",
      "min: -128\n",
      "max: 127\n",
      "<class 'numpy.int32'>\n",
      "min: -2147483648\n",
      "max: 2147483647\n",
      "<class 'numpy.int64'>\n",
      "min: -9223372036854775808\n",
      "max: 9223372036854775807\n",
      "<class 'numpy.float32'>\n",
      "min: -3.4028235e+38\n",
      "max: 3.4028235e+38\n",
      "epsilon: 1.1920929e-07\n",
      "<class 'numpy.float64'>\n",
      "min: -1.7976931348623157e+308\n",
      "max: 1.7976931348623157e+308\n",
      "epsilon: 2.220446049250313e-16\n"
     ]
    }
   ],
   "source": [
    "for dtype in [np.int8, np.int32, np.int64]:\n",
    "    print(dtype)\n",
    "    print('min:', np.iinfo(dtype).min)\n",
    "    print('max:', np.iinfo(dtype).max)\n",
    "\n",
    "for dtype in [np.float32, np.float64]:\n",
    "    print(dtype)\n",
    "    print('min:', np.finfo(dtype).min)\n",
    "    print('max:', np.finfo(dtype).max)\n",
    "    print('epsilon:', np.finfo(dtype).eps)"
   ]
  },
  {
   "cell_type": "markdown",
   "metadata": {},
   "source": [
    "#### 49. How to print all the values of an array? (★★☆)"
   ]
  },
  {
   "cell_type": "code",
   "execution_count": 123,
   "metadata": {},
   "outputs": [
    {
     "name": "stdout",
     "output_type": "stream",
     "text": [
      "[[1. 0. 0. 0. 0. 0. 0. 0. 0. 0.]\n",
      " [0. 1. 0. 0. 0. 0. 0. 0. 0. 0.]\n",
      " [0. 0. 1. 0. 0. 0. 0. 0. 0. 0.]\n",
      " [0. 0. 0. 1. 0. 0. 0. 0. 0. 0.]\n",
      " [0. 0. 0. 0. 1. 0. 0. 0. 0. 0.]\n",
      " [0. 0. 0. 0. 0. 1. 0. 0. 0. 0.]\n",
      " [0. 0. 0. 0. 0. 0. 1. 0. 0. 0.]\n",
      " [0. 0. 0. 0. 0. 0. 0. 1. 0. 0.]\n",
      " [0. 0. 0. 0. 0. 0. 0. 0. 1. 0.]\n",
      " [0. 0. 0. 0. 0. 0. 0. 0. 0. 1.]]\n"
     ]
    }
   ],
   "source": [
    "M = np.eye(10)\n",
    "print(M)"
   ]
  },
  {
   "cell_type": "markdown",
   "metadata": {},
   "source": [
    "#### 50. How to find the closest value (to a given scalar) in a vector? (★★☆)"
   ]
  },
  {
   "cell_type": "code",
   "execution_count": 125,
   "metadata": {},
   "outputs": [
    {
     "name": "stdout",
     "output_type": "stream",
     "text": [
      "Closest value to 12 is 10\n"
     ]
    }
   ],
   "source": [
    "v = np.array([3, 5, 6, 8, 10, 15, 19])\n",
    "scalar = 12\n",
    "index = np.argmin(np.absolute(v - scalar))\n",
    "closest_value = np.take(v, index)\n",
    "print('Closest value to', scalar, 'is', closest_value)"
   ]
  },
  {
   "cell_type": "markdown",
   "metadata": {},
   "source": [
    "#### 51. Create a structured array representing a position (x,y) and a color (r,g,b) (★★☆)"
   ]
  },
  {
   "cell_type": "code",
   "execution_count": 132,
   "metadata": {},
   "outputs": [
    {
     "name": "stdout",
     "output_type": "stream",
     "text": [
      "[((0., 0.), (0., 0., 0.)) ((0., 0.), (0., 0., 0.))\n",
      " ((0., 0.), (0., 0., 0.)) ((0., 0.), (0., 0., 0.))\n",
      " ((0., 0.), (0., 0., 0.)) ((0., 0.), (0., 0., 0.))]\n"
     ]
    }
   ],
   "source": [
    "M = np.zeros(6, [ ('position', [('x', float, 1),\n",
    "                                 ('y', float, 1)]),\n",
    "                   ('color', [('r', float, 1),\n",
    "                              ('g', float, 1),\n",
    "                              ('b', float, 1)])])\n",
    "print(M)"
   ]
  },
  {
   "cell_type": "markdown",
   "metadata": {},
   "source": [
    "#### 52. Consider a random vector with shape (100,2) representing coordinates, find point by point distances (★★☆)"
   ]
  },
  {
   "cell_type": "code",
   "execution_count": 137,
   "metadata": {},
   "outputs": [
    {
     "name": "stdout",
     "output_type": "stream",
     "text": [
      "[[0.         0.49275668 0.28715557 0.61570494 0.29819819 0.25226884\n",
      "  0.40826753 0.55219486 0.34309671 0.76206065 0.34613712 0.48058565\n",
      "  0.27171297 0.36728717 0.60783883 0.71235737 0.52929159 0.49579961\n",
      "  0.79707468 0.41455028 0.36198328 0.21447675 0.48918497 0.60337152\n",
      "  0.31866796 0.34695299 0.40255452 0.31882844 0.68540731 0.10146492\n",
      "  0.2284096  0.33580049 0.74705358 0.62586364 0.37408005 0.48958149\n",
      "  0.55894738 0.57433709 0.46110235 0.5822471  0.68941891 0.19703683\n",
      "  0.44685915 0.16870521 0.42231572 0.4622967  0.62757738 0.25604696\n",
      "  0.23327062 0.79074601 0.29771116 0.6614843  0.07498265 0.38281536\n",
      "  0.17344269 0.66025857 0.27122377 0.31583243 0.41684225 0.19605062\n",
      "  0.26027269 0.13430234 0.56761363 0.34472538 0.45428323 0.48422729\n",
      "  0.69249933 0.32156499 0.20989702 0.43184925 0.3898508  0.72441545\n",
      "  0.40948868 0.3429863  0.44064429 0.56695252 0.33603314 0.66094597\n",
      "  0.75420458 0.26816964 0.54498995 0.5882072  0.71050056 0.35984022\n",
      "  0.74813106 0.52475187 0.44668009 0.56850188 0.59698162 0.37961658\n",
      "  0.44709407 0.32880627 0.69109339 0.06198837 0.63094583 0.56157103\n",
      "  0.52604771 0.41964254 0.1744618  0.46712458]\n",
      " [0.49275668 0.         0.30960491 0.42606729 0.72883549 0.62723424\n",
      "  0.81367611 0.83470812 0.2815276  0.82431571 0.69730998 0.5684365\n",
      "  0.22149358 0.73479476 0.46351865 0.54205875 0.12639044 0.22739224\n",
      "  0.76789442 0.2423161  0.52047546 0.60307748 0.10674059 0.81197338\n",
      "  0.77634804 0.20470513 0.42391362 0.23772833 0.20880609 0.4503642\n",
      "  0.51559085 0.23789426 0.72697905 0.50369281 0.54424801 0.75204619\n",
      "  1.03379743 0.10787302 0.46787074 0.4543175  0.45455342 0.36338536\n",
      "  0.15736525 0.58054298 0.82991413 0.27036621 0.14108725 0.64721808\n",
      "  0.26083492 0.31221853 0.59666873 0.75938347 0.45000101 0.61154827\n",
      "  0.62469334 0.77532439 0.32634935 0.33227623 0.72933766 0.33687224\n",
      "  0.74347595 0.53713634 0.40285898 0.75854625 0.58026183 0.27783661\n",
      "  0.80381933 0.17333525 0.63829833 0.27508179 0.18426639 0.86564659\n",
      "  0.63193019 0.43705827 0.69523453 0.44486888 0.27023121 0.59974462\n",
      "  0.28382593 0.34381661 0.61821078 0.1926105  0.40101496 0.15394866\n",
      "  0.40561134 0.94699861 0.43104189 0.10113386 0.24168047 0.79861387\n",
      "  0.49252446 0.69240716 0.49303914 0.51824031 0.75313936 0.75221529\n",
      "  0.64000116 0.7713453  0.4301794  0.6907222 ]\n",
      " [0.28715557 0.30960491 0.         0.33327948 0.43814748 0.51638753\n",
      "  0.51146236 0.52837525 0.05714278 0.58621029 0.3901094  0.62886016\n",
      "  0.16234697 0.42846102 0.33352749 0.43849631 0.28500966 0.21732728\n",
      "  0.57636922 0.39316919 0.21979721 0.48091832 0.25269621 0.51882535\n",
      "  0.49511183 0.30163584 0.49959585 0.07190522 0.45203794 0.19876817\n",
      "  0.21142163 0.07460994 0.52770881 0.35875612 0.24338095 0.44634058\n",
      "  0.75461236 0.34887636 0.22570039 0.30990999 0.40438169 0.09147222\n",
      "  0.36383918 0.2998009  0.52769084 0.17628163 0.44801422 0.52690956\n",
      "  0.18634982 0.55146128 0.53146849 0.50141934 0.21594016 0.59192084\n",
      "  0.45867777 0.51116425 0.01983269 0.04233507 0.4197442  0.09453903\n",
      "  0.54169447 0.26344351 0.28621809 0.46061777 0.61932074 0.19791876\n",
      "  0.54275866 0.17065348 0.35512384 0.14523213 0.13768849 0.59590012\n",
      "  0.32744915 0.14232368 0.38885048 0.29475079 0.05450956 0.41780122\n",
      "  0.51004563 0.34904958 0.36028933 0.32725929 0.42390949 0.15823212\n",
      "  0.46332108 0.64536824 0.53184136 0.34487857 0.32297159 0.5003777\n",
      "  0.56723439 0.38701031 0.41085253 0.34075428 0.48483793 0.46110196\n",
      "  0.36657639 0.4626511  0.14446951 0.38894266]\n",
      " [0.61570494 0.42606729 0.33327948 0.         0.68071857 0.84959561\n",
      "  0.71104468 0.60762716 0.28359708 0.4422584  0.58112033 0.92705681\n",
      "  0.44877741 0.61881437 0.05359782 0.11878719 0.30661261 0.20165834\n",
      "  0.3531972  0.63288945 0.35093424 0.8141978  0.31940975 0.53059403\n",
      "  0.74929374 0.55561919 0.78597333 0.33395361 0.40242785 0.51912713\n",
      "  0.46147574 0.31427511 0.31967761 0.09153807 0.36400252 0.53436914\n",
      "  0.9928697  0.3684941  0.20898827 0.06800313 0.07823346 0.41932245\n",
      "  0.56553884 0.57958432 0.72531818 0.18324083 0.50337368 0.86016215\n",
      "  0.49102379 0.45370401 0.86100745 0.41152845 0.54157355 0.91419247\n",
      "  0.78894006 0.43506987 0.34647401 0.30015843 0.5643945  0.42779434\n",
      "  0.85968418 0.55763553 0.04835113 0.68173559 0.92519197 0.16479869\n",
      "  0.45444345 0.42095347 0.62287875 0.20334047 0.30073849 0.52328113\n",
      "  0.43575648 0.30275386 0.49411175 0.07525537 0.29560389 0.19510877\n",
      "  0.41190109 0.65170094 0.30296951 0.26799556 0.15287572 0.36942153\n",
      "  0.20633008 0.83366912 0.80839466 0.37073181 0.21425796 0.71561813\n",
      "  0.85729583 0.58993349 0.07887027 0.67218391 0.42380948 0.47507477\n",
      "  0.34729028 0.62703092 0.45020092 0.46517594]\n",
      " [0.29819819 0.72883549 0.43814748 0.68071857 0.         0.46940674\n",
      "  0.11255264 0.31627562 0.48863874 0.63345136 0.12907613 0.76244228\n",
      "  0.51775554 0.11570218 0.64995761 0.73946187 0.72303687 0.64575053\n",
      "  0.71974736 0.70434254 0.33233225 0.43817929 0.68941646 0.41013322\n",
      "  0.07071375 0.62711148 0.69901319 0.50295196 0.88994243 0.2854031\n",
      "  0.23209778 0.51130748 0.67448402 0.64916446 0.32425984 0.28855975\n",
      "  0.31908886 0.7848149  0.47565715 0.6239225  0.75866064 0.36627908\n",
      "  0.72260393 0.15002975 0.12526651 0.59226418 0.86985587 0.45814656\n",
      "  0.49543427 0.98953393 0.5453374  0.5320316  0.29611558 0.63977008\n",
      "  0.35501404 0.51926426 0.41847617 0.43805089 0.20018147 0.39201074\n",
      "  0.30773817 0.19512198 0.63558364 0.05105587 0.7308076  0.61003335\n",
      "  0.54625432 0.5590924  0.09357494 0.56163689 0.57488006 0.55138079\n",
      "  0.28619475 0.3823211  0.26861363 0.6110154  0.49123207 0.63643762\n",
      "  0.9478562  0.56576605 0.47170671 0.76317771 0.81546726 0.57675466\n",
      "  0.86396949 0.22850861 0.7435053  0.78034727 0.75131105 0.08150404\n",
      "  0.73855959 0.1097755  0.73938539 0.33030547 0.49283738 0.39396505\n",
      "  0.43086875 0.16247199 0.29998662 0.30993123]\n",
      " [0.25226884 0.62723424 0.51638753 0.84959561 0.46940674 0.\n",
      "  0.57904782 0.7699967  0.56721697 1.01177096 0.5601722  0.32592863\n",
      "  0.4362819  0.56980602 0.84808621 0.95323914 0.70245548 0.70186811\n",
      "  1.04931022 0.45062768 0.6139414  0.03780853 0.66120329 0.83808253\n",
      "  0.4522717  0.43062392 0.33069213 0.52647491 0.83547867 0.35269615\n",
      "  0.47757834 0.5458905  0.99927841 0.86962857 0.62525641 0.71860913\n",
      "  0.61620681 0.72795565 0.71042991 0.82341868 0.91925761 0.43432516\n",
      "  0.52082954 0.39186855 0.58902059 0.68121102 0.73877569 0.02467226\n",
      "  0.38793511 0.93945276 0.08746328 0.91019131 0.32442505 0.1793016\n",
      "  0.11444803 0.90737544 0.50416337 0.55172937 0.6370473  0.42200595\n",
      "  0.21795716 0.3725553  0.80259754 0.52042185 0.28692278 0.70322308\n",
      "  0.9392097  0.48377625 0.40831629 0.65348166 0.58611188 0.96642253\n",
      "  0.65329308 0.59321394 0.67570979 0.80809877 0.55669772 0.91099234\n",
      "  0.9097956  0.29325131 0.7969535  0.77057151 0.92561964 0.53553484\n",
      "  0.95647472 0.66342495 0.3708599  0.72133655 0.79246872 0.54399343\n",
      "  0.33332599 0.53982164 0.92722374 0.19028428 0.87809354 0.80189469\n",
      "  0.77655667 0.62264023 0.4250386  0.7068375 ]\n",
      " [0.40826753 0.81367611 0.51146236 0.71104468 0.11255264 0.57904782\n",
      "  0.         0.23777399 0.55646592 0.58903829 0.13093999 0.87498454\n",
      "  0.61075623 0.09229487 0.6736373  0.75333533 0.79459328 0.7061661\n",
      "  0.69341684 0.80808284 0.36189601 0.54882385 0.76397051 0.34850657\n",
      "  0.1367542  0.72775654 0.81024986 0.58051044 0.9613497  0.38390105\n",
      "  0.30009494 0.5860371  0.65216361 0.66597341 0.34713936 0.23797486\n",
      "  0.28886138 0.86024668 0.50206162 0.64890032 0.7871343  0.45105327\n",
      "  0.82070772 0.24991103 0.01625504 0.64893993 0.95452901 0.56662318\n",
      "  0.59319401 1.05733089 0.65657832 0.49304823 0.39857138 0.75122464\n",
      "  0.46463353 0.47574242 0.49258343 0.5034483  0.16171558 0.4801658\n",
      "  0.40361868 0.29470575 0.66925765 0.06354582 0.8432319  0.66445032\n",
      "  0.49848884 0.64852508 0.19905796 0.61998701 0.6490385  0.49056933\n",
      "  0.2828288  0.42872468 0.24136372 0.63762121 0.56160268 0.63563252\n",
      "  1.0145173  0.67437354 0.46319034 0.82755673 0.85458216 0.65989882\n",
      "  0.90546459 0.13390653 0.85460667 0.85632081 0.80926221 0.03622087\n",
      "  0.85078481 0.12690317 0.7610704  0.44260517 0.45265119 0.34808045\n",
      "  0.41693309 0.09930151 0.38444723 0.28248611]\n",
      " [0.55219486 0.83470812 0.52837525 0.60762716 0.31627562 0.7699967\n",
      "  0.23777399 0.         0.55378165 0.36801881 0.21006842 1.03250453\n",
      "  0.67061536 0.20319352 0.55969356 0.61442756 0.77998344 0.67010651\n",
      "  0.49120539 0.89561281 0.31528523 0.73550837 0.75922557 0.12038739\n",
      "  0.36708833 0.80622333 0.94239505 0.59948719 0.93772824 0.48731946\n",
      "  0.35420776 0.59707524 0.45759889 0.53900043 0.29183942 0.08282324\n",
      "  0.49487044 0.85215998 0.41461598 0.5398174  0.6746498  0.50615055\n",
      "  0.88490897 0.38551136 0.23998676 0.60915702 0.96841632 0.76227294\n",
      "  0.67007928 1.02060001 0.8373313  0.28396057 0.51209701 0.92868934\n",
      "  0.65798471 0.26147963 0.51426127 0.50243637 0.13539795 0.53993612\n",
      "  0.62397866 0.4182876  0.57636564 0.27122158 1.00640984 0.61791096\n",
      "  0.27732925 0.69428597 0.3616817  0.58711436 0.65224416 0.25706929\n",
      "  0.20306981 0.3991287  0.1396018  0.5329689  0.56452103 0.47795523\n",
      "  0.97647733 0.79221043 0.31131954 0.79271794 0.76028713 0.68641387\n",
      "  0.8136809  0.29059707 0.98423742 0.84991083 0.75994485 0.27003114\n",
      "  0.99463879 0.23018739 0.63669032 0.60290396 0.24528231 0.14662215\n",
      "  0.26329935 0.15384589 0.45093482 0.14940239]\n",
      " [0.34309671 0.2815276  0.05714278 0.28359708 0.48863874 0.56721697\n",
      "  0.55646592 0.55378165 0.         0.57461125 0.43158045 0.65950438\n",
      "  0.18048432 0.47065983 0.28945904 0.39328165 0.23832963 0.16105764\n",
      "  0.55100483 0.40112565 0.23900936 0.53242565 0.21009247 0.53220661\n",
      "  0.54763498 0.31181331 0.52496239 0.06318339 0.40489053 0.25590535\n",
      "  0.25835584 0.04980989 0.50369473 0.31836014 0.26275679 0.47100889\n",
      "  0.80654275 0.30606383 0.20830477 0.2675537  0.35204512 0.14849544\n",
      "  0.35963577 0.35390995 0.57259951 0.11941092 0.41497793 0.57875133\n",
      "  0.21522615 0.50183026 0.57755014 0.49648047 0.27269812 0.63327504\n",
      "  0.51360939 0.50895483 0.07584896 0.05368353 0.45379206 0.14814078\n",
      "  0.59864185 0.31899763 0.23793952 0.50823769 0.65299762 0.14121414\n",
      "  0.5394689  0.1721659  0.40821567 0.08875483 0.09857404 0.59676134\n",
      "  0.35077345 0.15553585 0.41458802 0.25285305 0.01547699 0.38727955\n",
      "  0.45964344 0.37960785 0.35356548 0.27458372 0.36744607 0.14186325\n",
      "  0.40630397 0.69011192 0.5539861  0.30273786 0.26709899 0.54760249\n",
      "  0.59447354 0.43046526 0.36209407 0.39533595 0.48428227 0.47292572\n",
      "  0.36739632 0.50117529 0.20008832 0.40919472]\n",
      " [0.76206065 0.82431571 0.58621029 0.4422584  0.63345136 1.01177096\n",
      "  0.58903829 0.36801881 0.57461125 0.         0.50463069 1.20355563\n",
      "  0.74801282 0.52212601 0.38989395 0.37839646 0.72404655 0.60410273\n",
      "  0.14669463 0.97538354 0.40348947 0.97414469 0.72274068 0.24764075\n",
      "  0.69851239 0.88510787 1.08248595 0.63725891 0.84281828 0.6670259\n",
      "  0.53430092 0.624067   0.14093967 0.35076071 0.38868946 0.35167918\n",
      "  0.8619031  0.79401117 0.36640873 0.38693119 0.47488415 0.6222963\n",
      "  0.93174385 0.63002261 0.59551439 0.55427679 0.92832368 1.01162758\n",
      "  0.77098095 0.89518408 1.05849706 0.10330744 0.69632671 1.1379258\n",
      "  0.91338111 0.11434586 0.58377556 0.5449152  0.4362171  0.65110289\n",
      "  0.92113295 0.64072401 0.44062711 0.60181223 1.18805612 0.54930189\n",
      "  0.09112673 0.74668367 0.63672749 0.55037909 0.65224845 0.12984295\n",
      "  0.36444485 0.45185767 0.36510696 0.39135965 0.58991792 0.248026\n",
      "  0.85388551 0.92875238 0.22734247 0.70212787 0.57587368 0.71270772\n",
      "  0.62471864 0.65860694 1.11675269 0.7947443  0.65194303 0.61481921\n",
      "  1.14764217 0.52484311 0.42351304 0.82318278 0.14085007 0.24174178\n",
      "  0.23637566 0.49099559 0.60082845 0.32465852]\n",
      " [0.34613712 0.69730998 0.3901094  0.58112033 0.12907613 0.5601722\n",
      "  0.13093999 0.21006842 0.43158045 0.50463069 0.         0.82649931\n",
      "  0.50497092 0.0395777  0.54498292 0.62787968 0.66983587 0.57761683\n",
      "  0.59179667 0.71663207 0.23114469 0.52550181 0.64090906 0.28763052\n",
      "  0.1967118  0.63133446 0.74365941 0.46090126 0.83591846 0.2937932\n",
      "  0.18239613 0.46453241 0.54720909 0.53925154 0.21715883 0.16487747\n",
      "  0.41350484 0.73718297 0.37229144 0.51987967 0.65766272 0.34007013\n",
      "  0.71911191 0.17764262 0.14609542 0.51964531 0.8372126  0.55294883\n",
      "  0.49428879 0.93022053 0.6273762  0.40299781 0.3150017  0.71907155\n",
      "  0.44876232 0.39056943 0.37205073 0.37804523 0.07791044 0.37175728\n",
      "  0.42565011 0.21462748 0.53880414 0.10654315 0.79907889 0.53464079\n",
      "  0.41804135 0.53809276 0.15207665 0.49121797 0.52656585 0.42659157\n",
      "  0.16193647 0.29847657 0.13959854 0.50822552 0.43791755 0.51638716\n",
      "  0.88708952 0.59786924 0.347569   0.69981366 0.72379942 0.54349821\n",
      "  0.77457827 0.26109256 0.78666879 0.73357813 0.679829   0.13546466\n",
      "  0.79224377 0.02134557 0.63313652 0.39421482 0.36391227 0.26631469\n",
      "  0.30467443 0.07805689 0.27580623 0.18085805]\n",
      " [0.48058565 0.5684365  0.62886016 0.92705681 0.76244228 0.32592863\n",
      "  0.87498454 1.03250453 0.65950438 1.20355563 0.82649931 0.\n",
      "  0.48096427 0.84580471 0.94423167 1.04404566 0.68359241 0.7372214\n",
      "  1.20514802 0.32706408 0.80366797 0.34268669 0.64847678 1.07655343\n",
      "  0.76010226 0.37877774 0.14538591 0.5996386  0.76128193 0.55279645\n",
      "  0.69316514 0.61819589 1.15628262 0.9763062  0.82183192 0.9674158\n",
      "  0.94182414 0.67532123 0.85380399 0.92453842 0.98035937 0.58126704\n",
      "  0.41488072 0.64886161 0.88717253 0.74381639 0.62510009 0.34793261\n",
      "  0.44461194 0.85114238 0.23849765 1.10970851 0.52522589 0.1555379\n",
      "  0.42723912 1.11363735 0.62648239 0.67111969 0.89725774 0.55315137\n",
      "  0.54384469 0.61421694 0.88725967 0.81257204 0.04187546 0.76277826\n",
      "  1.14627975 0.50623715 0.68399263 0.72574402 0.62689711 1.18742978\n",
      "  0.87646305 0.75265497 0.91583726 0.91040948 0.64471911 1.04554534\n",
      "  0.83487045 0.2802031  0.97663881 0.75520659 0.95235211 0.55904655\n",
      "  0.96666958 0.97442148 0.1418595  0.66873038 0.79613162 0.84233316\n",
      "  0.07618248 0.80870214 1.00484261 0.43460408 1.08494043 1.02974897\n",
      "  0.97058963 0.89871989 0.60869633 0.93785127]\n",
      " [0.27171297 0.22149358 0.16234697 0.44877741 0.51775554 0.4362819\n",
      "  0.61075623 0.67061536 0.18048432 0.74801282 0.50497092 0.48096427\n",
      "  0.         0.53965684 0.46344711 0.56430839 0.26836242 0.27248979\n",
      "  0.73121283 0.23198354 0.37533279 0.4065668  0.22704362 0.67393228\n",
      "  0.56030143 0.14023043 0.34461563 0.11893961 0.41594281 0.23363011\n",
      "  0.32433639 0.13724358 0.68358089 0.49537007 0.3980729  0.59092149\n",
      "  0.81544807 0.30490195 0.38453887 0.44357415 0.50772679 0.16612615\n",
      "  0.2151865  0.3678     0.62677692 0.26654014 0.35892642 0.45288917\n",
      "  0.04837739 0.52156768 0.42686631 0.66374992 0.23002548 0.46895929\n",
      "  0.41377878 0.67324931 0.16802753 0.20311034 0.55024646 0.133374\n",
      "  0.52613791 0.32304688 0.40727163 0.55211019 0.47690401 0.286918\n",
      "  0.70495215 0.05062008 0.42513485 0.24583414 0.15550923 0.75721959\n",
      "  0.47622147 0.30313949 0.53326234 0.42946665 0.16525494 0.56772683\n",
      "  0.48680066 0.20302596 0.52255835 0.33473091 0.49717623 0.09925462\n",
      "  0.52358118 0.74184373 0.37363644 0.29880217 0.3568102  0.59183168\n",
      "  0.41448552 0.49641141 0.52735012 0.30159816 0.64668012 0.61777379\n",
      "  0.52840282 0.58222392 0.22920114 0.53954995]\n",
      " [0.36728717 0.73479476 0.42846102 0.61881437 0.11570218 0.56980602\n",
      "  0.09229487 0.20319352 0.47065983 0.52212601 0.0395777  0.84580471\n",
      "  0.53965684 0.         0.58177864 0.66286597 0.70896606 0.61717806\n",
      "  0.61623005 0.74784401 0.26967621 0.53627258 0.67974342 0.29455659\n",
      "  0.17656554 0.66375159 0.76799176 0.49893876 0.87517357 0.32309995\n",
      "  0.21926551 0.5029805  0.57290408 0.57489226 0.25486477 0.17361767\n",
      "  0.37808301 0.77604312 0.40984568 0.5569123  0.69502262 0.37574482\n",
      "  0.75301434 0.199107   0.10704415 0.55922264 0.87496657 0.56097819\n",
      "  0.527099   0.96968645 0.64041997 0.4221989  0.34247906 0.73332027\n",
      "  0.45672322 0.40778385 0.41019982 0.4171872  0.08604939 0.40682924\n",
      "  0.42190109 0.23968619 0.57696279 0.07988677 0.81706515 0.57419544\n",
      "  0.43361027 0.57402775 0.16334009 0.53078593 0.56524558 0.43613959\n",
      "  0.1936662  0.33799405 0.16083821 0.54551668 0.47678245 0.5482459\n",
      "  0.92658348 0.62466753 0.37742403 0.73932603 0.7623423  0.58088309\n",
      "  0.81330455 0.22151798 0.81147102 0.77238015 0.71940175 0.10136295\n",
      "  0.81437663 0.04326549 0.66950315 0.41160103 0.38235476 0.28101105\n",
      "  0.33280493 0.05326217 0.31056413 0.20290148]\n",
      " [0.60783883 0.46351865 0.33352749 0.05359782 0.64995761 0.84808621\n",
      "  0.6736373  0.55969356 0.28945904 0.38989395 0.54498292 0.94423167\n",
      "  0.46344711 0.58177864 0.         0.1051602  0.34848789 0.2362634\n",
      "  0.30716707 0.65962182 0.31780173 0.81190589 0.35696655 0.47932285\n",
      "  0.71948706 0.57871353 0.80543722 0.34553771 0.45339197 0.50876225\n",
      "  0.4379203  0.32648751 0.27079686 0.0411528  0.32836892 0.48833844\n",
      "  0.95819131 0.41355386 0.17432157 0.02660557 0.11574212 0.41423499\n",
      "  0.59664014 0.55749982 0.68746507 0.20559769 0.5488392  0.8572342\n",
      "  0.5028746  0.50696706 0.86490215 0.35795855 0.53298406 0.92269136\n",
      "  0.78121542 0.38157944 0.34422638 0.2964214  0.52320286 0.42678658\n",
      "  0.84460874 0.53915458 0.06105838 0.64769738 0.94008006 0.19088234\n",
      "  0.40084563 0.44064134 0.59753295 0.21907397 0.32306188 0.46968611\n",
      "  0.39457957 0.28016094 0.45063446 0.04133774 0.30303418 0.14421279\n",
      "  0.4649595  0.66607803 0.25215598 0.31576782 0.20355835 0.39184969\n",
      "  0.2568133  0.79346497 0.83019349 0.41530427 0.26348506 0.68023656\n",
      "  0.87629467 0.5551498  0.08961362 0.66624334 0.37066995 0.4246668\n",
      "  0.29768322 0.58674627 0.43761376 0.41976146]\n",
      " [0.71235737 0.54205875 0.43849631 0.11878719 0.73946187 0.95323914\n",
      "  0.75333533 0.61442756 0.39328165 0.37839646 0.62787968 1.04404566\n",
      "  0.56430839 0.66286597 0.1051602  0.         0.41987688 0.31990465\n",
      "  0.26286565 0.75167646 0.40810439 0.91703536 0.435826   0.51979713\n",
      "  0.80976181 0.67408097 0.90369374 0.44758254 0.49586084 0.61282156\n",
      "  0.53577766 0.4282034  0.24128099 0.09100075 0.41523974 0.55060727\n",
      "  1.040929   0.4771746  0.26750432 0.13015673 0.10377391 0.51930377\n",
      "  0.68386401 0.65573662 0.76627882 0.30082092 0.61022624 0.96232191\n",
      "  0.60511861 0.53010616 0.96970119 0.37497032 0.63743228 1.02645594\n",
      "  0.88563312 0.40101298 0.44937062 0.40158086 0.59713649 0.53191346\n",
      "  0.94635785 0.63978642 0.15704391 0.732899   1.04119902 0.28314582\n",
      "  0.41281189 0.53845992 0.6929566  0.31853461 0.41876172 0.48079269\n",
      "  0.47068932 0.38022737 0.52051786 0.14547781 0.40645207 0.14269849\n",
      "  0.49174011 0.76731375 0.30386431 0.37341476 0.20271636 0.48759219\n",
      "  0.24815478 0.86705165 0.92671303 0.4801153  0.3178813  0.7632144\n",
      "  0.97490044 0.64000084 0.0527329  0.77105959 0.39762435 0.47134906\n",
      "  0.35264188 0.66181286 0.54118438 0.48520256]\n",
      " [0.52929159 0.12639044 0.28500966 0.30661261 0.72303687 0.70245548\n",
      "  0.79459328 0.77998344 0.23832963 0.72404655 0.66983587 0.68359241\n",
      "  0.26836242 0.70896606 0.34848789 0.41987688 0.         0.12062017\n",
      "  0.65550047 0.36203618 0.46625595 0.67400657 0.04134795 0.74112975\n",
      "  0.77865618 0.30769781 0.53821666 0.22227945 0.16706245 0.46488086\n",
      "  0.49546848 0.21195887 0.61726382 0.38946566 0.48906348 0.69747199\n",
      "  1.03840797 0.07320664 0.38443091 0.34288113 0.32930935 0.36265583\n",
      "  0.28099859 0.58195904 0.81075322 0.17716262 0.20442218 0.72001198\n",
      "  0.31595479 0.26758553 0.68433541 0.6684358  0.47243247 0.71127403\n",
      "  0.68128609 0.68687718 0.30459927 0.29179125 0.6889987  0.34528657\n",
      "  0.78872718 0.54255539 0.28949073 0.74525815 0.69180849 0.17664007\n",
      "  0.7132566  0.21911436 0.63843035 0.19394288 0.14858886 0.7781622\n",
      "  0.57814156 0.38339988 0.64313591 0.33544381 0.23311402 0.48947455\n",
      "  0.2276812  0.43767509 0.53183223 0.07210869 0.27531433 0.17100778\n",
      "  0.28355996 0.92832824 0.54977121 0.07229459 0.11578764 0.78487476\n",
      "  0.60853195 0.668769   0.36967677 0.5668219  0.66730607 0.68093177\n",
      "  0.56042882 0.73857866 0.42569774 0.63157434]\n",
      " [0.49579961 0.22739224 0.21732728 0.20165834 0.64575053 0.70186811\n",
      "  0.7061661  0.67010651 0.16105764 0.60410273 0.57761683 0.7372214\n",
      "  0.27248979 0.61717806 0.2362634  0.31990465 0.12062017 0.\n",
      "  0.5408217  0.43329877 0.3610714  0.66950197 0.12124521 0.62469802\n",
      "  0.70667523 0.36033204 0.59365168 0.17819271 0.26764558 0.41466036\n",
      "  0.41379188 0.16023    0.50072801 0.27630884 0.38271685 0.58835638\n",
      "  0.96459618 0.19276021 0.2661786  0.22712496 0.24387202 0.30705665\n",
      "  0.36396538 0.51445071 0.72204189 0.06095118 0.32493143 0.71623798\n",
      "  0.31954983 0.35427845 0.69875029 0.54787535 0.42899857 0.74049794\n",
      "  0.66141019 0.56649248 0.23663051 0.20809974 0.58802713 0.30023703\n",
      "  0.75465906 0.48004908 0.17548631 0.661831   0.7390447  0.0562004\n",
      "  0.59269856 0.23456285 0.56800267 0.08647358 0.11712361 0.65780456\n",
      "  0.47090686 0.28154869 0.53592727 0.21821722 0.16337272 0.37312531\n",
      "  0.3105846  0.46960114 0.41197846 0.12360385 0.22491053 0.17979397\n",
      "  0.25503826 0.83855546 0.61291897 0.19256725 0.10621157 0.70044129\n",
      "  0.6651899  0.57927079 0.27409414 0.54320143 0.54726821 0.56462511\n",
      "  0.44206748 0.64168843 0.3611434  0.52082136]\n",
      " [0.79707468 0.76789442 0.57636922 0.3531972  0.71974736 1.04931022\n",
      "  0.69341684 0.49120539 0.55100483 0.14669463 0.59179667 1.20514802\n",
      "  0.73121283 0.61623005 0.30716707 0.26286565 0.65550047 0.5408217\n",
      "  0.         0.94733666 0.43738468 1.01153523 0.6620659  0.37331247\n",
      "  0.78848904 0.86075865 1.07474426 0.61377536 0.7531328  0.69692771\n",
      "  0.57823792 0.5975063  0.05007333 0.26608365 0.42974799 0.45746686\n",
      "  0.97613064 0.72054326 0.35163403 0.31369971 0.36594208 0.631663\n",
      "  0.89255527 0.68782361 0.70216749 0.50104013 0.85576649 1.05254238\n",
      "  0.76197299 0.79265351 1.08556011 0.20724565 0.72565119 1.1575409\n",
      "  0.96026572 0.23052881 0.578933   0.53406794 0.53330418 0.65567011\n",
      "  0.98691031 0.68924837 0.36622995 0.69558563 1.19451819 0.49069492\n",
      "  0.22183378 0.719989   0.70575942 0.5054447  0.61192518 0.27474382\n",
      "  0.43524799 0.46071055 0.45542222 0.32310165 0.56639483 0.16872573\n",
      "  0.7536993  0.92541115 0.25729038 0.62117216 0.46558024 0.67803614\n",
      "  0.50992232 0.77822314 1.10484915 0.7223967  0.56732579 0.71476012\n",
      "  1.14322083 0.6100924  0.31373902 0.85906071 0.24637299 0.35020301\n",
      "  0.2906626  0.59413025 0.62555076 0.41337092]\n",
      " [0.41455028 0.2423161  0.39316919 0.63288945 0.70434254 0.45062768\n",
      "  0.80808284 0.89561281 0.40112565 0.97538354 0.71663207 0.32706408\n",
      "  0.23198354 0.74784401 0.65962182 0.75167646 0.36203618 0.43329877\n",
      "  0.94733666 0.         0.60701898 0.43717987 0.33035228 0.90494879\n",
      "  0.73246146 0.09175401 0.18435374 0.3381977  0.4357106  0.42542815\n",
      "  0.54298269 0.35222398 0.9015124  0.69627338 0.62955406 0.81773868\n",
      "  0.97107461 0.34847211 0.60937003 0.64412315 0.67595816 0.39008383\n",
      "  0.0881674  0.55818524 0.82339251 0.4540283  0.30750121 0.47407546\n",
      "  0.22553427 0.52934077 0.39719585 0.89396139 0.40952768 0.38920001\n",
      "  0.48644383 0.90425489 0.39992966 0.43250115 0.77005221 0.35623186\n",
      "  0.61826789 0.51343698 0.59933439 0.74592264 0.34181453 0.46955594\n",
      "  0.93572454 0.229004   0.61129937 0.44376404 0.33739247 0.98892289\n",
      "  0.70564727 0.53486965 0.76046612 0.63165419 0.38572243 0.78004195\n",
      "  0.51010351 0.1635682  0.75189196 0.43236861 0.63585115 0.26967648\n",
      "  0.64539093 0.9328462  0.18873124 0.34192539 0.47700857 0.78386649\n",
      "  0.25092303 0.70497835 0.70725446 0.41014093 0.87800707 0.84931734\n",
      "  0.75974374 0.79468847 0.44563875 0.76930449]\n",
      " [0.36198328 0.52047546 0.21979721 0.35093424 0.33233225 0.6139414\n",
      "  0.36189601 0.31528523 0.23900936 0.40348947 0.23114469 0.80366797\n",
      "  0.37533279 0.26967621 0.31780173 0.40810439 0.46625595 0.3610714\n",
      "  0.43738468 0.60701898 0.         0.57613527 0.44418838 0.29932712\n",
      "  0.40220305 0.51536608 0.68927148 0.28842625 0.62714888 0.26433535\n",
      "  0.14153076 0.28393423 0.38767267 0.31739214 0.02382591 0.23246354\n",
      "  0.64193886 0.53782926 0.14350148 0.29194022 0.42818709 0.22595395\n",
      "  0.58329586 0.25696011 0.37670178 0.300647   0.65317964 0.61609674\n",
      "  0.38663462 0.71509173 0.65613372 0.30647782 0.29360067 0.73447731\n",
      "  0.52288227 0.31002706 0.20898297 0.18905007 0.22788731 0.25785839\n",
      "  0.55633576 0.25277973 0.30782883 0.33083136 0.7863555  0.31263587\n",
      "  0.34265469 0.39013211 0.28708367 0.27569105 0.33722718 0.38725378\n",
      "  0.11230631 0.08384728 0.17702206 0.27941279 0.2504087  0.31778941\n",
      "  0.6712195  0.53439884 0.18302096 0.48466978 0.49268768 0.37523848\n",
      "  0.5436498  0.48877839 0.7264893  0.53536315 0.45804845 0.36484327\n",
      "  0.75140061 0.23907661 0.40711623 0.42382568 0.28148744 0.24247033\n",
      "  0.16765101 0.28504422 0.19738958 0.17043763]\n",
      " [0.21447675 0.60307748 0.48091832 0.8141978  0.43817929 0.03780853\n",
      "  0.54882385 0.73550837 0.53242565 0.97414469 0.52550181 0.34268669\n",
      "  0.4065668  0.53627258 0.81190589 0.91703536 0.67400657 0.66950197\n",
      "  1.01153523 0.43717987 0.57613527 0.         0.63267823 0.80190721\n",
      "  0.42470936 0.41024167 0.33139904 0.49319896 0.81053345 0.31500895\n",
      "  0.43990409 0.51246545 0.96150679 0.83302043 0.58748816 0.68288264\n",
      "  0.60031285 0.70205725 0.67307026 0.78710927 0.8844262  0.39785729\n",
      "  0.50334163 0.35563158 0.55930846 0.6473093  0.71844354 0.04673626\n",
      "  0.35840693 0.91506346 0.10882525 0.87264778 0.28682387 0.20368699\n",
      "  0.08601918 0.86998126 0.46830036 0.51569537 0.60203188 0.38641876\n",
      "  0.20498881 0.3353384  0.76702247 0.4892346  0.3055172  0.66936553\n",
      "  0.90186088 0.45493429 0.37400717 0.61920414 0.55437759 0.9295576\n",
      "  0.61611254 0.55571449 0.63934196 0.77178284 0.52222677 0.87357092\n",
      "  0.88440137 0.27621535 0.75914857 0.74128278 0.89263922 0.50572541\n",
      "  0.92439668 0.63745208 0.37347213 0.69550142 0.7616404  0.5141843\n",
      "  0.34202483 0.50534477 0.89160903 0.1524894  0.8406908  0.76512729\n",
      "  0.7388454  0.58928759 0.3874425  0.67006422]\n",
      " [0.48918497 0.10674059 0.25269621 0.31940975 0.68941646 0.66120329\n",
      "  0.76397051 0.75922557 0.21009247 0.72274068 0.64090906 0.64847678\n",
      "  0.22704362 0.67974342 0.35696655 0.435826   0.04134795 0.12124521\n",
      "  0.6620659  0.33035228 0.44418838 0.63267823 0.         0.72606591\n",
      "  0.74363602 0.27082668 0.50313746 0.18675165 0.20148505 0.42699923\n",
      "  0.46406669 0.17842489 0.6218355  0.39728964 0.46744961 0.6764612\n",
      "  1.00335534 0.09631829 0.37342839 0.34836737 0.35058003 0.32646607\n",
      "  0.25293137 0.54658952 0.78018238 0.16908227 0.21268031 0.67870209\n",
      "  0.27460737 0.3045371  0.64377498 0.66206335 0.43357786 0.67215196\n",
      "  0.64014387 0.67931386 0.27191848 0.26375068 0.66358166 0.3075238\n",
      "  0.74828072 0.50636391 0.29645652 0.71323358 0.65541722 0.17373937\n",
      "  0.70677345 0.17777123 0.60346779 0.17954355 0.11500813 0.7702966\n",
      "  0.5564775  0.3605435  0.62115428 0.33937401 0.20299318 0.49430823\n",
      "  0.26593352 0.39827961 0.52289077 0.11118388 0.3055985  0.13008319\n",
      "  0.31834524 0.89785633 0.51659678 0.09270136 0.14768466 0.75303683\n",
      "  0.57392505 0.63889648 0.38736127 0.52594738 0.65846422 0.66589866\n",
      "  0.54847675 0.71120984 0.39064574 0.61191498]\n",
      " [0.60337152 0.81197338 0.51882535 0.53059403 0.41013322 0.83808253\n",
      "  0.34850657 0.12038739 0.53220661 0.24764075 0.28763052 1.07655343\n",
      "  0.67393228 0.29455659 0.47932285 0.51979713 0.74112975 0.62469802\n",
      "  0.37331247 0.90494879 0.29932712 0.80190721 0.72606591 0.\n",
      "  0.46896975 0.81353979 0.97407646 0.58601382 0.89004363 0.52378726\n",
      "  0.38357324 0.57969273 0.34248273 0.45284651 0.27611826 0.12275358\n",
      "  0.61470494 0.81431453 0.35908442 0.46292085 0.59084931 0.51769354\n",
      "  0.88256247 0.44627741 0.35314419 0.56483252 0.93854795 0.83328905\n",
      "  0.68199175 0.96490856 0.89813142 0.16676442 0.55139086 0.98592205\n",
      "  0.73010747 0.14278829 0.50830522 0.48578661 0.21085597 0.55109376\n",
      "  0.71318859 0.47035797 0.50611199 0.37112317 1.05410073 0.56962419\n",
      "  0.15697517 0.68936646 0.43597272 0.54763942 0.6277551  0.14251688\n",
      "  0.20225706 0.3784688  0.16301261 0.45876834 0.54509009 0.37872055\n",
      "  0.92098966 0.82020328 0.22769055 0.74335057 0.68283223 0.67211101\n",
      "  0.73613314 0.41096621 1.01371217 0.81296529 0.70443294 0.37756711\n",
      "  1.03167584 0.30897229 0.54830582 0.65960821 0.13048302 0.06020783\n",
      "  0.18628529 0.25438885 0.47328192 0.13915931]\n",
      " [0.31866796 0.77634804 0.49511183 0.74929374 0.07071375 0.4522717\n",
      "  0.1367542  0.36708833 0.54763498 0.69851239 0.1967118  0.76010226\n",
      "  0.56030143 0.17656554 0.71948706 0.80976181 0.77865618 0.70667523\n",
      "  0.78848904 0.73246146 0.40220305 0.42470936 0.74363602 0.46896975\n",
      "  0.         0.66020908 0.7095656  0.55691647 0.94494199 0.326821\n",
      "  0.29522848 0.56675031 0.74369185 0.71934338 0.39467258 0.34970495\n",
      "  0.25975898 0.83806022 0.54528443 0.69334946 0.8273683  0.41764659\n",
      "  0.7581151  0.1971811  0.14258763 0.65481609 0.91679891 0.43785235\n",
      "  0.53338275 1.04601811 0.53348263 0.59803933 0.33215007 0.62838539\n",
      "  0.33896051 0.58416905 0.47529162 0.49857613 0.26261493 0.44045228\n",
      "  0.26735594 0.23932646 0.70372047 0.09786899 0.72601061 0.67323526\n",
      "  0.61017308 0.60432652 0.14022656 0.62379332 0.63007612 0.61125205\n",
      "  0.35615246 0.44920816 0.33509966 0.68026915 0.54904826 0.70712125\n",
      "  1.00498995 0.585651   0.54189669 0.82196364 0.88209406 0.62653299\n",
      "  0.92994378 0.21438489 0.75437583 0.83330506 0.81268342 0.10073636\n",
      "  0.74312881 0.1786703  0.80900164 0.33866598 0.55841965 0.45757417\n",
      "  0.50048549 0.21538668 0.35304385 0.37688309]\n",
      " [0.34695299 0.20470513 0.30163584 0.55561919 0.62711148 0.43062392\n",
      "  0.72775654 0.80622333 0.31181331 0.88510787 0.63133446 0.37877774\n",
      "  0.14023043 0.66375159 0.57871353 0.67408097 0.30769781 0.36033204\n",
      "  0.86075865 0.09175401 0.51536608 0.41024167 0.27082668 0.81353979\n",
      "  0.66020908 0.         0.23400435 0.24865108 0.41238345 0.34385564\n",
      "  0.45502504 0.26367652 0.81428486 0.6140491  0.53796703 0.72770279\n",
      "  0.90585291 0.31163596 0.51962201 0.56176711 0.60418495 0.30012006\n",
      "  0.10047478 0.47868482 0.74335527 0.37378393 0.30830583 0.45210224\n",
      "  0.13724568 0.51359513 0.3934677  0.80274946 0.33099865 0.40734186\n",
      "  0.44514038 0.81279383 0.30818686 0.34131374 0.6822483  0.26630186\n",
      "  0.57272444 0.43348246 0.51932204 0.66652388 0.38459985 0.39093575\n",
      "  0.84433975 0.14076993 0.53357031 0.36051053 0.25577998 0.89724801\n",
      "  0.61472023 0.44317139 0.67027255 0.54872891 0.29634706 0.69444344\n",
      "  0.48769415 0.14034871 0.66092038 0.37979307 0.57359752 0.18689458\n",
      "  0.58909739 0.85505525 0.25294003 0.30484827 0.41810723 0.70521807\n",
      "  0.30542156 0.620634   0.63186346 0.35352795 0.78644433 0.75772442\n",
      "  0.66816893 0.709316   0.35781292 0.67829291]\n",
      " [0.40255452 0.42391362 0.49959585 0.78597333 0.69901319 0.33069213\n",
      "  0.81024986 0.94239505 0.52496239 1.08248595 0.74365941 0.14538591\n",
      "  0.34461563 0.76799176 0.80543722 0.90369374 0.53821666 0.59365168\n",
      "  1.07474426 0.18435374 0.68927148 0.33139904 0.50313746 0.97407646\n",
      "  0.7095656  0.23400435 0.         0.46344728 0.62005286 0.455164\n",
      "  0.59231889 0.48127576 1.02660001 0.83878237 0.70915771 0.87174873\n",
      "  0.92014084 0.53121335 0.72525395 0.78669863 0.83726332 0.46346981\n",
      "  0.2725164  0.56895841 0.82394356 0.60291629 0.48873303 0.3553461\n",
      "  0.31325423 0.71278778 0.25577509 0.99218449 0.43048119 0.21891206\n",
      "  0.4036663  0.99827371 0.49965106 0.54186738 0.80900861 0.43263246\n",
      "  0.53412979 0.52912729 0.74745121 0.74672997 0.15746425 0.62127444\n",
      "  1.03074235 0.36524921 0.61242749 0.58639491 0.48525862 1.07629697\n",
      "  0.77194469 0.63076941 0.81740085 0.7729201  0.50981256 0.91223631\n",
      "  0.69435559 0.15487883 0.85517765 0.60986513 0.80731237 0.41680049\n",
      "  0.82129198 0.92190098 0.044825   0.52457393 0.65080783 0.78048401\n",
      "  0.07153995 0.72789653 0.86320641 0.37108234 0.97019375 0.92367862\n",
      "  0.85357086 0.8194439  0.50087119 0.83496823]\n",
      " [0.31882844 0.23772833 0.07190522 0.33395361 0.50295196 0.52647491\n",
      "  0.58051044 0.59948719 0.06318339 0.63725891 0.46090126 0.5996386\n",
      "  0.11893961 0.49893876 0.34553771 0.44758254 0.22227945 0.17819271\n",
      "  0.61377536 0.3381977  0.28842625 0.49319896 0.18675165 0.58601382\n",
      "  0.55691647 0.24865108 0.46344728 0.         0.38804083 0.2444414\n",
      "  0.28060358 0.01982607 0.56665283 0.37670655 0.31220573 0.51722287\n",
      "  0.81665574 0.2818631  0.27118287 0.32508632 0.39730421 0.14040984\n",
      "  0.29958746 0.35994489 0.59676191 0.15585947 0.37652144 0.53989822\n",
      "  0.15753692 0.48985689 0.52968484 0.55772005 0.2550463  0.58026376\n",
      "  0.48321926 0.56944238 0.08891548 0.10028313 0.49164392 0.12567096\n",
      "  0.57868383 0.32027627 0.29070732 0.52805838 0.59460121 0.17758083\n",
      "  0.60031137 0.10947711 0.41672968 0.13091148 0.07422961 0.65634867\n",
      "  0.39780946 0.20756947 0.45989373 0.31083137 0.04770819 0.44927884\n",
      "  0.44972462 0.32063513 0.41500876 0.27281829 0.39948085 0.08701003\n",
      "  0.43284735 0.71435642 0.4916328  0.27743    0.27816984 0.56801191\n",
      "  0.53342159 0.45708562 0.41281757 0.36504636 0.54420965 0.52749218\n",
      "  0.42660592 0.53407954 0.20389794 0.45853067]\n",
      " [0.68540731 0.20880609 0.45203794 0.40242785 0.88994243 0.83547867\n",
      "  0.9613497  0.93772824 0.40489053 0.84281828 0.83591846 0.76128193\n",
      "  0.41594281 0.87517357 0.45339197 0.49586084 0.16706245 0.26764558\n",
      "  0.7531328  0.4357106  0.62714888 0.81053345 0.20148505 0.89004363\n",
      "  0.94494199 0.41238345 0.62005286 0.38804083 0.         0.62785038\n",
      "  0.66248137 0.37866605 0.72186398 0.49354141 0.64930151 0.85587632\n",
      "  1.20469044 0.11113233 0.5309915  0.45625707 0.39300533 0.52794803\n",
      "  0.34758028 0.74797861 0.97748807 0.32858376 0.15123804 0.85511402\n",
      "  0.46034378 0.10563442 0.80528637 0.8004485  0.63324537 0.8170977\n",
      "  0.82790501 0.82131704 0.47159189 0.45809465 0.85244123 0.50860428\n",
      "  0.94203313 0.7078481  0.40316995 0.91230616 0.7775171  0.32104746\n",
      "  0.84492597 0.36533994 0.80473612 0.35153192 0.31512157 0.91224634\n",
      "  0.73792076 0.54568579 0.8030003  0.45323888 0.40010154 0.59728205\n",
      "  0.07535352 0.55223114 0.67149287 0.14672683 0.30453525 0.32636881\n",
      "  0.28199583 1.09499804 0.62023403 0.11714478 0.19137142 0.95190262\n",
      "  0.68517896 0.83529928 0.44316655 0.71748836 0.80476346 0.83023034\n",
      "  0.70543714 0.90358908 0.5918999  0.78846398]\n",
      " [0.10146492 0.4503642  0.19876817 0.51912713 0.2854031  0.35269615\n",
      "  0.38390105 0.48731946 0.25590535 0.6670259  0.2937932  0.55279645\n",
      "  0.23363011 0.32309995 0.50876225 0.61282156 0.46488086 0.41466036\n",
      "  0.69692771 0.42542815 0.26433535 0.31500895 0.42699923 0.52378726\n",
      "  0.326821   0.34385564 0.455164   0.2444414  0.62785038 0.\n",
      "  0.1404261  0.25855258 0.64686786 0.52555882 0.2783631  0.41711962\n",
      "  0.5834336  0.5183988  0.35966503 0.4829053  0.59416887 0.10767062\n",
      "  0.43766338 0.1355894  0.3995148  0.3748561  0.59035669 0.35731586\n",
      "  0.21018359 0.73153577 0.39180408 0.56794675 0.02930169 0.47153745\n",
      "  0.27321816 0.56851414 0.18073619 0.22160057 0.35470976 0.11959432\n",
      "  0.34371819 0.09032614 0.47082885 0.32289123 0.53118296 0.39629706\n",
      "  0.60103522 0.27770026 0.1921305  0.34355301 0.3184917  0.63730113\n",
      "  0.32406558 0.24152161 0.3638823  0.46766506 0.25148489 0.55949171\n",
      "  0.69250056 0.3054817  0.44676613 0.51719615 0.62157437 0.30347331\n",
      "  0.66194068 0.51201697 0.49692372 0.51317526 0.51908849 0.36190552\n",
      "  0.50925481 0.28065058 0.59330696 0.16296226 0.53931634 0.47744277\n",
      "  0.43065295 0.37150458 0.07301372 0.38506514]\n",
      " [0.2284096  0.51559085 0.21142163 0.46147574 0.23209778 0.47757834\n",
      "  0.30009494 0.35420776 0.25835584 0.53430092 0.18239613 0.69316514\n",
      "  0.32433639 0.21926551 0.4379203  0.53577766 0.49546848 0.41379188\n",
      "  0.57823792 0.54298269 0.14153076 0.43990409 0.46406669 0.38357324\n",
      "  0.29522848 0.45502504 0.59231889 0.28060358 0.66248137 0.1404261\n",
      "  0.         0.28596201 0.52870557 0.44497737 0.14899365 0.27998463\n",
      "  0.55115975 0.56028779 0.26878499 0.41132433 0.53964192 0.15844476\n",
      "  0.53932548 0.11996486 0.31633377 0.36023932 0.65593351 0.4781529\n",
      "  0.31793213 0.76018365 0.52598406 0.4332308  0.16860996 0.60914509\n",
      "  0.38264935 0.43186738 0.19248849 0.2066185  0.22722817 0.19100964\n",
      "  0.41624566 0.11125408 0.41439897 0.24992682 0.67154419 0.37825692\n",
      "  0.46414433 0.35589408 0.16187262 0.32954532 0.34907704 0.49781502\n",
      "  0.18375453 0.15875872 0.22508397 0.39712323 0.26238145 0.45720451\n",
      "  0.71796079 0.4399043  0.32207145 0.53221822 0.58836086 0.36165558\n",
      "  0.63538959 0.43399792 0.63302715 0.55629945 0.51923306 0.28942856\n",
      "  0.6484452  0.17683023 0.5270967  0.28902986 0.40255815 0.33710526\n",
      "  0.29905238 0.25852911 0.09734609 0.24469491]\n",
      " [0.33580049 0.23789426 0.07460994 0.31427511 0.51130748 0.5458905\n",
      "  0.5860371  0.59707524 0.04980989 0.624067   0.46453241 0.61819589\n",
      "  0.13724358 0.5029805  0.32648751 0.4282034  0.21195887 0.16023\n",
      "  0.5975063  0.35222398 0.28393423 0.51246545 0.17842489 0.57969273\n",
      "  0.56675031 0.26367652 0.48127576 0.01982607 0.37866605 0.25855258\n",
      "  0.28596201 0.         0.55073005 0.35812649 0.30776007 0.51452254\n",
      "  0.82648726 0.27445268 0.25766655 0.30635284 0.37747876 0.15269379\n",
      "  0.30984559 0.37026129 0.60226918 0.13609043 0.37470393 0.55914615\n",
      "  0.17696899 0.47928316 0.54949412 0.54629025 0.27054248 0.59998804\n",
      "  0.5014023  0.55871036 0.0935505  0.09491163 0.49229216 0.14110195\n",
      "  0.59522391 0.33168892 0.27125522 0.53482931 0.61359325 0.15785665\n",
      "  0.58926243 0.12326959 0.42653315 0.11113589 0.06357678 0.64636587\n",
      "  0.3946047  0.20157746 0.45752299 0.29222322 0.03516556 0.43226361\n",
      "  0.4385214  0.33959053 0.40337447 0.25903329 0.38036616 0.09273209\n",
      "  0.41436933 0.7199436  0.50878836 0.27037311 0.26174341 0.57465627\n",
      "  0.55148801 0.46160383 0.39313079 0.38309377 0.53394458 0.5207256\n",
      "  0.41687037 0.53658523 0.21396258 0.45436496]\n",
      " [0.74705358 0.72697905 0.52770881 0.31967761 0.67448402 0.99927841\n",
      "  0.65216361 0.45759889 0.50369473 0.14093967 0.54720909 1.15628262\n",
      "  0.68358089 0.57290408 0.27079686 0.24128099 0.61726382 0.50072801\n",
      "  0.05007333 0.9015124  0.38767267 0.96150679 0.6218355  0.34248273\n",
      "  0.74369185 0.81428486 1.02660001 0.56665283 0.72186398 0.64686786\n",
      "  0.52870557 0.55073005 0.         0.22974765 0.38044547 0.4182703\n",
      "  0.93688184 0.68389661 0.30251646 0.27438899 0.34142897 0.58189951\n",
      "  0.84843844 0.63902783 0.66148881 0.45840691 0.81919113 1.00257339\n",
      "  0.71360092 0.76662626 1.03551867 0.1760088  0.67558329 1.10767967\n",
      "  0.91051967 0.20135421 0.52988274 0.48538043 0.491157   0.60615687\n",
      "  0.93841494 0.63979971 0.32790119 0.6518394  1.14530542 0.44919637\n",
      "  0.19913084 0.67356429 0.65803954 0.46118585 0.56730456 0.25964804\n",
      "  0.38900926 0.41076146 0.4124543  0.28251663 0.5191279  0.12779523\n",
      "  0.72657505 0.87674056 0.20858296 0.58649417 0.44232942 0.63268617\n",
      "  0.48929215 0.74141823 1.05715435 0.68543253 0.53365012 0.67231208\n",
      "  1.09481744 0.56506611 0.2892587  0.80903784 0.21264823 0.3135543\n",
      "  0.24405007 0.55306077 0.57547746 0.37054861]\n",
      " [0.62586364 0.50369281 0.35875612 0.09153807 0.64916446 0.86962857\n",
      "  0.66597341 0.53900043 0.31836014 0.35076071 0.53925154 0.9763062\n",
      "  0.49537007 0.57489226 0.0411528  0.09100075 0.38946566 0.27630884\n",
      "  0.26608365 0.69627338 0.31739214 0.83302043 0.39728964 0.45284651\n",
      "  0.71934338 0.6140491  0.83878237 0.37670655 0.49354141 0.52555882\n",
      "  0.44497737 0.35812649 0.22974765 0.         0.32515353 0.4708088\n",
      "  0.95268341 0.4547051  0.17652281 0.05228312 0.13808959 0.43533252\n",
      "  0.6349294  0.56494213 0.67926673 0.24265981 0.58999158 0.87783065\n",
      "  0.53322723 0.54478293 0.88978926 0.32386828 0.55088219 0.95017865\n",
      "  0.79874062 0.34825284 0.36783259 0.31977056 0.51185364 0.45035978\n",
      "  0.85658896 0.54965232 0.10083935 0.64367481 0.9710045  0.22923862\n",
      "  0.36586599 0.47494764 0.60195633 0.2535621  0.35903248 0.43485292\n",
      "  0.38416191 0.29024773 0.43683893 0.06590676 0.33256925 0.1037411\n",
      "  0.50321637 0.69719802 0.22825511 0.35675132 0.23377842 0.42749434\n",
      "  0.2861319  0.78232394 0.86457543 0.45644539 0.30416777 0.67470731\n",
      "  0.90933127 0.55078924 0.09794452 0.6853548  0.339292   0.40019965\n",
      "  0.27571488 0.57617256 0.45334039 0.40353113]\n",
      " [0.37408005 0.54424801 0.24338095 0.36400252 0.32425984 0.62525641\n",
      "  0.34713936 0.29183942 0.26275679 0.38868946 0.21715883 0.82183192\n",
      "  0.3980729  0.25486477 0.32836892 0.41523974 0.48906348 0.38271685\n",
      "  0.42974799 0.62955406 0.02382591 0.58748816 0.46744961 0.27611826\n",
      "  0.39467258 0.53796703 0.70915771 0.31220573 0.64930151 0.2783631\n",
      "  0.14899365 0.30776007 0.38044547 0.32515353 0.         0.20903756\n",
      "  0.62987621 0.56082785 0.15513382 0.30299579 0.44052275 0.24643489\n",
      "  0.60669148 0.2596705  0.36158143 0.32208017 0.67674517 0.62657128\n",
      "  0.40835603 0.73639901 0.66984931 0.28995642 0.30766026 0.74961244\n",
      "  0.53164264 0.29205631 0.2322557  0.21287541 0.20808928 0.27883287\n",
      "  0.55959893 0.25959535 0.32223947 0.31937101 0.8037713  0.33341511\n",
      "  0.32470541 0.41357135 0.28536566 0.2977696  0.36090703 0.36715081\n",
      "  0.08910707 0.10743215 0.15407468 0.29113534 0.27421511 0.31793006\n",
      "  0.69245974 0.55429064 0.17310986 0.50625436 0.50818977 0.3990395\n",
      "  0.55967093 0.47205034 0.7468145  0.55843218 0.4785071  0.35204932\n",
      "  0.77061424 0.22678286 0.41709754 0.43561901 0.26319617 0.21976334\n",
      "  0.15231799 0.26694901 0.21387177 0.14661441]\n",
      " [0.48958149 0.75204619 0.44634058 0.53436914 0.28855975 0.71860913\n",
      "  0.23797486 0.08282324 0.47100889 0.35167918 0.16487747 0.9674158\n",
      "  0.59092149 0.17361767 0.48833844 0.55060727 0.69747199 0.58835638\n",
      "  0.45746686 0.81773868 0.23246354 0.68288264 0.6764612  0.12275358\n",
      "  0.34970495 0.72770279 0.87174873 0.51722287 0.85587632 0.41711962\n",
      "  0.27998463 0.51452254 0.4182703  0.4708088  0.20903756 0.\n",
      "  0.51878901 0.76954289 0.33616562 0.46711595 0.60397451 0.42768832\n",
      "  0.8045511  0.32779256 0.2455206  0.52741193 0.88559688 0.71299487\n",
      "  0.59235156 0.93981872 0.78119385 0.25512727 0.44329833 0.87051739\n",
      "  0.60937218 0.23793294 0.43259859 0.41980308 0.08849281 0.46154086\n",
      "  0.59045728 0.35540968 0.50075964 0.25202476 0.94309344 0.53668744\n",
      "  0.26177291 0.61320333 0.31401859 0.5048969  0.56944916 0.26284808\n",
      "  0.12025766 0.31630593 0.05775448 0.45922407 0.48182964 0.41950231\n",
      "  0.89571518 0.71984568 0.24730094 0.71126376 0.68628288 0.60420029\n",
      "  0.73948566 0.32484898 0.91280858 0.76725013 0.67957191 0.26314906\n",
      "  0.92628975 0.18622    0.56874426 0.54368266 0.21471596 0.11016533\n",
      "  0.19841254 0.13935891 0.37518258 0.06970575]\n",
      " [0.55894738 1.03379743 0.75461236 0.9928697  0.31908886 0.61620681\n",
      "  0.28886138 0.49487044 0.80654275 0.8619031  0.41350484 0.94182414\n",
      "  0.81544807 0.37808301 0.95819131 1.040929   1.03840797 0.96459618\n",
      "  0.97613064 0.97107461 0.64193886 0.60031285 1.00335534 0.61470494\n",
      "  0.25975898 0.90585291 0.92014084 0.81665574 1.20469044 0.5834336\n",
      "  0.55115975 0.82648726 0.93688184 0.95268341 0.62987621 0.51878901\n",
      "  0.         1.09762397 0.78475679 0.93287105 1.07003661 0.67718953\n",
      "  1.00551847 0.45678869 0.27738022 0.91135302 1.17363696 0.59518383\n",
      "  0.78521188 1.30573247 0.70363378 0.77163469 0.58553148 0.79370979\n",
      "  0.51907473 0.75180612 0.73480904 0.75666159 0.44980162 0.69921789\n",
      "  0.39839102 0.49805962 0.9492265  0.31116784 0.90312785 0.92907414\n",
      "  0.77082093 0.86097259 0.39998406 0.88070463 0.88983147 0.75065938\n",
      "  0.57121213 0.69938583 0.52942217 0.92088427 0.80837277 0.92448978\n",
      "  1.26461104 0.81528305 0.75188911 1.08108044 1.13176751 0.88531244\n",
      "  1.18111356 0.20686988 0.96440573 1.09281481 1.07029321 0.27805507\n",
      "  0.94079145 0.40314394 1.04657639 0.5625785  0.73140183 0.6264977\n",
      "  0.70526457 0.38563601 0.61279843 0.569859  ]\n",
      " [0.57433709 0.10787302 0.34887636 0.3684941  0.7848149  0.72795565\n",
      "  0.86024668 0.85215998 0.30606383 0.79401117 0.73718297 0.67532123\n",
      "  0.30490195 0.77604312 0.41355386 0.4771746  0.07320664 0.19276021\n",
      "  0.72054326 0.34847211 0.53782926 0.70205725 0.09631829 0.81431453\n",
      "  0.83806022 0.31163596 0.53121335 0.2818631  0.11113233 0.5183988\n",
      "  0.56028779 0.27445268 0.68389661 0.4547051  0.56082785 0.76954289\n",
      "  1.09762397 0.         0.457555   0.41011995 0.38109684 0.42043746\n",
      "  0.26164446 0.64088656 0.87646248 0.25027395 0.13530192 0.74706769\n",
      "  0.34966387 0.21669962 0.70142271 0.74047862 0.52296273 0.71890234\n",
      "  0.7174233  0.75924082 0.36800018 0.35974725 0.7589933  0.39961856\n",
      "  0.83093539 0.59991334 0.35623399 0.80925814 0.68785985 0.24895547\n",
      "  0.78530175 0.25428608 0.69804459 0.26696056 0.21121598 0.85055747\n",
      "  0.64993493 0.45456838 0.71483351 0.40370262 0.29926935 0.55634135\n",
      "  0.1826984  0.44945611 0.60459648 0.10496268 0.31271408 0.2157933\n",
      "  0.30898867 0.9941392  0.53684865 0.00678797 0.16040065 0.84910262\n",
      "  0.59926824 0.73521476 0.42550176 0.60648943 0.73997684 0.75411405\n",
      "  0.63357095 0.80723741 0.48542706 0.70403292]\n",
      " [0.46110235 0.46787074 0.22570039 0.20898827 0.47565715 0.71042991\n",
      "  0.50206162 0.41461598 0.20830477 0.36640873 0.37229144 0.85380399\n",
      "  0.38453887 0.40984568 0.17432157 0.26750432 0.38443091 0.2661786\n",
      "  0.35163403 0.60937003 0.14350148 0.67307026 0.37342839 0.35908442\n",
      "  0.54528443 0.51962201 0.72525395 0.27118287 0.5309915  0.35966503\n",
      "  0.26878499 0.25766655 0.30251646 0.17652281 0.15513382 0.33616562\n",
      "  0.78475679 0.457555   0.         0.14844721 0.2854032  0.28222169\n",
      "  0.5659107  0.38870574 0.51633344 0.20728115 0.58566337 0.71642125\n",
      "  0.41200194 0.60817548 0.73947416 0.29226506 0.38679893 0.80800616\n",
      "  0.63178863 0.30748624 0.22736641 0.18339498 0.35711731 0.3045667\n",
      "  0.68248954 0.37511359 0.16862046 0.47388419 0.84288421 0.21069415\n",
      "  0.33637552 0.38046325 0.42553707 0.19407662 0.28884489 0.39781783\n",
      "  0.22921218 0.11845112 0.29046848 0.13613197 0.22366851 0.20071971\n",
      "  0.56408944 0.5744709  0.15034494 0.38433645 0.35548665 0.34680165\n",
      "  0.40779905 0.62525079 0.75698632 0.45667516 0.34709817 0.50709754\n",
      "  0.792901   0.38161682 0.26373614 0.52220319 0.28546091 0.29923957\n",
      "  0.17602944 0.41888514 0.28665146 0.26654244]\n",
      " [0.5822471  0.4543175  0.30990999 0.06800313 0.6239225  0.82341868\n",
      "  0.64890032 0.5398174  0.2675537  0.38693119 0.51987967 0.92453842\n",
      "  0.44357415 0.5569123  0.02660557 0.13015673 0.34288113 0.22712496\n",
      "  0.31369971 0.64412315 0.29194022 0.78710927 0.34836737 0.46292085\n",
      "  0.69334946 0.56176711 0.78669863 0.32508632 0.45625707 0.4829053\n",
      "  0.41132433 0.30635284 0.27438899 0.05228312 0.30299579 0.46711595\n",
      "  0.93287105 0.41011995 0.14844721 0.         0.13872644 0.38929061\n",
      "  0.58340903 0.53089486 0.66285383 0.19082243 0.54531407 0.83230341\n",
      "  0.4819628  0.51467613 0.84137246 0.34822642 0.50734203 0.90029976\n",
      "  0.7555632  0.37097127 0.32000734 0.27205679 0.49962341 0.4026245\n",
      "  0.81820041 0.51261552 0.05400201 0.62218543 0.91960765 0.17817391\n",
      "  0.39188587 0.4226979  0.57101365 0.20127954 0.3068209  0.46034222\n",
      "  0.37091504 0.25356437 0.42799685 0.01533146 0.2815097  0.14659527\n",
      "  0.47202027 0.64569809 0.23523524 0.31540486 0.22087566 0.37523505\n",
      "  0.27433001 0.76961244 0.81234032 0.41144809 0.26509974 0.65500964\n",
      "  0.85731528 0.52975286 0.11603379 0.64090344 0.35832202 0.40715423\n",
      "  0.27929626 0.56286216 0.41155457 0.39813675]\n",
      " [0.68941891 0.45455342 0.40438169 0.07823346 0.75866064 0.91925761\n",
      "  0.7871343  0.6746498  0.35204512 0.47488415 0.65766272 0.98035937\n",
      "  0.50772679 0.69502262 0.11574212 0.10377391 0.32930935 0.24387202\n",
      "  0.36594208 0.67595816 0.42818709 0.8844262  0.35058003 0.59084931\n",
      "  0.8273683  0.60418495 0.83726332 0.39730421 0.39300533 0.59416887\n",
      "  0.53964192 0.37747876 0.34142897 0.13808959 0.44052275 0.60397451\n",
      "  1.07003661 0.38109684 0.2854032  0.13872644 0.         0.49248276\n",
      "  0.60283544 0.65756593 0.80121204 0.2419562  0.5119551  0.93068686\n",
      "  0.5521278  0.4267122  0.92685607 0.459257   0.61581832 0.97612138\n",
      "  0.86222839 0.48426983 0.4187673  0.37361873 0.63833519 0.49876723\n",
      "  0.93590122 0.63504375 0.12555535 0.75900249 0.98095847 0.22096014\n",
      "  0.49998209 0.47516129 0.70109559 0.26691846 0.35456309 0.56886221\n",
      "  0.50963238 0.38094771 0.56628051 0.14951315 0.362782   0.22941343\n",
      "  0.38804256 0.70920625 0.36528473 0.27626137 0.10107589 0.42146429\n",
      "  0.15062068 0.90833202 0.85677797 0.38459422 0.22069825 0.79249003\n",
      "  0.90880083 0.66694122 0.05230448 0.7448109  0.47663159 0.53767815\n",
      "  0.41189385 0.70158213 0.52623426 0.5354854 ]\n",
      " [0.19703683 0.36338536 0.09147222 0.41932245 0.36627908 0.43432516\n",
      "  0.45105327 0.50615055 0.14849544 0.6222963  0.34007013 0.58126704\n",
      "  0.16612615 0.37574482 0.41423499 0.51930377 0.36265583 0.30705665\n",
      "  0.631663   0.39008383 0.22595395 0.39785729 0.32646607 0.51769354\n",
      "  0.41764659 0.30012006 0.46346981 0.14040984 0.52794803 0.10767062\n",
      "  0.15844476 0.15269379 0.58189951 0.43533252 0.24643489 0.42768832\n",
      "  0.67718953 0.42043746 0.28222169 0.38929061 0.49248276 0.\n",
      "  0.38129726 0.22046549 0.46725159 0.26775371 0.50446233 0.44302086\n",
      "  0.16498133 0.63020294 0.4577891  0.52946999 0.12465131 0.52607285\n",
      "  0.36978612 0.53491039 0.07438715 0.11916407 0.38417146 0.03385368\n",
      "  0.45022336 0.17994859 0.37144034 0.39518314 0.56660551 0.28937569\n",
      "  0.56742596 0.19830765 0.27777024 0.23666657 0.21451848 0.61319602\n",
      "  0.3165614  0.17232829 0.37038229 0.37396103 0.14381711 0.48213108\n",
      "  0.59013318 0.30865011 0.39543153 0.41170504 0.51524103 0.21053201\n",
      "  0.55477748 0.58395364 0.50053979 0.41565978 0.41177082 0.43524652\n",
      "  0.52646346 0.33267385 0.49550871 0.25289835 0.50674648 0.46416077\n",
      "  0.3905218  0.41682244 0.06680163 0.38036137]\n",
      " [0.44685915 0.15736525 0.36383918 0.56553884 0.72260393 0.52082954\n",
      "  0.82070772 0.88490897 0.35963577 0.93174385 0.71911191 0.41488072\n",
      "  0.2151865  0.75301434 0.59664014 0.68386401 0.28099859 0.36396538\n",
      "  0.89255527 0.0881674  0.58329586 0.50334163 0.25293137 0.88256247\n",
      "  0.7581151  0.10047478 0.2725164  0.29958746 0.34758028 0.43766338\n",
      "  0.53932548 0.30984559 0.84843844 0.6349294  0.60669148 0.8045511\n",
      "  1.00551847 0.26164446 0.5659107  0.58340903 0.60283544 0.38129726\n",
      "  0.         0.5731989  0.83650997 0.39272314 0.22300955 0.54330416\n",
      "  0.22758671 0.44203513 0.47487295 0.85605687 0.4271037  0.47410673\n",
      "  0.54316182 0.86853562 0.37449702 0.39908397 0.76543244 0.34832477\n",
      "  0.671956   0.52790656 0.53567791 0.76039802 0.4299721  0.40581602\n",
      "  0.89910462 0.19320493 0.62905417 0.38726521 0.28134865 0.95587169\n",
      "  0.68818506 0.50553238 0.74680572 0.57195548 0.34488495 0.72402229\n",
      "  0.42207657 0.22763106 0.71310692 0.34956384 0.5562522  0.21911355\n",
      "  0.56275847 0.94967877 0.27535082 0.2552003  0.3967554  0.7995486\n",
      "  0.33870091 0.70975382 0.63732952 0.45388279 0.84360882 0.82493942\n",
      "  0.72616513 0.79666939 0.44343674 0.75088297]\n",
      " [0.16870521 0.58054298 0.2998009  0.57958432 0.15002975 0.39186855\n",
      "  0.24991103 0.38551136 0.35390995 0.63002261 0.17764262 0.64886161\n",
      "  0.3678     0.199107   0.55749982 0.65573662 0.58195904 0.51445071\n",
      "  0.68782361 0.55818524 0.25696011 0.35563158 0.54658952 0.44627741\n",
      "  0.1971811  0.47868482 0.56895841 0.35994489 0.74797861 0.1355894\n",
      "  0.11996486 0.37026129 0.63902783 0.56494213 0.2596705  0.32779256\n",
      "  0.45678869 0.64088656 0.38870574 0.53089486 0.65756593 0.22046549\n",
      "  0.5731989  0.         0.26521425 0.46553476 0.72136292 0.38779842\n",
      "  0.34576945 0.84947835 0.45354342 0.5269581  0.14866196 0.54371381\n",
      "  0.28589111 0.52130879 0.27998165 0.30733069 0.25023372 0.24387718\n",
      "  0.29992878 0.04529293 0.53205839 0.1879288  0.62155577 0.48510084\n",
      "  0.55234073 0.40973143 0.05775568 0.43402805 0.43338163 0.57557671\n",
      "  0.26608643 0.27761524 0.28385828 0.5165662  0.35415333 0.57465508\n",
      "  0.80876892 0.42726576 0.43054544 0.62705736 0.70185725 0.42973073\n",
      "  0.74722577 0.37654652 0.61254673 0.63612437 0.62066042 0.22655119\n",
      "  0.61554197 0.16010129 0.64648259 0.21740793 0.49232215 0.41082117\n",
      "  0.40095002 0.2510921  0.15630039 0.31593794]\n",
      " [0.42231572 0.82991413 0.52769084 0.72531818 0.12526651 0.58902059\n",
      "  0.01625504 0.23998676 0.57259951 0.59551439 0.14609542 0.88717253\n",
      "  0.62677692 0.10704415 0.68746507 0.76627882 0.81075322 0.72204189\n",
      "  0.70216749 0.82339251 0.37670178 0.55930846 0.78018238 0.35314419\n",
      "  0.14258763 0.74335527 0.82394356 0.59676191 0.97748807 0.3995148\n",
      "  0.31633377 0.60226918 0.66148881 0.67926673 0.36158143 0.2455206\n",
      "  0.27738022 0.87646248 0.51633344 0.66285383 0.80121204 0.46725159\n",
      "  0.83650997 0.26521425 0.         0.66470224 0.97077311 0.5761188\n",
      "  0.60896809 1.0733694  0.66734996 0.50059164 0.41386491 0.76210542\n",
      "  0.47470833 0.48269183 0.50882185 0.51954922 0.17242517 0.49630361\n",
      "  0.40994265 0.31012832 0.6837962  0.07788947 0.85507696 0.68011372\n",
      "  0.50471796 0.66466854 0.21362515 0.63582598 0.66525719 0.49467817\n",
      "  0.29559991 0.44425157 0.25206909 0.651707   0.57778195 0.64736953\n",
      "  1.03052805 0.68887783 0.47455395 0.84352953 0.8693378  0.6761434\n",
      "  0.92034222 0.11767905 0.86836505 0.8725435  0.82501111 0.04514396\n",
      "  0.86382547 0.14278162 0.7746543  0.4555693  0.46017391 0.35531034\n",
      "  0.42789232 0.1085905  0.40062846 0.29273403]\n",
      " [0.4622967  0.27036621 0.17628163 0.18324083 0.59226418 0.68121102\n",
      "  0.64893993 0.60915702 0.11941092 0.55427679 0.51964531 0.74381639\n",
      "  0.26654014 0.55922264 0.20559769 0.30082092 0.17716262 0.06095118\n",
      "  0.50104013 0.4540283  0.300647   0.6473093  0.16908227 0.56483252\n",
      "  0.65481609 0.37378393 0.60291629 0.15585947 0.32858376 0.3748561\n",
      "  0.36023932 0.13609043 0.45840691 0.24265981 0.32208017 0.52741193\n",
      "  0.91135302 0.25027395 0.20728115 0.19082243 0.2419562  0.26775371\n",
      "  0.39272314 0.46553476 0.66470224 0.         0.37949539 0.69389604\n",
      "  0.31027088 0.41444615 0.68549377 0.49322175 0.39209919 0.73426627\n",
      "  0.63200757 0.51088463 0.19415078 0.15845553 0.52799497 0.26669723\n",
      "  0.71797313 0.43360761 0.14560165 0.60623029 0.74220427 0.02210731\n",
      "  0.53797689 0.23775803 0.51748235 0.03166599 0.11806173 0.60203708\n",
      "  0.41009527 0.22219503 0.47508862 0.17923646 0.12658145 0.33231553\n",
      "  0.37059538 0.46906068 0.35509536 0.18420552 0.24823209 0.18696931\n",
      "  0.28708645 0.7807336  0.62606851 0.2494312  0.16033499 0.64441115\n",
      "  0.67417759 0.52207127 0.26126939 0.51357918 0.49068207 0.50469102\n",
      "  0.38329946 0.58241741 0.31580478 0.45988027]\n",
      " [0.62757738 0.14108725 0.44801422 0.50337368 0.86985587 0.73877569\n",
      "  0.95452901 0.96841632 0.41497793 0.92832368 0.8372126  0.62510009\n",
      "  0.35892642 0.87496657 0.5488392  0.61022624 0.20442218 0.32493143\n",
      "  0.85576649 0.30750121 0.65317964 0.71844354 0.21268031 0.93854795\n",
      "  0.91679891 0.30830583 0.48873303 0.37652144 0.15123804 0.59035669\n",
      "  0.65593351 0.37470393 0.81919113 0.58999158 0.67674517 0.88559688\n",
      "  1.17363696 0.13530192 0.58566337 0.54531407 0.5119551  0.50446233\n",
      "  0.22300955 0.72136292 0.97077311 0.37949539 0.         0.76039037\n",
      "  0.39430887 0.22686077 0.69704397 0.8723245  0.58877055 0.69642879\n",
      "  0.74909845 0.89033233 0.46543282 0.46743034 0.86697906 0.4778545\n",
      "  0.87245136 0.67775292 0.49146959 0.89960416 0.64508503 0.38072068\n",
      "  0.91712721 0.31267802 0.77911602 0.39211279 0.3164042  0.98151922\n",
      "  0.76534804 0.5693378  0.82946284 0.53867824 0.40514317 0.69161158\n",
      "  0.21666192 0.44650786 0.73452086 0.23684231 0.43560207 0.2946307\n",
      "  0.42243127 1.08794318 0.48324072 0.13388518 0.29234748 0.93967322\n",
      "  0.54975065 0.83275628 0.55809015 0.64815931 0.87012796 0.87840901\n",
      "  0.76103404 0.91059055 0.57125171 0.82235492]\n",
      " [0.25604696 0.64721808 0.52690956 0.86016215 0.45814656 0.02467226\n",
      "  0.56662318 0.76227294 0.57875133 1.01162758 0.55294883 0.34793261\n",
      "  0.45288917 0.56097819 0.8572342  0.96232191 0.72001198 0.71623798\n",
      "  1.05254238 0.47407546 0.61609674 0.04673626 0.67870209 0.83328905\n",
      "  0.43785235 0.45210224 0.3553461  0.53989822 0.85511402 0.35731586\n",
      "  0.4781529  0.55914615 1.00257339 0.87783065 0.62657128 0.71299487\n",
      "  0.59518383 0.74706769 0.71642125 0.83230341 0.93068686 0.44302086\n",
      "  0.54330416 0.38779842 0.5761188  0.69389604 0.76039037 0.\n",
      "  0.40466236 0.95938106 0.10966444 0.90959778 0.32966209 0.19878999\n",
      "  0.10430223 0.9060655  0.51401616 0.56124535 0.63026715 0.43237561\n",
      "  0.19681092 0.37116231 0.81287545 0.50901887 0.308392   0.71596007\n",
      "  0.93769462 0.50102035 0.40087355 0.66569694 0.60108144 0.96326205\n",
      "  0.65132207 0.59865679 0.67146757 0.81697284 0.56867339 0.91665942\n",
      "  0.92920696 0.31567482 0.7989329  0.7875488  0.93935123 0.55209507\n",
      "  0.97112841 0.64753251 0.39542399 0.74048202 0.80824477 0.5312458\n",
      "  0.35725077 0.53233953 0.93741635 0.19436306 0.87683454 0.79854894\n",
      "  0.77715559 0.61351058 0.43013187 0.70357662]\n",
      " [0.23327062 0.26083492 0.18634982 0.49102379 0.49543427 0.38793511\n",
      "  0.59319401 0.67007928 0.21522615 0.77098095 0.49428879 0.44461194\n",
      "  0.04837739 0.527099   0.5028746  0.60511861 0.31595479 0.31954983\n",
      "  0.76197299 0.22553427 0.38663462 0.35840693 0.27460737 0.68199175\n",
      "  0.53338275 0.13724568 0.31325423 0.15753692 0.46034378 0.21018359\n",
      "  0.31793213 0.17696899 0.71360092 0.53322723 0.40835603 0.59235156\n",
      "  0.78521188 0.34966387 0.41200194 0.4819628  0.5521278  0.16498133\n",
      "  0.22758671 0.34576945 0.60896809 0.31027088 0.39430887 0.40466236\n",
      "  0.         0.56594247 0.37925903 0.68324296 0.20124652 0.42400181\n",
      "  0.36781466 0.69108763 0.18721211 0.22861315 0.54515496 0.13121642\n",
      "  0.48305876 0.30049141 0.44821485 0.53281367 0.43781966 0.33118083\n",
      "  0.72322706 0.09696226 0.40197434 0.28768606 0.20242626 0.77263393\n",
      "  0.4813967  0.32078569 0.53519063 0.46749416 0.20071447 0.60102213\n",
      "  0.53213066 0.16447644 0.54406742 0.38288938 0.5444275  0.147606\n",
      "  0.57155393 0.72214763 0.34589387 0.34340342 0.40514219 0.57199654\n",
      "  0.38124817 0.48391392 0.56982831 0.25786797 0.66374299 0.62757111\n",
      "  0.54587956 0.57222502 0.22064708 0.54517579]\n",
      " [0.79074601 0.31221853 0.55146128 0.45370401 0.98953393 0.93945276\n",
      "  1.05733089 1.02060001 0.50183026 0.89518408 0.93022053 0.85114238\n",
      "  0.52156768 0.96968645 0.50696706 0.53010616 0.26758553 0.35427845\n",
      "  0.79265351 0.52934077 0.71509173 0.91506346 0.3045371  0.96490856\n",
      "  1.04601811 0.51359513 0.71278778 0.48985689 0.10563442 0.73153577\n",
      "  0.76018365 0.47928316 0.76662626 0.54478293 0.73639901 0.93981872\n",
      "  1.30573247 0.21669962 0.60817548 0.51467613 0.4267122  0.63020294\n",
      "  0.44203513 0.84947835 1.0733694  0.41444615 0.22686077 0.95938106\n",
      "  0.56594247 0.         0.90705346 0.86285949 0.73769075 0.91514625\n",
      "  0.93341784 0.88527655 0.57119834 0.55417416 0.94229652 0.61204948\n",
      "  1.04763456 0.81012608 0.46442129 1.01006043 0.86987531 0.40339701\n",
      "  0.90655637 0.47096043 0.90580984 0.4404999  0.41610687 0.97499742\n",
      "  0.82395008 0.63575814 0.88875871 0.51440183 0.49838296 0.64718961\n",
      "  0.04412647 0.65388703 0.74127636 0.23084862 0.32809867 0.43131719\n",
      "  0.29034499 1.19051819 0.70934751 0.22276554 0.26108233 1.04936989\n",
      "  0.77548721 0.93072593 0.47893152 0.82312175 0.8711803  0.90586833\n",
      "  0.77879955 0.99567838 0.69318885 0.87126398]\n",
      " [0.29771116 0.59666873 0.53146849 0.86100745 0.5453374  0.08746328\n",
      "  0.65657832 0.8373313  0.57755014 1.05849706 0.6273762  0.23849765\n",
      "  0.42686631 0.64041997 0.86490215 0.96970119 0.68433541 0.69875029\n",
      "  1.08556011 0.39719585 0.65613372 0.10882525 0.64377498 0.89813142\n",
      "  0.53348263 0.3934677  0.25577509 0.52968484 0.80528637 0.39180408\n",
      "  0.52598406 0.54949412 1.03551867 0.88978926 0.66984931 0.78119385\n",
      "  0.70363378 0.70142271 0.73947416 0.84137246 0.92685607 0.4577891\n",
      "  0.47487295 0.45354342 0.66734996 0.68549377 0.69704397 0.10966444\n",
      "  0.37925903 0.90705346 0.         0.95860398 0.36253306 0.09491837\n",
      "  0.19481297 0.95783878 0.52199109 0.57004707 0.70279717 0.43961351\n",
      "  0.30542034 0.42801167 0.81544535 0.59634859 0.19950391 0.70707399\n",
      "  0.99012833 0.47016177 0.47727229 0.65998823 0.58164203 1.02176816\n",
      "  0.70692758 0.62525058 0.73512269 0.82619673 0.56541803 0.93981758\n",
      "  0.88045516 0.25317637 0.83829613 0.75476437 0.92365509 0.52437747\n",
      "  0.95031915 0.74626503 0.29284996 0.69467305 0.78222742 0.6222072\n",
      "  0.24963239 0.60773143 0.93962107 0.23882034 0.92853361 0.85835413\n",
      "  0.8221574  0.69362744 0.46085792 0.76355325]\n",
      " [0.6614843  0.75938347 0.50141934 0.41152845 0.5320316  0.91019131\n",
      "  0.49304823 0.28396057 0.49648047 0.10330744 0.40299781 1.10970851\n",
      "  0.66374992 0.4221989  0.35795855 0.37497032 0.6684358  0.54787535\n",
      "  0.20724565 0.89396139 0.30647782 0.87264778 0.66206335 0.16676442\n",
      "  0.59803933 0.80274946 0.99218449 0.55772005 0.8004485  0.56794675\n",
      "  0.4332308  0.54629025 0.1760088  0.32386828 0.28995642 0.25512727\n",
      "  0.77163469 0.74047862 0.29226506 0.34822642 0.459257   0.52946999\n",
      "  0.85605687 0.5269581  0.50059164 0.49322175 0.8723245  0.90959778\n",
      "  0.68324296 0.86285949 0.95860398 0.         0.5972056  1.03943053\n",
      "  0.81081334 0.02658446 0.49690787 0.46146803 0.33677934 0.55959429\n",
      "  0.81788538 0.53848707 0.39895963 0.50207187 1.0928091  0.49179639\n",
      "  0.04482395 0.66692484 0.53346798 0.4844596  0.58105583 0.11215325\n",
      "  0.26119555 0.36245952 0.26341797 0.34875398 0.51138459 0.23267097\n",
      "  0.82005898 0.83768418 0.14296115 0.65566234 0.55744162 0.63739658\n",
      "  0.60929005 0.5717861  1.02781909 0.74043285 0.60940969 0.5171189\n",
      "  1.05592146 0.42293144 0.41153244 0.72225873 0.04041779 0.1454282\n",
      "  0.13911937 0.39409177 0.50354401 0.22237991]\n",
      " [0.07498265 0.45000101 0.21594016 0.54157355 0.29611558 0.32442505\n",
      "  0.39857138 0.51209701 0.27269812 0.69632671 0.3150017  0.52522589\n",
      "  0.23002548 0.34247906 0.53298406 0.63743228 0.47243247 0.42899857\n",
      "  0.72565119 0.40952768 0.29360067 0.28682387 0.43357786 0.55139086\n",
      "  0.33215007 0.33099865 0.43048119 0.2550463  0.63324537 0.02930169\n",
      "  0.16860996 0.27054248 0.67558329 0.55088219 0.30766026 0.44329833\n",
      "  0.58553148 0.52296273 0.38679893 0.50734203 0.61581832 0.12465131\n",
      "  0.4271037  0.14866196 0.41386491 0.39209919 0.58877055 0.32966209\n",
      "  0.20124652 0.73769075 0.36253306 0.5972056  0.         0.44232562\n",
      "  0.24823182 0.59767032 0.19900341 0.24228109 0.37853952 0.12948291\n",
      "  0.32609515 0.10415128 0.49339243 0.33644741 0.50300496 0.41382405\n",
      "  0.63017645 0.27666801 0.20259391 0.36116665 0.32825237 0.66603249\n",
      "  0.35236437 0.26901836 0.39077586 0.49205469 0.26691108 0.58700578\n",
      "  0.69950816 0.28287135 0.47594313 0.52746307 0.63983745 0.3072004\n",
      "  0.67891629 0.52422167 0.47278516 0.51750508 0.53220369 0.37466514\n",
      "  0.48309582 0.30071546 0.61658134 0.13540908 0.56845903 0.5057098\n",
      "  0.45995326 0.39213069 0.1006187  0.41292289]\n",
      " [0.38281536 0.61154827 0.59192084 0.91419247 0.63977008 0.1793016\n",
      "  0.75122464 0.92868934 0.63327504 1.1379258  0.71907155 0.1555379\n",
      "  0.46895929 0.73332027 0.92269136 1.02645594 0.71127403 0.74049794\n",
      "  1.1575409  0.38920001 0.73447731 0.20368699 0.67215196 0.98592205\n",
      "  0.62838539 0.40734186 0.21891206 0.58026376 0.8170977  0.47153745\n",
      "  0.60914509 0.59998804 1.10767967 0.95017865 0.74961244 0.87051739\n",
      "  0.79370979 0.71890234 0.80800616 0.90029976 0.97612138 0.52607285\n",
      "  0.47410673 0.54371381 0.76210542 0.73426627 0.69642879 0.19878999\n",
      "  0.42400181 0.91514625 0.09491837 1.03943053 0.44232562 0.\n",
      "  0.28960374 1.03996199 0.58477768 0.63236987 0.79372855 0.50405726\n",
      "  0.39548491 0.5156848  0.87027578 0.6907409  0.11394649 0.75516462\n",
      "  1.07244282 0.50668731 0.5699993  0.71110079 0.62412276 1.10668049\n",
      "  0.79184148 0.69704236 0.82301008 0.88536789 0.62000606 1.0068204\n",
      "  0.89238764 0.27398981 0.91494645 0.7830765  0.96402284 0.56175139\n",
      "  0.98636983 0.84102596 0.24549085 0.71211663 0.81589223 0.71696147\n",
      "  0.18813874 0.69974137 0.99306206 0.326835   1.01073179 0.944304\n",
      "  0.90170264 0.7865737  0.53736547 0.8499364 ]\n",
      " [0.17344269 0.62469334 0.45867777 0.78894006 0.35501404 0.11444803\n",
      "  0.46463353 0.65798471 0.51360939 0.91338111 0.44876232 0.42723912\n",
      "  0.41377878 0.45672322 0.78121542 0.88563312 0.68128609 0.66141019\n",
      "  0.96026572 0.48644383 0.52288227 0.08601918 0.64014387 0.73010747\n",
      "  0.33896051 0.44514038 0.4036663  0.48321926 0.82790501 0.27321816\n",
      "  0.38264935 0.5014023  0.91051967 0.79874062 0.53164264 0.60937218\n",
      "  0.51907473 0.7174233  0.63178863 0.7555632  0.86222839 0.36978612\n",
      "  0.54316182 0.28589111 0.47470833 0.63200757 0.74909845 0.10430223\n",
      "  0.36781466 0.93341784 0.19481297 0.81081334 0.24823182 0.28960374\n",
      "  0.         0.8063009  0.44353601 0.48886985 0.52617997 0.36549579\n",
      "  0.13298491 0.27305346 0.74091008 0.40601234 0.39081055 0.6540721\n",
      "  0.83763257 0.46413635 0.29669017 0.60219148 0.55048094 0.86134739\n",
      "  0.55108953 0.51334194 0.56881112 0.74027986 0.50542878 0.83033472\n",
      "  0.89994398 0.32289179 0.70469307 0.74493607 0.88003845 0.51036818\n",
      "  0.91571388 0.55145263 0.44726305 0.7111249  0.75924278 0.42965\n",
      "  0.42174871 0.42810451 0.86450873 0.11846639 0.7771712  0.69657647\n",
      "  0.68046708 0.50931989 0.34583766 0.60178613]\n",
      " [0.66025857 0.77532439 0.51116425 0.43506987 0.51926426 0.90737544\n",
      "  0.47574242 0.26147963 0.50895483 0.11434586 0.39056943 1.11363735\n",
      "  0.67324931 0.40778385 0.38157944 0.40101298 0.68687718 0.56649248\n",
      "  0.23052881 0.90425489 0.31002706 0.86998126 0.67931386 0.14278829\n",
      "  0.58416905 0.81279383 0.99827371 0.56944238 0.82131704 0.56851414\n",
      "  0.43186738 0.55871036 0.20135421 0.34825284 0.29205631 0.23793294\n",
      "  0.75180612 0.75924082 0.30748624 0.37097127 0.48426983 0.53491039\n",
      "  0.86853562 0.52130879 0.48269183 0.51088463 0.89033233 0.9060655\n",
      "  0.69108763 0.88527655 0.95783878 0.02658446 0.59767032 1.03996199\n",
      "  0.8063009  0.         0.50570343 0.47197204 0.32189471 0.56573304\n",
      "  0.80915512 0.53498564 0.42097814 0.48748725 1.09582727 0.51031693\n",
      "  0.03265122 0.67826432 0.52501907 0.50088198 0.59558634 0.09132991\n",
      "  0.25528221 0.37065272 0.25120066 0.37089148 0.52365067 0.25853995\n",
      "  0.84230046 0.8435289  0.15715445 0.6760254  0.58199286 0.65042337\n",
      "  0.63405123 0.55064126 1.03458912 0.75902379 0.63058734 0.50091703\n",
      "  1.0611682  0.41091245 0.43695528 0.72051888 0.02931728 0.12778466\n",
      "  0.14520909 0.37728629 0.50589502 0.21130559]\n",
      " [0.27122377 0.32634935 0.01983269 0.34647401 0.41847617 0.50416337\n",
      "  0.49258343 0.51426127 0.07584896 0.58377556 0.37205073 0.62648239\n",
      "  0.16802753 0.41019982 0.34422638 0.44937062 0.30459927 0.23663051\n",
      "  0.578933   0.39992966 0.20898297 0.46830036 0.27191848 0.50830522\n",
      "  0.47529162 0.30818686 0.49965106 0.08891548 0.47159189 0.18073619\n",
      "  0.19248849 0.0935505  0.52988274 0.36783259 0.2322557  0.43259859\n",
      "  0.73480904 0.36800018 0.22736641 0.32000734 0.4187673  0.07438715\n",
      "  0.37449702 0.27998165 0.50882185 0.19415078 0.46543282 0.51401616\n",
      "  0.18721211 0.57119834 0.52199109 0.49690787 0.19900341 0.58477768\n",
      "  0.44353601 0.50570343 0.         0.04806207 0.40345964 0.08261991\n",
      "  0.52417577 0.24379656 0.29893786 0.44131569 0.61566406 0.21556095\n",
      "  0.5375772  0.18154551 0.3352936  0.16281682 0.15693799 0.58921736\n",
      "  0.31450378 0.13519684 0.3749515  0.30474411 0.07424082 0.42276687\n",
      "  0.52982984 0.34754688 0.35697469 0.34708381 0.44107823 0.17376236\n",
      "  0.48122015 0.62648603 0.53306919 0.36391969 0.34242992 0.48112297\n",
      "  0.56637453 0.36852392 0.42341429 0.32606118 0.47890148 0.45121884\n",
      "  0.36066398 0.44518628 0.12479958 0.37668166]\n",
      " [0.31583243 0.33227623 0.04233507 0.30015843 0.43805089 0.55172937\n",
      "  0.5034483  0.50243637 0.05368353 0.5449152  0.37804523 0.67111969\n",
      "  0.20311034 0.4171872  0.2964214  0.40158086 0.29179125 0.20809974\n",
      "  0.53406794 0.43250115 0.18905007 0.51569537 0.26375068 0.48578661\n",
      "  0.49857613 0.34131374 0.54186738 0.10028313 0.45809465 0.22160057\n",
      "  0.2066185  0.09491163 0.48538043 0.31977056 0.21287541 0.41980308\n",
      "  0.75666159 0.35974725 0.18339498 0.27205679 0.37361873 0.11916407\n",
      "  0.39908397 0.30733069 0.51954922 0.15845553 0.46743034 0.56124535\n",
      "  0.22861315 0.55417416 0.57004707 0.46146803 0.24228109 0.63236987\n",
      "  0.48886985 0.47197204 0.04806207 0.         0.40040876 0.13063823\n",
      "  0.56509285 0.27523487 0.25229932 0.45610128 0.66133625 0.17862643\n",
      "  0.50329655 0.20682635 0.36010331 0.1268412  0.15133873 0.55776504\n",
      "  0.2997806  0.10731802 0.36296295 0.25677859 0.06230265 0.37603796\n",
      "  0.51167903 0.39136758 0.31967799 0.32561153 0.40116005 0.18649007\n",
      "  0.4434832  0.6369691  0.57390607 0.35641071 0.31414655 0.49526894\n",
      "  0.60956597 0.3772155  0.37649608 0.37204488 0.44610824 0.42721057\n",
      "  0.32804912 0.447493   0.158154   0.35946749]\n",
      " [0.41684225 0.72933766 0.4197442  0.5643945  0.20018147 0.6370473\n",
      "  0.16171558 0.13539795 0.45379206 0.4362171  0.07791044 0.89725774\n",
      "  0.55024646 0.08604939 0.52320286 0.59713649 0.6889987  0.58802713\n",
      "  0.53330418 0.77005221 0.22788731 0.60203188 0.66358166 0.21085597\n",
      "  0.26261493 0.6822483  0.80900861 0.49164392 0.85244123 0.35470976\n",
      "  0.22722817 0.49229216 0.491157   0.51185364 0.20808928 0.08849281\n",
      "  0.44980162 0.7589933  0.35711731 0.49962341 0.63833519 0.38417146\n",
      "  0.76543244 0.25023372 0.17242517 0.52799497 0.86697906 0.63026715\n",
      "  0.54515496 0.94229652 0.70279717 0.33677934 0.37853952 0.79372855\n",
      "  0.52617997 0.32189471 0.40345964 0.40040876 0.         0.41741129\n",
      "  0.50250855 0.2830825  0.52571648 0.16559517 0.87102301 0.54046133\n",
      "  0.34756329 0.5785476  0.22956428 0.50200324 0.55167457 0.35132407\n",
      "  0.12871486 0.30688291 0.07968224 0.48958611 0.46238505 0.47536948\n",
      "  0.89853412 0.66017636 0.30225983 0.71157273 0.71260391 0.57721088\n",
      "  0.76484076 0.27051704 0.8512743  0.75598152 0.68592968 0.18147464\n",
      "  0.86017552 0.09912185 0.60854373 0.46764093 0.29676621 0.19496454\n",
      "  0.25546741 0.06486572 0.32452382 0.12086273]\n",
      " [0.19605062 0.33687224 0.09453903 0.42779434 0.39201074 0.42200595\n",
      "  0.4801658  0.53993612 0.14814078 0.65110289 0.37175728 0.55315137\n",
      "  0.133374   0.40682924 0.42678658 0.53191346 0.34528657 0.30023703\n",
      "  0.65567011 0.35623186 0.25785839 0.38641876 0.3075238  0.55109376\n",
      "  0.44045228 0.26630186 0.43263246 0.12567096 0.50860428 0.11959432\n",
      "  0.19100964 0.14110195 0.60615687 0.45035978 0.27883287 0.46154086\n",
      "  0.69921789 0.39961856 0.3045667  0.4026245  0.49876723 0.03385368\n",
      "  0.34832477 0.24387718 0.49630361 0.26669723 0.4778545  0.43237561\n",
      "  0.13121642 0.61204948 0.43961351 0.55959429 0.12948291 0.50405726\n",
      "  0.36549579 0.56573304 0.08261991 0.13063823 0.41741129 0.\n",
      "  0.45443983 0.20121142 0.38062256 0.4230789  0.5398882  0.28871884\n",
      "  0.59816453 0.16837059 0.30160438 0.23670107 0.19930848 0.64502218\n",
      "  0.35020778 0.1995421  0.40423456 0.38736335 0.14017707 0.50276316\n",
      "  0.57291342 0.27810177 0.42385874 0.39838772 0.51490572 0.18611681\n",
      "  0.55208516 0.61243821 0.46897839 0.39453668 0.40283018 0.46306757\n",
      "  0.49665937 0.3636368  0.5052336  0.24719533 0.53778741 0.49721622\n",
      "  0.42094089 0.44888978 0.09631273 0.41399717]\n",
      " [0.26027269 0.74347595 0.54169447 0.85968418 0.30773817 0.21795716\n",
      "  0.40361868 0.62397866 0.59864185 0.92113295 0.42565011 0.54384469\n",
      "  0.52613791 0.42190109 0.84460874 0.94635785 0.78872718 0.75465906\n",
      "  0.98691031 0.61826789 0.55633576 0.20498881 0.74828072 0.71318859\n",
      "  0.26735594 0.57272444 0.53412979 0.57868383 0.94203313 0.34371819\n",
      "  0.41624566 0.59522391 0.93841494 0.85658896 0.55959893 0.59045728\n",
      "  0.39839102 0.83093539 0.68248954 0.81820041 0.93590122 0.45022336\n",
      "  0.671956   0.29992878 0.40994265 0.71797313 0.87245136 0.19681092\n",
      "  0.48305876 1.04763456 0.30542034 0.81788538 0.32609515 0.39548491\n",
      "  0.13298491 0.80915512 0.52417577 0.56509285 0.50250855 0.45443983\n",
      "  0.         0.30738305 0.81134918 0.35480185 0.50484204 0.73959078\n",
      "  0.83859751 0.5767119  0.28442366 0.68686729 0.65010572 0.85188828\n",
      "  0.55778967 0.56634168 0.5602291  0.80327245 0.59300147 0.87340115\n",
      "  1.0121847  0.45490929 0.72983264 0.84843033 0.96522241 0.61839826\n",
      "  1.00493839 0.46423045 0.57707123 0.82488953 0.85681861 0.36740733\n",
      "  0.54698372 0.40433528 0.9316111  0.22524684 0.78098746 0.6895699\n",
      "  0.69813453 0.47020865 0.40966855 0.59826708]\n",
      " [0.13430234 0.53713634 0.26344351 0.55763553 0.19512198 0.3725553\n",
      "  0.29470575 0.4182876  0.31899763 0.64072401 0.21462748 0.61421694\n",
      "  0.32304688 0.23968619 0.53915458 0.63978642 0.54255539 0.48004908\n",
      "  0.68924837 0.51343698 0.25277973 0.3353384  0.50636391 0.47035797\n",
      "  0.23932646 0.43348246 0.52912729 0.32027627 0.7078481  0.09032614\n",
      "  0.11125408 0.33168892 0.63979971 0.54965232 0.25959535 0.35540968\n",
      "  0.49805962 0.59991334 0.37511359 0.51261552 0.63504375 0.17994859\n",
      "  0.52790656 0.04529293 0.31012832 0.43360761 0.67775292 0.37116231\n",
      "  0.30049141 0.81012608 0.42801167 0.53848707 0.10415128 0.5156848\n",
      "  0.27305346 0.53498564 0.24379656 0.27523487 0.2830825  0.20121142\n",
      "  0.30738305 0.         0.50958976 0.23305132 0.58848816 0.45385184\n",
      "  0.56672409 0.36563981 0.1020926  0.4019526  0.39422698 0.59467163\n",
      "  0.28077466 0.259563   0.30737618 0.49789506 0.3179489  0.567359\n",
      "  0.76991371 0.38503147 0.43264907 0.58994121 0.67413613 0.38732804\n",
      "  0.71804589 0.42183192 0.57229727 0.59500351 0.58607246 0.27180606\n",
      "  0.57789194 0.19885421 0.62718143 0.18928482 0.5057324  0.43066138\n",
      "  0.40742184 0.29045785 0.11899949 0.33571045]\n",
      " [0.56761363 0.40285898 0.28621809 0.04835113 0.63558364 0.80259754\n",
      "  0.66925765 0.57636564 0.23793952 0.44062711 0.53880414 0.88725967\n",
      "  0.40727163 0.57696279 0.06105838 0.15704391 0.28949073 0.17548631\n",
      "  0.36622995 0.59933439 0.30782883 0.76702247 0.29645652 0.50611199\n",
      "  0.70372047 0.51932204 0.74745121 0.29070732 0.40316995 0.47082885\n",
      "  0.41439897 0.27125522 0.32790119 0.10083935 0.32223947 0.50075964\n",
      "  0.9492265  0.35623399 0.16862046 0.05400201 0.12555535 0.37144034\n",
      "  0.53567791 0.53205839 0.6837962  0.14560165 0.49146959 0.81287545\n",
      "  0.44821485 0.46442129 0.81544535 0.39895963 0.49339243 0.87027578\n",
      "  0.74091008 0.42097814 0.29893786 0.25229932 0.52571648 0.38062256\n",
      "  0.81134918 0.50958976 0.         0.63807841 0.88417018 0.13006645\n",
      "  0.44303523 0.38225511 0.57603823 0.16155866 0.26354326 0.5110955\n",
      "  0.3975969  0.25587438 0.45780854 0.05025025 0.25053629 0.20018655\n",
      "  0.421337   0.6102712  0.27922286 0.26153935 0.18692162 0.33244488\n",
      "  0.23950207 0.79365878 0.77136025 0.3576317  0.21182917 0.67262225\n",
      "  0.81852474 0.54682918 0.12463759 0.6243371  0.40684843 0.44883097\n",
      "  0.32043118 0.58744427 0.40185055 0.43113942]\n",
      " [0.34472538 0.75854625 0.46061777 0.68173559 0.05105587 0.52042185\n",
      "  0.06354582 0.27122158 0.50823769 0.60181223 0.10654315 0.81257204\n",
      "  0.55211019 0.07988677 0.64769738 0.732899   0.74525815 0.661831\n",
      "  0.69558563 0.74592264 0.33083136 0.4892346  0.71323358 0.37112317\n",
      "  0.09786899 0.66652388 0.74672997 0.52805838 0.91230616 0.32289123\n",
      "  0.24992682 0.53482931 0.6518394  0.64367481 0.31937101 0.25202476\n",
      "  0.31116784 0.80925814 0.47388419 0.62218543 0.75900249 0.39518314\n",
      "  0.76039802 0.1879288  0.07788947 0.60623029 0.89960416 0.50901887\n",
      "  0.53281367 1.01006043 0.59634859 0.50207187 0.33644741 0.6907409\n",
      "  0.40601234 0.48748725 0.44131569 0.45610128 0.16559517 0.4230789\n",
      "  0.35480185 0.23305132 0.63807841 0.         0.78125181 0.62287581\n",
      "  0.51299851 0.59130805 0.13573683 0.57638522 0.59824841 0.51338388\n",
      "  0.26845723 0.38987744 0.24042573 0.61000663 0.51224757 0.62289929\n",
      "  0.96773617 0.6110154  0.45391984 0.78159745 0.82109494 0.6052577\n",
      "  0.87086029 0.18973607 0.79107412 0.80508517 0.76632962 0.04007068\n",
      "  0.78757142 0.0929021  0.73645756 0.37952068 0.46219592 0.36043881\n",
      "  0.4104354  0.11812926 0.32838156 0.28246704]\n",
      " [0.45428323 0.58026183 0.61932074 0.92519197 0.7308076  0.28692278\n",
      "  0.8432319  1.00640984 0.65299762 1.18805612 0.79907889 0.04187546\n",
      "  0.47690401 0.81706515 0.94008006 1.04119902 0.69180849 0.7390447\n",
      "  1.19451819 0.34181453 0.7863555  0.3055172  0.65541722 1.05410073\n",
      "  0.72601061 0.38459985 0.15746425 0.59460121 0.7775171  0.53118296\n",
      "  0.67154419 0.61359325 1.14530542 0.9710045  0.8037713  0.94309344\n",
      "  0.90312785 0.68785985 0.84288421 0.91960765 0.98095847 0.56660551\n",
      "  0.4299721  0.62155577 0.85507696 0.74220427 0.64508503 0.308392\n",
      "  0.43781966 0.86987531 0.19950391 1.0928091  0.50300496 0.11394649\n",
      "  0.39081055 1.09582727 0.61566406 0.66133625 0.87102301 0.5398882\n",
      "  0.50484204 0.58848816 0.88417018 0.78125181 0.         0.76176868\n",
      "  1.12847667 0.5058078  0.6544857  0.7226798  0.62650972 1.1678128\n",
      "  0.85524716 0.73876452 0.89251308 0.90522293 0.63853413 1.03701735\n",
      "  0.85179557 0.27400485 0.96179249 0.76378566 0.95717047 0.55968044\n",
      "  0.97369243 0.94009002 0.16508415 0.68118479 0.80266024 0.81009454\n",
      "  0.09809299 0.78083416 1.00346998 0.4054746  1.06693938 1.00862337\n",
      "  0.95380052 0.87016294 0.58998994 0.91588973]\n",
      " [0.48422729 0.27783661 0.19791876 0.16479869 0.61003335 0.70322308\n",
      "  0.66445032 0.61791096 0.14121414 0.54930189 0.53464079 0.76277826\n",
      "  0.286918   0.57419544 0.19088234 0.28314582 0.17664007 0.0562004\n",
      "  0.49069492 0.46955594 0.31263587 0.66936553 0.17373937 0.56962419\n",
      "  0.67323526 0.39093575 0.62127444 0.17758083 0.32104746 0.39629706\n",
      "  0.37825692 0.15785665 0.44919637 0.22923862 0.33341511 0.53668744\n",
      "  0.92907414 0.24895547 0.21069415 0.17817391 0.22096014 0.28937569\n",
      "  0.40581602 0.48510084 0.68011372 0.02210731 0.38072068 0.71596007\n",
      "  0.33118083 0.40339701 0.70707399 0.49179639 0.41382405 0.75516462\n",
      "  0.6540721  0.51031693 0.21556095 0.17862643 0.54046133 0.28871884\n",
      "  0.73959078 0.45385184 0.13006645 0.62287581 0.76176868 0.\n",
      "  0.53661682 0.25654111 0.53649199 0.05274461 0.13602062 0.60162378\n",
      "  0.42058622 0.23634835 0.48536333 0.16768748 0.14864384 0.32220003\n",
      "  0.35935645 0.48902043 0.35580965 0.17497435 0.22627359 0.20462549\n",
      "  0.26571351 0.79568365 0.64362861 0.24871199 0.14564426 0.66076383\n",
      "  0.69264233 0.53770526 0.24207103 0.53565081 0.49107197 0.50964485\n",
      "  0.38634151 0.59598006 0.33644945 0.4685092 ]\n",
      " [0.69249933 0.80381933 0.54275866 0.45444345 0.54625432 0.9392097\n",
      "  0.49848884 0.27732925 0.5394689  0.09112673 0.41804135 1.14627975\n",
      "  0.70495215 0.43361027 0.40084563 0.41281189 0.7132566  0.59269856\n",
      "  0.22183378 0.93572454 0.34265469 0.90186088 0.70677345 0.15697517\n",
      "  0.61017308 0.84433975 1.03074235 0.60031137 0.84492597 0.60103522\n",
      "  0.46414433 0.58926243 0.19913084 0.36586599 0.32470541 0.26177291\n",
      "  0.77082093 0.78530175 0.33637552 0.39188587 0.49998209 0.56742596\n",
      "  0.89910462 0.55234073 0.50471796 0.53797689 0.91712721 0.93769462\n",
      "  0.72322706 0.90655637 0.99012833 0.04482395 0.63017645 1.07244282\n",
      "  0.83763257 0.03265122 0.5375772  0.50329655 0.34756329 0.59816453\n",
      "  0.83859751 0.56672409 0.44303523 0.51299851 1.12847667 0.53661682\n",
      "  0.         0.70931364 0.55478605 0.52898772 0.62500461 0.068994\n",
      "  0.2865468  0.40263762 0.27928381 0.39279631 0.55426623 0.27167653\n",
      "  0.8638794  0.8760215  0.18646802 0.70029703 0.59892461 0.68069495\n",
      "  0.65037504 0.56782169 1.06695919 0.78525662 0.65380139 0.52482704\n",
      "  1.0937318  0.43863858 0.45137757 0.75264457 0.06171899 0.15259922\n",
      "  0.17740614 0.40085395 0.53853894 0.24033439]\n",
      " [0.32156499 0.17333525 0.17065348 0.42095347 0.5590924  0.48377625\n",
      "  0.64852508 0.69428597 0.1721659  0.74668367 0.53809276 0.50623715\n",
      "  0.05062008 0.57402775 0.44064134 0.53845992 0.21911436 0.23456285\n",
      "  0.719989   0.229004   0.39013211 0.45493429 0.17777123 0.68936646\n",
      "  0.60432652 0.14076993 0.36524921 0.10947711 0.36533994 0.27770026\n",
      "  0.35589408 0.12326959 0.67356429 0.47494764 0.41357135 0.61320333\n",
      "  0.86097259 0.25428608 0.38046325 0.4226979  0.47516129 0.19830765\n",
      "  0.19320493 0.40973143 0.66466854 0.23775803 0.31267802 0.50102035\n",
      "  0.09696226 0.47096043 0.47016177 0.66692484 0.27666801 0.50668731\n",
      "  0.46413635 0.67826432 0.18154551 0.20682635 0.5785476  0.16837059\n",
      "  0.5767119  0.36563981 0.38225511 0.59130805 0.5058078  0.25654111\n",
      "  0.70931364 0.         0.46740534 0.22162335 0.12076575 0.76454368\n",
      "  0.49584377 0.31258844 0.55546282 0.40932462 0.15679715 0.55378128\n",
      "  0.43621049 0.23504099 0.52433206 0.28684205 0.45733622 0.05506501\n",
      "  0.48091432 0.78076758 0.38966011 0.24819637 0.31207078 0.63125645\n",
      "  0.43644441 0.5309776  0.49860748 0.35221824 0.65271219 0.63175253\n",
      "  0.5347878  0.61438658 0.2642932  0.55820693]\n",
      " [0.20989702 0.63829833 0.35512384 0.62287875 0.09357494 0.40831629\n",
      "  0.19905796 0.3616817  0.40821567 0.63672749 0.15207665 0.68399263\n",
      "  0.42513485 0.16334009 0.59753295 0.6929566  0.63843035 0.56800267\n",
      "  0.70575942 0.61129937 0.28708367 0.37400717 0.60346779 0.43597272\n",
      "  0.14022656 0.53357031 0.61242749 0.41672968 0.80473612 0.1921305\n",
      "  0.16187262 0.42653315 0.65803954 0.60195633 0.28536566 0.31401859\n",
      "  0.39998406 0.69804459 0.42553707 0.57101365 0.70109559 0.27777024\n",
      "  0.62905417 0.05775568 0.21362515 0.51748235 0.77911602 0.40087355\n",
      "  0.40197434 0.90580984 0.47727229 0.53346798 0.20259391 0.5699993\n",
      "  0.29669017 0.52501907 0.3352936  0.36010331 0.22956428 0.30160438\n",
      "  0.28442366 0.1020926  0.57603823 0.13573683 0.6544857  0.53649199\n",
      "  0.55478605 0.46740534 0.         0.4861865  0.4898496  0.57125003\n",
      "  0.27362874 0.32018122 0.27794828 0.55714081 0.40921336 0.60328339\n",
      "  0.86484103 0.47531755 0.44998115 0.68221209 0.74987379 0.48737723\n",
      "  0.79638202 0.32170422 0.6565771  0.69334139 0.67416397 0.17267583\n",
      "  0.65536954 0.13152991 0.68702549 0.24938879 0.49671492 0.40739333\n",
      "  0.41558026 0.2166017  0.21283804 0.31467128]\n",
      " [0.43184925 0.27508179 0.14523213 0.20334047 0.56163689 0.65348166\n",
      "  0.61998701 0.58711436 0.08875483 0.55037909 0.49121797 0.72574402\n",
      "  0.24583414 0.53078593 0.21907397 0.31853461 0.19394288 0.08647358\n",
      "  0.5054447  0.44376404 0.27569105 0.61920414 0.17954355 0.54763942\n",
      "  0.62379332 0.36051053 0.58639491 0.13091148 0.35153192 0.34355301\n",
      "  0.32954532 0.11113589 0.46118585 0.2535621  0.2977696  0.5048969\n",
      "  0.88070463 0.26696056 0.19407662 0.20127954 0.26691846 0.23666657\n",
      "  0.38726521 0.43402805 0.63582598 0.03166599 0.39211279 0.66569694\n",
      "  0.28768606 0.4404999  0.65998823 0.4844596  0.36116665 0.71110079\n",
      "  0.60219148 0.50088198 0.16281682 0.1268412  0.50200324 0.23670107\n",
      "  0.68686729 0.4019526  0.16155866 0.57638522 0.7226798  0.05274461\n",
      "  0.52898772 0.22162335 0.4861865  0.         0.10665286 0.59158854\n",
      "  0.38645079 0.19526739 0.45153899 0.18825013 0.09715624 0.33716453\n",
      "  0.39690817 0.4488601  0.34401863 0.20966068 0.27874348 0.17425954\n",
      "  0.31843281 0.75220832 0.6112643  0.26541497 0.18997529 0.61477676\n",
      "  0.65732125 0.49308389 0.28214537 0.48384375 0.4794372  0.487432\n",
      "  0.36894111 0.55527574 0.28414592 0.43825492]\n",
      " [0.3898508  0.18426639 0.13768849 0.30073849 0.57488006 0.58611188\n",
      "  0.6490385  0.65224416 0.09857404 0.65224845 0.52656585 0.62689711\n",
      "  0.15550923 0.56524558 0.32306188 0.41876172 0.14858886 0.11712361\n",
      "  0.61192518 0.33739247 0.33722718 0.55437759 0.11500813 0.6277551\n",
      "  0.63007612 0.25577998 0.48525862 0.07422961 0.31512157 0.3184917\n",
      "  0.34907704 0.06357678 0.56730456 0.35903248 0.36090703 0.56944916\n",
      "  0.88983147 0.21121598 0.28884489 0.3068209  0.35456309 0.21451848\n",
      "  0.28134865 0.43338163 0.66525719 0.11806173 0.3164042  0.60108144\n",
      "  0.20242626 0.41610687 0.58164203 0.58105583 0.32825237 0.62412276\n",
      "  0.55048094 0.59558634 0.15693799 0.15133873 0.55167457 0.19930848\n",
      "  0.65010572 0.39422698 0.26354326 0.59824841 0.62650972 0.13602062\n",
      "  0.62500461 0.12076575 0.4898496  0.10665286 0.         0.68505785\n",
      "  0.44919489 0.25350128 0.51312771 0.29426313 0.08932252 0.44377357\n",
      "  0.37568676 0.35481073 0.43859753 0.19921264 0.34201381 0.06891191\n",
      "  0.37043435 0.78293547 0.50801681 0.20730402 0.20877739 0.63803846\n",
      "  0.55662171 0.52417781 0.37804557 0.43313633 0.57234453 0.568055\n",
      "  0.4575755  0.59769409 0.27711043 0.50709084]\n",
      " [0.72441545 0.86564659 0.59590012 0.52328113 0.55138079 0.96642253\n",
      "  0.49056933 0.25706929 0.59676134 0.12984295 0.42659157 1.18742978\n",
      "  0.75721959 0.43613959 0.46968611 0.48079269 0.7781622  0.65780456\n",
      "  0.27474382 0.98892289 0.38725378 0.9295576  0.7702966  0.14251688\n",
      "  0.61125205 0.89724801 1.07629697 0.65634867 0.91224634 0.63730113\n",
      "  0.49781502 0.64636587 0.25964804 0.43485292 0.36715081 0.26284808\n",
      "  0.75065938 0.85055747 0.39781783 0.46034222 0.56886221 0.61319602\n",
      "  0.95587169 0.57557671 0.49467817 0.60203708 0.98151922 0.96326205\n",
      "  0.77263393 0.97499742 1.02176816 0.11215325 0.66603249 1.10668049\n",
      "  0.86134739 0.09132991 0.58921736 0.55776504 0.35132407 0.64502218\n",
      "  0.85188828 0.59467163 0.5110955  0.51338388 1.1678128  0.60162378\n",
      "  0.068994   0.76454368 0.57125003 0.59158854 0.68505785 0.\n",
      "  0.31492883 0.45408895 0.29347261 0.46089862 0.6112199  0.34025859\n",
      "  0.9322111  0.9214233  0.24757484 0.76715093 0.66790146 0.73853843\n",
      "  0.71930081 0.54468321 1.11373577 0.85032406 0.72133833 0.52002003\n",
      "  1.13756842 0.44781448 0.52006058 0.78310014 0.11271966 0.16477092\n",
      "  0.22977357 0.39689955 0.57878494 0.25968585]\n",
      " [0.40948868 0.63193019 0.32744915 0.43575648 0.28619475 0.65329308\n",
      "  0.2828288  0.20306981 0.35077345 0.36444485 0.16193647 0.87646305\n",
      "  0.47622147 0.1936662  0.39457957 0.47068932 0.57814156 0.47090686\n",
      "  0.43524799 0.70564727 0.11230631 0.61611254 0.5564775  0.20225706\n",
      "  0.35615246 0.61472023 0.77194469 0.39780946 0.73792076 0.32406558\n",
      "  0.18375453 0.3946047  0.38900926 0.38416191 0.08910707 0.12025766\n",
      "  0.57121213 0.64993493 0.22921218 0.37091504 0.50963238 0.3165614\n",
      "  0.68818506 0.26608643 0.29559991 0.41009527 0.76534804 0.65132207\n",
      "  0.4813967  0.82395008 0.70692758 0.26119555 0.35236437 0.79184148\n",
      "  0.55108953 0.25528221 0.31450378 0.2997806  0.12871486 0.35020778\n",
      "  0.55778967 0.28077466 0.3975969  0.26845723 0.85524716 0.42058622\n",
      "  0.2865468  0.49584377 0.27362874 0.38645079 0.44919489 0.31492883\n",
      "  0.         0.19610917 0.06508903 0.36089032 0.36169898 0.35478061\n",
      "  0.77993155 0.61796435 0.18590334 0.59428621 0.58451707 0.48481938\n",
      "  0.63697505 0.39890771 0.81146842 0.64753442 0.56495305 0.29495398\n",
      "  0.83010076 0.17786416 0.48036665 0.4683962  0.22624676 0.15337739\n",
      "  0.14498064 0.19226591 0.27108483 0.06380363]\n",
      " [0.3429863  0.43705827 0.14232368 0.30275386 0.3823211  0.59321394\n",
      "  0.42872468 0.3991287  0.15553585 0.45185767 0.29847657 0.75265497\n",
      "  0.30313949 0.33799405 0.28016094 0.38022737 0.38339988 0.28154869\n",
      "  0.46071055 0.53486965 0.08384728 0.55571449 0.3605435  0.3784688\n",
      "  0.44920816 0.44317139 0.63076941 0.20756947 0.54568579 0.24152161\n",
      "  0.15875872 0.20157746 0.41076146 0.29024773 0.10743215 0.31630593\n",
      "  0.69938583 0.45456838 0.11845112 0.25356437 0.38094771 0.17232829\n",
      "  0.50553238 0.27761524 0.44425157 0.22219503 0.5693378  0.59865679\n",
      "  0.32078569 0.63575814 0.62525058 0.36245952 0.26901836 0.69704236\n",
      "  0.51334194 0.37065272 0.13519684 0.10731802 0.30688291 0.1995421\n",
      "  0.56634168 0.259563   0.25587438 0.38987744 0.73876452 0.23634835\n",
      "  0.40263762 0.31258844 0.32018122 0.19526739 0.25350128 0.45408895\n",
      "  0.19610917 0.         0.26062656 0.23908174 0.1674496  0.31800719\n",
      "  0.59212424 0.47689475 0.22451828 0.40492691 0.43315033 0.29371841\n",
      "  0.4818356  0.55941431 0.66567525 0.4519826  0.38183154 0.42674278\n",
      "  0.69580505 0.30235559 0.36891464 0.40432007 0.34372774 0.31995215\n",
      "  0.2255262  0.36024639 0.16855719 0.25367511]\n",
      " [0.44064429 0.69523453 0.38885048 0.49411175 0.26861363 0.67570979\n",
      "  0.24136372 0.1396018  0.41458802 0.36510696 0.13959854 0.91583726\n",
      "  0.53326234 0.16083821 0.45063446 0.52051786 0.64313591 0.53592727\n",
      "  0.45542222 0.76046612 0.17702206 0.63934196 0.62115428 0.16301261\n",
      "  0.33509966 0.67027255 0.81740085 0.45989373 0.8030003  0.3638823\n",
      "  0.22508397 0.45752299 0.4124543  0.43683893 0.15407468 0.05775448\n",
      "  0.52942217 0.71483351 0.29046848 0.42799685 0.56628051 0.37038229\n",
      "  0.74680572 0.28385828 0.25206909 0.47508862 0.82946284 0.67146757\n",
      "  0.53519063 0.88875871 0.73512269 0.26341797 0.39077586 0.82301008\n",
      "  0.56881112 0.25120066 0.3749515  0.36296295 0.07968224 0.40423456\n",
      "  0.5602291  0.30737618 0.45780854 0.24042573 0.89251308 0.48536333\n",
      "  0.27928381 0.55546282 0.27794828 0.45153899 0.51312771 0.29347261\n",
      "  0.06508903 0.26062656 0.         0.41889745 0.42511732 0.39636915\n",
      "  0.84471861 0.66480987 0.22298047 0.6592586  0.64446903 0.54683314\n",
      "  0.69728727 0.34666484 0.85805635 0.71238382 0.62943164 0.25990043\n",
      "  0.87303965 0.15974049 0.53422691 0.49660482 0.22433479 0.1294961\n",
      "  0.17585729 0.14397692 0.31905648 0.04206327]\n",
      " [0.56695252 0.44486888 0.29475079 0.07525537 0.6110154  0.80809877\n",
      "  0.63762121 0.5329689  0.25285305 0.39135965 0.50822552 0.91040948\n",
      "  0.42946665 0.54551668 0.04133774 0.14547781 0.33544381 0.21821722\n",
      "  0.32310165 0.63165419 0.27941279 0.77178284 0.33937401 0.45876834\n",
      "  0.68026915 0.54872891 0.7729201  0.31083137 0.45323888 0.46766506\n",
      "  0.39712323 0.29222322 0.28251663 0.06590676 0.29113534 0.45922407\n",
      "  0.92088427 0.40370262 0.13613197 0.01533146 0.14951315 0.37396103\n",
      "  0.57195548 0.5165662  0.651707   0.17923646 0.53867824 0.81697284\n",
      "  0.46749416 0.51440183 0.82619673 0.34875398 0.49205469 0.88536789\n",
      "  0.74027986 0.37089148 0.30474411 0.25677859 0.48958611 0.38736335\n",
      "  0.80327245 0.49789506 0.05025025 0.61000663 0.90522293 0.16768748\n",
      "  0.39279631 0.40932462 0.55714081 0.18825013 0.29426313 0.46089862\n",
      "  0.36089032 0.23908174 0.41889745 0.         0.26692063 0.15493836\n",
      "  0.47141523 0.63137112 0.23124655 0.31087771 0.22733775 0.36244022\n",
      "  0.28071361 0.75921447 0.79888737 0.40480343 0.26186895 0.6431735\n",
      "  0.84344121 0.51774148 0.1299782  0.62558195 0.35714146 0.40226408\n",
      "  0.27401559 0.55249529 0.39638372 0.38997025]\n",
      " [0.33603314 0.27023121 0.05450956 0.29560389 0.49123207 0.55669772\n",
      "  0.56160268 0.56452103 0.01547699 0.58991792 0.43791755 0.64471911\n",
      "  0.16525494 0.47678245 0.30303418 0.40645207 0.23311402 0.16337272\n",
      "  0.56639483 0.38572243 0.2504087  0.52222677 0.20299318 0.54509009\n",
      "  0.54904826 0.29634706 0.50981256 0.04770819 0.40010154 0.25148489\n",
      "  0.26238145 0.03516556 0.5191279  0.33256925 0.27421511 0.48182964\n",
      "  0.80837277 0.29926935 0.22366851 0.2815097  0.362782   0.14381711\n",
      "  0.34488495 0.35415333 0.57778195 0.12658145 0.40514317 0.56867339\n",
      "  0.20071447 0.49838296 0.56541803 0.51138459 0.26691108 0.62000606\n",
      "  0.50542878 0.52365067 0.07424082 0.06230265 0.46238505 0.14017707\n",
      "  0.59300147 0.3179489  0.25053629 0.51224757 0.63853413 0.14864384\n",
      "  0.55426623 0.15679715 0.40921336 0.09715624 0.08932252 0.6112199\n",
      "  0.36169898 0.1674496  0.42511732 0.26692063 0.         0.40247195\n",
      "  0.45662632 0.36496327 0.36851108 0.27300602 0.37474058 0.12780545\n",
      "  0.41225643 0.69540751 0.53866395 0.29567483 0.26868399 0.55180771\n",
      "  0.57942661 0.43610211 0.37429304 0.38700801 0.49881955 0.48599209\n",
      "  0.381707   0.50852889 0.19897906 0.42080537]\n",
      " [0.66094597 0.59974462 0.41780122 0.19510877 0.63643762 0.91099234\n",
      "  0.63563252 0.47795523 0.38727955 0.248026   0.51638716 1.04554534\n",
      "  0.56772683 0.5482459  0.14421279 0.14269849 0.48947455 0.37312531\n",
      "  0.16872573 0.78004195 0.31778941 0.87357092 0.49430823 0.37872055\n",
      "  0.70712125 0.69444344 0.91223631 0.44927884 0.59728205 0.55949171\n",
      "  0.45720451 0.43226361 0.12779523 0.1037411  0.31793006 0.41950231\n",
      "  0.92448978 0.55634135 0.20071971 0.14659527 0.22941343 0.48213108\n",
      "  0.72402229 0.57465508 0.64736953 0.33231553 0.69161158 0.91665942\n",
      "  0.60102213 0.64718961 0.93981758 0.23267097 0.58700578 1.0068204\n",
      "  0.83033472 0.25853995 0.42276687 0.37603796 0.47536948 0.50276316\n",
      "  0.87340115 0.567359   0.20018655 0.62289929 1.03701735 0.32220003\n",
      "  0.27167653 0.55378128 0.60328339 0.33716453 0.44377357 0.34025859\n",
      "  0.35478061 0.31800719 0.39636915 0.15493836 0.40247195 0.\n",
      "  0.6060311  0.76534285 0.17356436 0.45981555 0.32966693 0.51044112\n",
      "  0.38002988 0.7417127  0.94090504 0.55780069 0.40769454 0.64960377\n",
      "  0.98158922 0.53111423 0.17984343 0.72232726 0.25501193 0.33274044\n",
      "  0.22184914 0.54013487 0.48655892 0.35794539]\n",
      " [0.75420458 0.28382593 0.51004563 0.41190109 0.9478562  0.9097956\n",
      "  1.0145173  0.97647733 0.45964344 0.85388551 0.88708952 0.83487045\n",
      "  0.48680066 0.92658348 0.4649595  0.49174011 0.2276812  0.3105846\n",
      "  0.7536993  0.51010351 0.6712195  0.88440137 0.26593352 0.92098966\n",
      "  1.00498995 0.48769415 0.69435559 0.44972462 0.07535352 0.69250056\n",
      "  0.71796079 0.4385214  0.72657505 0.50321637 0.69245974 0.89571518\n",
      "  1.26461104 0.1826984  0.56408944 0.47202027 0.38804256 0.59013318\n",
      "  0.42207657 0.80876892 1.03052805 0.37059538 0.21666192 0.92920696\n",
      "  0.53213066 0.04412647 0.88045516 0.82005898 0.69950816 0.89238764\n",
      "  0.89994398 0.84230046 0.52982984 0.51167903 0.89853412 0.57291342\n",
      "  1.0121847  0.76991371 0.421337   0.96773617 0.85179557 0.35935645\n",
      "  0.8638794  0.43621049 0.86484103 0.39690817 0.37568676 0.9322111\n",
      "  0.77993155 0.59212424 0.84471861 0.47141523 0.45662632 0.6060311\n",
      "  0.         0.62745932 0.69764481 0.18736739 0.2910436  0.39436805\n",
      "  0.25688482 1.14756763 0.69350695 0.18913089 0.21699132 1.00694775\n",
      "  0.75885789 0.88782562 0.44005448 0.78830077 0.82792391 0.86189836\n",
      "  0.73492644 0.9521679  0.65247798 0.82714466]\n",
      " [0.26816964 0.34381661 0.34904958 0.65170094 0.56576605 0.29325131\n",
      "  0.67437354 0.79221043 0.37960785 0.92875238 0.59786924 0.2802031\n",
      "  0.20302596 0.62466753 0.66607803 0.76731375 0.43767509 0.46960114\n",
      "  0.92541115 0.1635682  0.53439884 0.27621535 0.39827961 0.82020328\n",
      "  0.585651   0.14034871 0.15487883 0.32063513 0.55223114 0.3054817\n",
      "  0.4399043  0.33959053 0.87674056 0.69719802 0.55429064 0.71984568\n",
      "  0.81528305 0.44945611 0.5744709  0.64569809 0.70920625 0.30865011\n",
      "  0.22763106 0.42726576 0.68887783 0.46906068 0.44650786 0.31567482\n",
      "  0.16447644 0.65388703 0.25317637 0.83768418 0.28287135 0.27398981\n",
      "  0.32289179 0.8435289  0.34754688 0.39136758 0.66017636 0.27810177\n",
      "  0.45490929 0.38503147 0.6102712  0.6110154  0.27400485 0.48902043\n",
      "  0.8760215  0.23504099 0.47531755 0.4488601  0.35481073 0.9214233\n",
      "  0.61796435 0.47689475 0.66480987 0.63137112 0.36496327 0.76534285\n",
      "  0.62745932 0.         0.70141159 0.50931609 0.69158146 0.2898937\n",
      "  0.71268682 0.79289612 0.19351283 0.44268128 0.54201388 0.64694572\n",
      "  0.21903613 0.58333581 0.73017521 0.25274131 0.81539607 0.7692535\n",
      "  0.69894154 0.67486192 0.3469473  0.68121211]\n",
      " [0.54498995 0.61821078 0.36028933 0.30296951 0.47170671 0.7969535\n",
      "  0.46319034 0.31131954 0.35356548 0.22734247 0.347569   0.97663881\n",
      "  0.52255835 0.37742403 0.25215598 0.30386431 0.53183223 0.41197846\n",
      "  0.25729038 0.75189196 0.18302096 0.75914857 0.52289077 0.22769055\n",
      "  0.54189669 0.66092038 0.85517765 0.41500876 0.67149287 0.44676613\n",
      "  0.32207145 0.40337447 0.20858296 0.22825511 0.17310986 0.24730094\n",
      "  0.75188911 0.60459648 0.15034494 0.23523524 0.36528473 0.39543153\n",
      "  0.71310692 0.43054544 0.47455395 0.35509536 0.73452086 0.7989329\n",
      "  0.54406742 0.74127636 0.83829613 0.14296115 0.47594313 0.91494645\n",
      "  0.70469307 0.15715445 0.35697469 0.31967799 0.30225983 0.42385874\n",
      "  0.72983264 0.43264907 0.27922286 0.45391984 0.96179249 0.35580965\n",
      "  0.18646802 0.52433206 0.44998115 0.34401863 0.43859753 0.24757484\n",
      "  0.18590334 0.22451828 0.22298047 0.23124655 0.36851108 0.17356436\n",
      "  0.69764481 0.70141159 0.         0.52513867 0.45543384 0.49444082\n",
      "  0.50880771 0.56820335 0.88965827 0.60410723 0.48257362 0.47865864\n",
      "  0.92031714 0.36376653 0.32560028 0.60684536 0.13561059 0.17255244\n",
      "  0.04889577 0.36689756 0.37785429 0.1844041 ]\n",
      " [0.5882072  0.1926105  0.32725929 0.26799556 0.76317771 0.77057151\n",
      "  0.82755673 0.79271794 0.27458372 0.70212787 0.69981366 0.75520659\n",
      "  0.33473091 0.73932603 0.31576782 0.37341476 0.07210869 0.12360385\n",
      "  0.62117216 0.43236861 0.48466978 0.74128278 0.11118388 0.74335057\n",
      "  0.82196364 0.37979307 0.60986513 0.27281829 0.14672683 0.51719615\n",
      "  0.53221822 0.25903329 0.58649417 0.35675132 0.50625436 0.71126376\n",
      "  1.08108044 0.10496268 0.38433645 0.31540486 0.27626137 0.41170504\n",
      "  0.34956384 0.62705736 0.84352953 0.18420552 0.23684231 0.7875488\n",
      "  0.38288938 0.23084862 0.75476437 0.65566234 0.52746307 0.7830765\n",
      "  0.74493607 0.6760254  0.34708381 0.32561153 0.71157273 0.39838772\n",
      "  0.84843033 0.58994121 0.26153935 0.78159745 0.76378566 0.17497435\n",
      "  0.70029703 0.28684205 0.68221209 0.20966068 0.19921264 0.76715093\n",
      "  0.59428621 0.40492691 0.6592586  0.31087771 0.27300602 0.45981555\n",
      "  0.18736739 0.50931609 0.52513867 0.         0.2101266  0.23574559\n",
      "  0.21323191 0.96043202 0.62060788 0.10880662 0.05565742 0.82060823\n",
      "  0.67997867 0.70077672 0.32138878 0.62899065 0.6588822  0.68357144\n",
      "  0.5587234  0.76484323 0.47132711 0.64333226]\n",
      " [0.71050056 0.40101496 0.42390949 0.15287572 0.81546726 0.92561964\n",
      "  0.85458216 0.76028713 0.36744607 0.57587368 0.72379942 0.95235211\n",
      "  0.49717623 0.7623423  0.20355835 0.20271636 0.27531433 0.22491053\n",
      "  0.46558024 0.63585115 0.49268768 0.89263922 0.3055985  0.68283223\n",
      "  0.88209406 0.57359752 0.80731237 0.39948085 0.30453525 0.62157437\n",
      "  0.58836086 0.38036616 0.44232942 0.23377842 0.50818977 0.68628288\n",
      "  1.13176751 0.31271408 0.35548665 0.22087566 0.10107589 0.51524103\n",
      "  0.5562522  0.70185725 0.8693378  0.24823209 0.43560207 0.93935123\n",
      "  0.5444275  0.32809867 0.92365509 0.55744162 0.63983745 0.96402284\n",
      "  0.88003845 0.58199286 0.44107823 0.40116005 0.71260391 0.51490572\n",
      "  0.96522241 0.67413613 0.18692162 0.82109494 0.95717047 0.22627359\n",
      "  0.59892461 0.45733622 0.74987379 0.27874348 0.34201381 0.66790146\n",
      "  0.58451707 0.43315033 0.64446903 0.22733775 0.37474058 0.32966693\n",
      "  0.2910436  0.69158146 0.45543384 0.2101266  0.         0.40227164\n",
      "  0.05345442 0.98009738 0.82205293 0.31737839 0.15952714 0.856574\n",
      "  0.87846318 0.73088075 0.15307556 0.76157815 0.57283928 0.62776082\n",
      "  0.50012923 0.77412631 0.55907916 0.61685652]\n",
      " [0.35984022 0.15394866 0.15823212 0.36942153 0.57675466 0.53553484\n",
      "  0.65989882 0.68641387 0.14186325 0.71270772 0.54349821 0.55904655\n",
      "  0.09925462 0.58088309 0.39184969 0.48759219 0.17100778 0.17979397\n",
      "  0.67803614 0.26967648 0.37523848 0.50572541 0.13008319 0.67211101\n",
      "  0.62653299 0.18689458 0.41680049 0.08701003 0.32636881 0.30347331\n",
      "  0.36165558 0.09273209 0.63268617 0.42749434 0.3990395  0.60420029\n",
      "  0.88531244 0.2157933  0.34680165 0.37523505 0.42146429 0.21053201\n",
      "  0.21911355 0.42973073 0.6761434  0.18696931 0.2946307  0.55209507\n",
      "  0.147606   0.43131719 0.52437747 0.63739658 0.3072004  0.56175139\n",
      "  0.51036818 0.65042337 0.17376236 0.18649007 0.57721088 0.18611681\n",
      "  0.61839826 0.38732804 0.33244488 0.6052577  0.55968044 0.20462549\n",
      "  0.68069495 0.05506501 0.48737723 0.17425954 0.06891191 0.73853843\n",
      "  0.48481938 0.29371841 0.54683314 0.36244022 0.12780545 0.51044112\n",
      "  0.39436805 0.2898937  0.49444082 0.23574559 0.40227164 0.\n",
      "  0.42619835 0.79334557 0.43913746 0.21030538 0.25806509 0.64532709\n",
      "  0.48823854 0.53846383 0.44641326 0.39586851 0.6259945  0.61328373\n",
      "  0.50925492 0.61788041 0.2771603  0.5454577 ]\n",
      " [0.74813106 0.40561134 0.46332108 0.20633008 0.86396949 0.95647472\n",
      "  0.90546459 0.8136809  0.40630397 0.62471864 0.77457827 0.96666958\n",
      "  0.52358118 0.81330455 0.2568133  0.24815478 0.28355996 0.25503826\n",
      "  0.50992232 0.64539093 0.5436498  0.92439668 0.31834524 0.73613314\n",
      "  0.92994378 0.58909739 0.82129198 0.43284735 0.28199583 0.66194068\n",
      "  0.63538959 0.41436933 0.48929215 0.2861319  0.55967093 0.73948566\n",
      "  1.18111356 0.30898867 0.40779905 0.27433001 0.15062068 0.55477748\n",
      "  0.56275847 0.74722577 0.92034222 0.28708645 0.42243127 0.97112841\n",
      "  0.57155393 0.29034499 0.95031915 0.60929005 0.67891629 0.98636983\n",
      "  0.91571388 0.63405123 0.48122015 0.4434832  0.76484076 0.55208516\n",
      "  1.00493839 0.71804589 0.23950207 0.87086029 0.97369243 0.26571351\n",
      "  0.65037504 0.48091432 0.79638202 0.31843281 0.37043435 0.71930081\n",
      "  0.63697505 0.4818356  0.69728727 0.28071361 0.41225643 0.38002988\n",
      "  0.25688482 0.71268682 0.50880771 0.21323191 0.05345442 0.42619835\n",
      "  0.         1.03171469 0.83332605 0.31442194 0.17115649 0.9067404\n",
      "  0.89185766 0.78119244 0.20123155 0.7973304  0.62540388 0.68117274\n",
      "  0.55357708 0.826033   0.60162725 0.67001163]\n",
      " [0.52475187 0.94699861 0.64536824 0.83366912 0.22850861 0.66342495\n",
      "  0.13390653 0.29059707 0.69011192 0.65860694 0.26109256 0.97442148\n",
      "  0.74184373 0.22151798 0.79346497 0.86705165 0.92832824 0.83855546\n",
      "  0.77822314 0.9328462  0.48877839 0.63745208 0.89785633 0.41096621\n",
      "  0.21438489 0.85505525 0.92190098 0.71435642 1.09499804 0.51201697\n",
      "  0.43399792 0.7199436  0.74141823 0.78232394 0.47205034 0.32484898\n",
      "  0.20686988 0.9941392  0.62525079 0.76961244 0.90833202 0.58395364\n",
      "  0.94967877 0.37654652 0.11767905 0.7807336  1.08794318 0.64753251\n",
      "  0.72214763 1.19051819 0.74626503 0.5717861  0.52422167 0.84102596\n",
      "  0.55145263 0.55064126 0.62648603 0.6369691  0.27051704 0.61243821\n",
      "  0.46423045 0.42183192 0.79365878 0.18973607 0.94009002 0.79568365\n",
      "  0.56782169 0.78076758 0.32170422 0.75220832 0.78293547 0.54468321\n",
      "  0.39890771 0.55941431 0.34666484 0.75921447 0.69540751 0.7417127\n",
      "  1.14756763 0.79289612 0.56820335 0.96043202 0.98009738 0.79334557\n",
      "  1.03171469 0.         0.9666411  0.99022255 0.94091948 0.15018159\n",
      "  0.9570964  0.25981973 0.87905841 0.55088748 0.53202188 0.42819462\n",
      "  0.51991058 0.20675028 0.51720857 0.38380424]\n",
      " [0.44668009 0.43104189 0.53184136 0.80839466 0.7435053  0.3708599\n",
      "  0.85460667 0.98423742 0.5539861  1.11675269 0.78666879 0.1418595\n",
      "  0.37363644 0.81147102 0.83019349 0.92671303 0.54977121 0.61291897\n",
      "  1.10484915 0.18873124 0.7264893  0.37347213 0.51659678 1.01371217\n",
      "  0.75437583 0.25294003 0.044825   0.4916328  0.62023403 0.49692372\n",
      "  0.63302715 0.50878836 1.05715435 0.86457543 0.7468145  0.91280858\n",
      "  0.96440573 0.53684865 0.75698632 0.81234032 0.85677797 0.50053979\n",
      "  0.27535082 0.61254673 0.86836505 0.62606851 0.48324072 0.39542399\n",
      "  0.34589387 0.70934751 0.29284996 1.02781909 0.47278516 0.24549085\n",
      "  0.44726305 1.03458912 0.53306919 0.57390607 0.8512743  0.46897839\n",
      "  0.57707123 0.57229727 0.77136025 0.79107412 0.16508415 0.64362861\n",
      "  1.06695919 0.38966011 0.6565771  0.6112643  0.50801681 1.11373577\n",
      "  0.81146842 0.66567525 0.85805635 0.79888737 0.53866395 0.94090504\n",
      "  0.69350695 0.19351283 0.88965827 0.62060788 0.82205293 0.43913746\n",
      "  0.83332605 0.9666411  0.         0.53035075 0.66401543 0.82499057\n",
      "  0.06726558 0.77114021 0.88479542 0.415861   1.00673829 0.96259204\n",
      "  0.88960277 0.86272767 0.54045983 0.87472462]\n",
      " [0.56850188 0.10113386 0.34487857 0.37073181 0.78034727 0.72133655\n",
      "  0.85632081 0.84991083 0.30273786 0.7947443  0.73357813 0.66873038\n",
      "  0.29880217 0.77238015 0.41530427 0.4801153  0.07229459 0.19256725\n",
      "  0.7223967  0.34192539 0.53536315 0.69550142 0.09270136 0.81296529\n",
      "  0.83330506 0.30484827 0.52457393 0.27743    0.11714478 0.51317526\n",
      "  0.55629945 0.27037311 0.68543253 0.45644539 0.55843218 0.76725013\n",
      "  1.09281481 0.00678797 0.45667516 0.41144809 0.38459422 0.41565978\n",
      "  0.2552003  0.63612437 0.8725435  0.2494312  0.13388518 0.74048202\n",
      "  0.34340342 0.22276554 0.69467305 0.74043285 0.51750508 0.71211663\n",
      "  0.7111249  0.75902379 0.36391969 0.35641071 0.75598152 0.39453668\n",
      "  0.82488953 0.59500351 0.3576317  0.80508517 0.68118479 0.24871199\n",
      "  0.78525662 0.24819637 0.69334139 0.26541497 0.20730402 0.85032406\n",
      "  0.64753442 0.4519826  0.71238382 0.40480343 0.29567483 0.55780069\n",
      "  0.18913089 0.44268128 0.60410723 0.10880662 0.31737839 0.21030538\n",
      "  0.31442194 0.99022255 0.53035075 0.         0.16397986 0.8449564\n",
      "  0.59268921 0.73144503 0.42858866 0.60036486 0.73956064 0.752759\n",
      "  0.6326501  0.80389134 0.48081405 0.70195091]\n",
      " [0.59698162 0.24168047 0.32297159 0.21425796 0.75131105 0.79246872\n",
      "  0.80926221 0.75994485 0.26709899 0.65194303 0.679829   0.79613162\n",
      "  0.3568102  0.71940175 0.26348506 0.3178813  0.11578764 0.10621157\n",
      "  0.56732579 0.47700857 0.45804845 0.7616404  0.14768466 0.70443294\n",
      "  0.81268342 0.41810723 0.65080783 0.27816984 0.19137142 0.51908849\n",
      "  0.51923306 0.26174341 0.53365012 0.30416777 0.4785071  0.67957191\n",
      "  1.07029321 0.16040065 0.34709817 0.26509974 0.22069825 0.41177082\n",
      "  0.3967554  0.62066042 0.82501111 0.16033499 0.29234748 0.80824477\n",
      "  0.40514219 0.26108233 0.78222742 0.60940969 0.53220369 0.81589223\n",
      "  0.75924278 0.63058734 0.34242992 0.31414655 0.68592968 0.40283018\n",
      "  0.85681861 0.58607246 0.21182917 0.76632962 0.80266024 0.14564426\n",
      "  0.65380139 0.31207078 0.67416397 0.18997529 0.20877739 0.72133833\n",
      "  0.56495305 0.38183154 0.62943164 0.26186895 0.26868399 0.40769454\n",
      "  0.21699132 0.54201388 0.48257362 0.05565742 0.15952714 0.25806509\n",
      "  0.17115649 0.94091948 0.66401543 0.16397986 0.         0.80463551\n",
      "  0.72160902 0.68240131 0.26577679 0.64175384 0.61468337 0.64516758\n",
      "  0.51861325 0.7416235  0.46711085 0.61072644]\n",
      " [0.37961658 0.79861387 0.5003777  0.71561813 0.08150404 0.54399343\n",
      "  0.03622087 0.27003114 0.54760249 0.61481921 0.13546466 0.84233316\n",
      "  0.59183168 0.10136295 0.68023656 0.7632144  0.78487476 0.70044129\n",
      "  0.71476012 0.78386649 0.36484327 0.5141843  0.75303683 0.37756711\n",
      "  0.10073636 0.70521807 0.78048401 0.56801191 0.95190262 0.36190552\n",
      "  0.28942856 0.57465627 0.67231208 0.67470731 0.35204932 0.26314906\n",
      "  0.27805507 0.84910262 0.50709754 0.65500964 0.79249003 0.43524652\n",
      "  0.7995486  0.22655119 0.04514396 0.64441115 0.93967322 0.5312458\n",
      "  0.57199654 1.04936989 0.6222072  0.5171189  0.37466514 0.71696147\n",
      "  0.42965    0.50091703 0.48112297 0.49526894 0.18147464 0.46306757\n",
      "  0.36740733 0.27180606 0.67262225 0.04007068 0.81009454 0.66076383\n",
      "  0.52482704 0.63125645 0.17267583 0.61477676 0.63803846 0.52002003\n",
      "  0.29495398 0.42674278 0.25990043 0.6431735  0.55180771 0.64960377\n",
      "  1.00694775 0.64694572 0.47865864 0.82060823 0.856574   0.64532709\n",
      "  0.9067404  0.15018159 0.82499057 0.8449564  0.80463551 0.\n",
      "  0.81959397 0.12579619 0.76853304 0.41135907 0.47685686 0.37315397\n",
      "  0.43367106 0.12402855 0.36844523 0.30176353]\n",
      " [0.44709407 0.49252446 0.56723439 0.85729583 0.73855959 0.33332599\n",
      "  0.85078481 0.99463879 0.59447354 1.14764217 0.79224377 0.07618248\n",
      "  0.41448552 0.81437663 0.87629467 0.97490044 0.60853195 0.6651899\n",
      "  1.14322083 0.25092303 0.75140061 0.34202483 0.57392505 1.03167584\n",
      "  0.74312881 0.30542156 0.07153995 0.53342159 0.68517896 0.50925481\n",
      "  0.6484452  0.55148801 1.09481744 0.90933127 0.77061424 0.92628975\n",
      "  0.94079145 0.59926824 0.792901   0.85731528 0.90880083 0.52646346\n",
      "  0.33870091 0.61554197 0.86382547 0.67417759 0.54975065 0.35725077\n",
      "  0.38124817 0.77548721 0.24963239 1.05592146 0.48309582 0.18813874\n",
      "  0.42174871 1.0611682  0.56637453 0.60956597 0.86017552 0.49665937\n",
      "  0.54698372 0.57789194 0.81852474 0.78757142 0.09809299 0.69264233\n",
      "  1.0937318  0.43644441 0.65536954 0.65732125 0.55662171 1.13756842\n",
      "  0.83010076 0.69580505 0.87303965 0.84344121 0.57942661 0.98158922\n",
      "  0.75885789 0.21903613 0.92031714 0.67997867 0.87846318 0.48823854\n",
      "  0.89185766 0.9570964  0.06726558 0.59268921 0.72160902 0.81959397\n",
      "  0.         0.77551619 0.93461922 0.40825954 1.03281926 0.98271908\n",
      "  0.91698169 0.8666279  0.55972585 0.89254043]\n",
      " [0.32880627 0.69240716 0.38701031 0.58993349 0.1097755  0.53982164\n",
      "  0.12690317 0.23018739 0.43046526 0.52484311 0.02134557 0.80870214\n",
      "  0.49641141 0.04326549 0.5551498  0.64000084 0.668769   0.57927079\n",
      "  0.6100924  0.70497835 0.23907661 0.50534477 0.63889648 0.30897229\n",
      "  0.1786703  0.620634   0.72789653 0.45708562 0.83529928 0.28065058\n",
      "  0.17683023 0.46160383 0.56506611 0.55078924 0.22678286 0.18622\n",
      "  0.40314394 0.73521476 0.38161682 0.52975286 0.66694122 0.33267385\n",
      "  0.70975382 0.16010129 0.14278162 0.52207127 0.83275628 0.53233953\n",
      "  0.48391392 0.93072593 0.60773143 0.42293144 0.30071546 0.69974137\n",
      "  0.42810451 0.41091245 0.36852392 0.3772155  0.09912185 0.3636368\n",
      "  0.40433528 0.19885421 0.54682918 0.0929021  0.78083416 0.53770526\n",
      "  0.43863858 0.5309776  0.13152991 0.49308389 0.52417781 0.44781448\n",
      "  0.17786416 0.30235559 0.15974049 0.51774148 0.43610211 0.53111423\n",
      "  0.88782562 0.58333581 0.36376653 0.70077672 0.73088075 0.53846383\n",
      "  0.78119244 0.25981973 0.77114021 0.73144503 0.68240131 0.12579619\n",
      "  0.77551619 0.         0.6437665  0.37561271 0.38404565 0.28716896\n",
      "  0.32184152 0.0916101  0.2673528  0.20058894]\n",
      " [0.69109339 0.49303914 0.41085253 0.07887027 0.73938539 0.92722374\n",
      "  0.7610704  0.63669032 0.36209407 0.42351304 0.63313652 1.00484261\n",
      "  0.52735012 0.66950315 0.08961362 0.0527329  0.36967677 0.27409414\n",
      "  0.31373902 0.70725446 0.40711623 0.89160903 0.38736127 0.54830582\n",
      "  0.80900164 0.63186346 0.86320641 0.41281757 0.44316655 0.59330696\n",
      "  0.5270967  0.39313079 0.2892587  0.09794452 0.41709754 0.56874426\n",
      "  1.04657639 0.42550176 0.26373614 0.11603379 0.05230448 0.49550871\n",
      "  0.63732952 0.64648259 0.7746543  0.26126939 0.55809015 0.93741635\n",
      "  0.56982831 0.47893152 0.93962107 0.41153244 0.61658134 0.99306206\n",
      "  0.86450873 0.43695528 0.42341429 0.37649608 0.60854373 0.5052336\n",
      "  0.9316111  0.62718143 0.12463759 0.73645756 1.00346998 0.24207103\n",
      "  0.45137757 0.49860748 0.68702549 0.28214537 0.37804557 0.52006058\n",
      "  0.48036665 0.36891464 0.53422691 0.1299782  0.37429304 0.17984343\n",
      "  0.44005448 0.73017521 0.32560028 0.32138878 0.15307556 0.44641326\n",
      "  0.20123155 0.87905841 0.88479542 0.42858866 0.26577679 0.76853304\n",
      "  0.93461922 0.6437665  0.         0.74836227 0.43079998 0.49686884\n",
      "  0.37339597 0.67260416 0.5231674  0.50134856]\n",
      " [0.06198837 0.51824031 0.34075428 0.67218391 0.33030547 0.19028428\n",
      "  0.44260517 0.60290396 0.39533595 0.82318278 0.39421482 0.43460408\n",
      "  0.30159816 0.41160103 0.66624334 0.77105959 0.5668219  0.54320143\n",
      "  0.85906071 0.41014093 0.42382568 0.1524894  0.52594738 0.65960821\n",
      "  0.33866598 0.35352795 0.37108234 0.36504636 0.71748836 0.16296226\n",
      "  0.28902986 0.38309377 0.80903784 0.6853548  0.43561901 0.54368266\n",
      "  0.5625785  0.60648943 0.52220319 0.64090344 0.7448109  0.25289835\n",
      "  0.45388279 0.21740793 0.4555693  0.51357918 0.64815931 0.19436306\n",
      "  0.25786797 0.82312175 0.23882034 0.72225873 0.13540908 0.326835\n",
      "  0.11846639 0.72051888 0.32606118 0.37204488 0.46764093 0.24719533\n",
      "  0.22524684 0.18928482 0.6243371  0.37952068 0.4054746  0.53565081\n",
      "  0.75264457 0.35221824 0.24938879 0.48384375 0.43313633 0.78310014\n",
      "  0.4683962  0.40432007 0.49660482 0.62558195 0.38700801 0.72232726\n",
      "  0.78830077 0.25274131 0.60684536 0.62899065 0.76157815 0.39586851\n",
      "  0.7973304  0.55088748 0.415861   0.60036486 0.64175384 0.41135907\n",
      "  0.40825954 0.37561271 0.74836227 0.         0.69120183 0.61954641\n",
      "  0.58738502 0.46468835 0.23577757 0.52473291]\n",
      " [0.63094583 0.75313936 0.48483793 0.42380948 0.49283738 0.87809354\n",
      "  0.45265119 0.24528231 0.48428227 0.14085007 0.36391227 1.08494043\n",
      "  0.64668012 0.38235476 0.37066995 0.39762435 0.66730607 0.54726821\n",
      "  0.24637299 0.87800707 0.28148744 0.8406908  0.65846422 0.13048302\n",
      "  0.55841965 0.78644433 0.97019375 0.54420965 0.80476346 0.53931634\n",
      "  0.40255815 0.53394458 0.21264823 0.339292   0.26319617 0.21471596\n",
      "  0.73140183 0.73997684 0.28546091 0.35832202 0.47663159 0.50674648\n",
      "  0.84360882 0.49232215 0.46017391 0.49068207 0.87012796 0.87683454\n",
      "  0.66374299 0.8711803  0.92853361 0.04041779 0.56845903 1.01073179\n",
      "  0.7771712  0.02931728 0.47890148 0.44610824 0.29676621 0.53778741\n",
      "  0.78098746 0.5057324  0.40684843 0.46219592 1.06693938 0.49107197\n",
      "  0.06171899 0.65271219 0.49671492 0.4794372  0.57234453 0.11271966\n",
      "  0.22624676 0.34372774 0.22433479 0.35714146 0.49881955 0.25501193\n",
      "  0.82792391 0.81539607 0.13561059 0.6588822  0.57283928 0.6259945\n",
      "  0.62540388 0.53202188 1.00673829 0.73956064 0.61468337 0.47685686\n",
      "  1.03281926 0.38404565 0.43079998 0.69120183 0.         0.10504694\n",
      "  0.11828095 0.35372908 0.47696515 0.18381537]\n",
      " [0.56157103 0.75221529 0.46110196 0.47507477 0.39396505 0.80189469\n",
      "  0.34808045 0.14662215 0.47292572 0.24174178 0.26631469 1.02974897\n",
      "  0.61777379 0.28101105 0.4246668  0.47134906 0.68093177 0.56462511\n",
      "  0.35020301 0.84931734 0.24247033 0.76512729 0.66589866 0.06020783\n",
      "  0.45757417 0.75772442 0.92367862 0.52749218 0.83023034 0.47744277\n",
      "  0.33710526 0.5207256  0.3135543  0.40019965 0.21976334 0.11016533\n",
      "  0.6264977  0.75411405 0.29923957 0.40715423 0.53767815 0.46416077\n",
      "  0.82493942 0.41082117 0.35531034 0.50469102 0.87840901 0.79854894\n",
      "  0.62757111 0.90586833 0.85835413 0.1454282  0.5057098  0.944304\n",
      "  0.69657647 0.12778466 0.45121884 0.42721057 0.19496454 0.49721622\n",
      "  0.6895699  0.43066138 0.44883097 0.36043881 1.00862337 0.50964485\n",
      "  0.15259922 0.63175253 0.40739333 0.487432   0.568055   0.16477092\n",
      "  0.15337739 0.31995215 0.1294961  0.40226408 0.48599209 0.33274044\n",
      "  0.86189836 0.7692535  0.17255244 0.68357144 0.62776082 0.61328373\n",
      "  0.68117274 0.42819462 0.96259204 0.752759   0.64516758 0.37315397\n",
      "  0.98271908 0.28716896 0.49686884 0.61954641 0.10504694 0.\n",
      "  0.12840136 0.24950631 0.42308513 0.09506311]\n",
      " [0.52604771 0.64000116 0.36657639 0.34729028 0.43086875 0.77655667\n",
      "  0.41693309 0.26329935 0.36739632 0.23637566 0.30467443 0.97058963\n",
      "  0.52840282 0.33280493 0.29768322 0.35264188 0.56042882 0.44206748\n",
      "  0.2906626  0.75974374 0.16765101 0.7388454  0.54847675 0.18628529\n",
      "  0.50048549 0.66816893 0.85357086 0.42660592 0.70543714 0.43065295\n",
      "  0.29905238 0.41687037 0.24405007 0.27571488 0.15231799 0.19841254\n",
      "  0.70526457 0.63357095 0.17602944 0.27929626 0.41189385 0.3905218\n",
      "  0.72616513 0.40095002 0.42789232 0.38329946 0.76103404 0.77715559\n",
      "  0.54587956 0.77879955 0.8221574  0.13911937 0.45995326 0.90170264\n",
      "  0.68046708 0.14520909 0.36066398 0.32804912 0.25546741 0.42094089\n",
      "  0.69813453 0.40742184 0.32043118 0.4104354  0.95380052 0.38634151\n",
      "  0.17740614 0.5347878  0.41558026 0.36894111 0.4575755  0.22977357\n",
      "  0.14498064 0.2255262  0.17585729 0.27401559 0.381707   0.22184914\n",
      "  0.73492644 0.69894154 0.04889577 0.5587234  0.50012923 0.50925492\n",
      "  0.55357708 0.51991058 0.88960277 0.6326501  0.51861325 0.43367106\n",
      "  0.91698169 0.32184152 0.37339597 0.58738502 0.11828095 0.12840136\n",
      "  0.         0.31980113 0.36498936 0.13631781]\n",
      " [0.41964254 0.7713453  0.4626511  0.62703092 0.16247199 0.62264023\n",
      "  0.09930151 0.15384589 0.50117529 0.49099559 0.07805689 0.89871989\n",
      "  0.58222392 0.05326217 0.58674627 0.66181286 0.73857866 0.64168843\n",
      "  0.59413025 0.79468847 0.28504422 0.58928759 0.71120984 0.25438885\n",
      "  0.21538668 0.709316   0.8194439  0.53407954 0.90358908 0.37150458\n",
      "  0.25852911 0.53658523 0.55306077 0.57617256 0.26694901 0.13935891\n",
      "  0.38563601 0.80723741 0.41888514 0.56286216 0.70158213 0.41682244\n",
      "  0.79666939 0.2510921  0.1085905  0.58241741 0.91059055 0.61351058\n",
      "  0.57222502 0.99567838 0.69362744 0.39409177 0.39213069 0.7865737\n",
      "  0.50931989 0.37728629 0.44518628 0.447493   0.06486572 0.44888978\n",
      "  0.47020865 0.29045785 0.58744427 0.11812926 0.87016294 0.59598006\n",
      "  0.40085395 0.61438658 0.2166017  0.55527574 0.59769409 0.39689955\n",
      "  0.19226591 0.36024639 0.14397692 0.55249529 0.50852889 0.54013487\n",
      "  0.9521679  0.67486192 0.36689756 0.76484323 0.77412631 0.61788041\n",
      "  0.826033   0.20675028 0.86272767 0.80389134 0.7416235  0.12402855\n",
      "  0.8666279  0.0916101  0.67260416 0.46468835 0.35372908 0.24950631\n",
      "  0.31980113 0.         0.35323846 0.18423613]\n",
      " [0.1744618  0.4301794  0.14446951 0.45020092 0.29998662 0.4250386\n",
      "  0.38444723 0.45093482 0.20008832 0.60082845 0.27580623 0.60869633\n",
      "  0.22920114 0.31056413 0.43761376 0.54118438 0.42569774 0.3611434\n",
      "  0.62555076 0.44563875 0.19738958 0.3874425  0.39064574 0.47328192\n",
      "  0.35304385 0.35781292 0.50087119 0.20389794 0.5918999  0.07301372\n",
      "  0.09734609 0.21396258 0.57547746 0.45334039 0.21387177 0.37518258\n",
      "  0.61279843 0.48542706 0.28665146 0.41155457 0.52623426 0.06680163\n",
      "  0.44343674 0.15630039 0.40062846 0.31580478 0.57125171 0.43013187\n",
      "  0.22064708 0.69318885 0.46085792 0.50354401 0.1006187  0.53736547\n",
      "  0.34583766 0.50589502 0.12479958 0.158154   0.32452382 0.09631273\n",
      "  0.40966855 0.11899949 0.40185055 0.32838156 0.58998994 0.33644945\n",
      "  0.53853894 0.2642932  0.21283804 0.28414592 0.27711043 0.57878494\n",
      "  0.27108483 0.16855719 0.31905648 0.39638372 0.19897906 0.48655892\n",
      "  0.65247798 0.3469473  0.37785429 0.47132711 0.55907916 0.2771603\n",
      "  0.60162725 0.51720857 0.54045983 0.48081405 0.46711085 0.36844523\n",
      "  0.55972585 0.2673528  0.5231674  0.23577757 0.47696515 0.42308513\n",
      "  0.36498936 0.35323846 0.         0.33426482]\n",
      " [0.46712458 0.6907222  0.38894266 0.46517594 0.30993123 0.7068375\n",
      "  0.28248611 0.14940239 0.40919472 0.32465852 0.18085805 0.93785127\n",
      "  0.53954995 0.20290148 0.41976146 0.48520256 0.63157434 0.52082136\n",
      "  0.41337092 0.76930449 0.17043763 0.67006422 0.61191498 0.13915931\n",
      "  0.37688309 0.67829291 0.83496823 0.45853067 0.78846398 0.38506514\n",
      "  0.24469491 0.45436496 0.37054861 0.40353113 0.14661441 0.06970575\n",
      "  0.569859   0.70403292 0.26654244 0.39813675 0.5354854  0.38036137\n",
      "  0.75088297 0.31593794 0.29273403 0.45988027 0.82235492 0.70357662\n",
      "  0.54517579 0.87126398 0.76355325 0.22237991 0.41292289 0.8499364\n",
      "  0.60178613 0.21130559 0.37668166 0.35946749 0.12086273 0.41399717\n",
      "  0.59826708 0.33571045 0.43113942 0.28246704 0.91588973 0.4685092\n",
      "  0.24033439 0.55820693 0.31467128 0.43825492 0.50709084 0.25968585\n",
      "  0.06380363 0.25367511 0.04206327 0.38997025 0.42080537 0.35794539\n",
      "  0.82714466 0.68121211 0.1844041  0.64333226 0.61685652 0.5454577\n",
      "  0.67001163 0.38380424 0.87472462 0.70195091 0.61072644 0.30176353\n",
      "  0.89254043 0.20058894 0.50134856 0.52473291 0.18381537 0.09506311\n",
      "  0.13631781 0.18423613 0.33426482 0.        ]]\n"
     ]
    }
   ],
   "source": [
    "M = np.random.random((100, 2))\n",
    "x, y = np.atleast_2d(M[:,0], M[:,1])\n",
    "C = np.sqrt((x - x.T)**2 + (y - y.T)**2)\n",
    "print(C)"
   ]
  },
  {
   "cell_type": "markdown",
   "metadata": {},
   "source": [
    "#### 53. How to convert a float (32 bits) array into an integer (32 bits) in place?"
   ]
  },
  {
   "cell_type": "code",
   "execution_count": 145,
   "metadata": {},
   "outputs": [
    {
     "name": "stdout",
     "output_type": "stream",
     "text": [
      "[1.2  2.1  3.3  4.32 5.39] [1 2 3 4 5]\n"
     ]
    }
   ],
   "source": [
    "v = np.array([1.2, 2.1, 3.3, 4.32, 5.39])\n",
    "v0 = v.astype(dtype=np.int32)\n",
    "print(v, v0)"
   ]
  },
  {
   "cell_type": "markdown",
   "metadata": {},
   "source": [
    "#### 54. How to read the following file? (★★☆)\n",
    "```\n",
    "1, 2, 3, 4, 5\n",
    "6,  ,  , 7, 8\n",
    " ,  , 9,10,11\n",
    "```"
   ]
  },
  {
   "cell_type": "code",
   "execution_count": null,
   "metadata": {},
   "outputs": [],
   "source": [
    "np.genfromtxt\n",
    "arr = np.genfromtxt('file.csv', delimiter=',')\n",
    "arr[arr==''] = 0\n",
    "print(arr)"
   ]
  },
  {
   "cell_type": "markdown",
   "metadata": {},
   "source": [
    "#### 55. What is the equivalent of enumerate for numpy arrays? (★★☆)"
   ]
  },
  {
   "cell_type": "code",
   "execution_count": 146,
   "metadata": {},
   "outputs": [
    {
     "name": "stdout",
     "output_type": "stream",
     "text": [
      "(0, 0) 1\n",
      "(0, 1) 2\n",
      "(0, 2) 3\n",
      "(1, 0) 4\n",
      "(1, 1) 5\n",
      "(1, 2) 6\n"
     ]
    }
   ],
   "source": [
    "v = np.array([[1, 2, 3], [4, 5, 6]]) \n",
    "\n",
    "for index, val in np.ndenumerate(v): \n",
    "    print(index, val) "
   ]
  },
  {
   "cell_type": "markdown",
   "metadata": {},
   "source": [
    "#### 56. Generate a generic 2D Gaussian-like array (★★☆)"
   ]
  },
  {
   "cell_type": "code",
   "execution_count": 150,
   "metadata": {},
   "outputs": [
    {
     "name": "stdout",
     "output_type": "stream",
     "text": [
      "[[0.36787944 0.44822088 0.51979489 0.57375342 0.60279818 0.60279818\n",
      "  0.57375342 0.51979489 0.44822088 0.36787944]\n",
      " [0.44822088 0.54610814 0.63331324 0.69905581 0.73444367 0.73444367\n",
      "  0.69905581 0.63331324 0.54610814 0.44822088]\n",
      " [0.51979489 0.63331324 0.73444367 0.81068432 0.85172308 0.85172308\n",
      "  0.81068432 0.73444367 0.63331324 0.51979489]\n",
      " [0.57375342 0.69905581 0.81068432 0.89483932 0.9401382  0.9401382\n",
      "  0.89483932 0.81068432 0.69905581 0.57375342]\n",
      " [0.60279818 0.73444367 0.85172308 0.9401382  0.98773022 0.98773022\n",
      "  0.9401382  0.85172308 0.73444367 0.60279818]\n",
      " [0.60279818 0.73444367 0.85172308 0.9401382  0.98773022 0.98773022\n",
      "  0.9401382  0.85172308 0.73444367 0.60279818]\n",
      " [0.57375342 0.69905581 0.81068432 0.89483932 0.9401382  0.9401382\n",
      "  0.89483932 0.81068432 0.69905581 0.57375342]\n",
      " [0.51979489 0.63331324 0.73444367 0.81068432 0.85172308 0.85172308\n",
      "  0.81068432 0.73444367 0.63331324 0.51979489]\n",
      " [0.44822088 0.54610814 0.63331324 0.69905581 0.73444367 0.73444367\n",
      "  0.69905581 0.63331324 0.54610814 0.44822088]\n",
      " [0.36787944 0.44822088 0.51979489 0.57375342 0.60279818 0.60279818\n",
      "  0.57375342 0.51979489 0.44822088 0.36787944]]\n"
     ]
    }
   ],
   "source": [
    "x, y = np.meshgrid(np.linspace(-1, 1, 10), np.linspace(-1, 1, 10))\n",
    "d = np.sqrt(x * x + y * y)\n",
    "sigma, mu = 1.0, 0.0\n",
    "v = np.exp(-((d-mu)**2 / (2.0 * sigma**2)))\n",
    "print(v)"
   ]
  },
  {
   "cell_type": "markdown",
   "metadata": {},
   "source": [
    "#### 57. How to randomly place p elements in a 2D array? (★★☆)"
   ]
  },
  {
   "cell_type": "code",
   "execution_count": 153,
   "metadata": {},
   "outputs": [
    {
     "name": "stdout",
     "output_type": "stream",
     "text": [
      "[[0. 0. 0. 0. 0.]\n",
      " [0. 0. 0. 1. 0.]\n",
      " [1. 1. 0. 0. 1.]\n",
      " [1. 0. 1. 0. 0.]\n",
      " [0. 0. 1. 0. 0.]]\n"
     ]
    }
   ],
   "source": [
    "p = 7\n",
    "n = 5\n",
    "M = np.zeros((n,n))\n",
    "np.put(M, np.random.choice(range(n*n), p, replace=False), 1)\n",
    "print(M)"
   ]
  },
  {
   "cell_type": "markdown",
   "metadata": {},
   "source": [
    "#### 58. Subtract the mean of each row of a matrix (★★☆)"
   ]
  },
  {
   "cell_type": "code",
   "execution_count": 159,
   "metadata": {},
   "outputs": [
    {
     "name": "stdout",
     "output_type": "stream",
     "text": [
      "[[ 0.13033584  0.31794858 -0.59264049  0.04010499  0.10425108]\n",
      " [-0.14614652  0.00233697  0.3364851  -0.24307474  0.05039919]\n",
      " [ 0.03871727  0.19977561  0.16529343 -0.29720206 -0.10658424]\n",
      " [ 0.55347338 -0.16892926 -0.34592387 -0.09055196  0.05193171]\n",
      " [ 0.25347225 -0.33784648 -0.16187588  0.06763241  0.17861769]]\n"
     ]
    }
   ],
   "source": [
    "M = np.random.rand(5, 5)\n",
    "print(M - M.mean(axis=1, keepdims=True))"
   ]
  },
  {
   "cell_type": "markdown",
   "metadata": {},
   "source": [
    "#### 59. How to sort an array by the nth column? (★★☆)"
   ]
  },
  {
   "cell_type": "code",
   "execution_count": 161,
   "metadata": {},
   "outputs": [
    {
     "name": "stdout",
     "output_type": "stream",
     "text": [
      "[[1 5 2]\n",
      " [3 2 4]\n",
      " [4 3 1]]\n"
     ]
    }
   ],
   "source": [
    "M = np.array([[1, 5, 2], \n",
    "              [3, 2, 4], \n",
    "              [4, 3, 1]]) \n",
    "n = 0\n",
    "print(M[M[:,n].argsort()])"
   ]
  },
  {
   "cell_type": "markdown",
   "metadata": {},
   "source": [
    "#### 60. How to tell if a given 2D array has null columns? (★★☆)"
   ]
  },
  {
   "cell_type": "code",
   "execution_count": 165,
   "metadata": {},
   "outputs": [
    {
     "name": "stdout",
     "output_type": "stream",
     "text": [
      "Array has null columns at indices [1 2]\n"
     ]
    }
   ],
   "source": [
    "M = np.array([[1, 2, 3], \n",
    "              [4, 5, np.nan], \n",
    "              [7, np.nan, 9]]) \n",
    "null_columns = np.where(np.isnan(M).any(axis=0))[0]\n",
    "if len(null_columns) > 0:\n",
    "    print(f\"Array has null columns at indices {null_columns}\")\n",
    "else:\n",
    "    print(\"Array does not have null columns\")"
   ]
  },
  {
   "cell_type": "markdown",
   "metadata": {},
   "source": [
    "#### 61. Find the nearest value from a given value in an array (★★☆)"
   ]
  },
  {
   "cell_type": "code",
   "execution_count": 166,
   "metadata": {},
   "outputs": [
    {
     "name": "stdout",
     "output_type": "stream",
     "text": [
      "12\n"
     ]
    }
   ],
   "source": [
    "v = np.array([1, 4, 7, 9, 12, 15, 17, 19, 22, 25])\n",
    "value = 11\n",
    "nearest_value = np.argmin(np.abs(v - value))\n",
    "print(v[nearest_value])"
   ]
  },
  {
   "cell_type": "markdown",
   "metadata": {},
   "source": [
    "#### 62. Considering two arrays with shape (1,3) and (3,1), how to compute their sum using an iterator? (★★☆)"
   ]
  },
  {
   "cell_type": "code",
   "execution_count": 171,
   "metadata": {},
   "outputs": [
    {
     "name": "stdout",
     "output_type": "stream",
     "text": [
      "[[5. 6. 7.]\n",
      " [6. 7. 8.]\n",
      " [7. 8. 9.]]\n"
     ]
    }
   ],
   "source": [
    "v1 = np.array([[1, 2, 3]])\n",
    "v2 = np.array([[4], [5], [6]])\n",
    "\n",
    "sum_result = np.zeros((3,3))\n",
    "for i in range(v1.shape[1]):\n",
    "    for j in range(v2.shape[0]):\n",
    "        sum_result[i,j] = v1[0,i] + v2[j,0]\n",
    "print(sum_result)"
   ]
  },
  {
   "cell_type": "markdown",
   "metadata": {},
   "source": [
    "#### 63. Create an array class that has a name attribute (★★☆)"
   ]
  },
  {
   "cell_type": "code",
   "execution_count": 174,
   "metadata": {},
   "outputs": [
    {
     "name": "stdout",
     "output_type": "stream",
     "text": [
      "example_array\n"
     ]
    }
   ],
   "source": [
    "class myArray():\n",
    "    def __init__(self, name):\n",
    "        self.name = name\n",
    "        self.array = np.array([])\n",
    "    \n",
    "    def add_array_elements(self, elements):\n",
    "        self.array = np.append(self.array, elements)\n",
    "    \n",
    "    def remove_array_elements(self, elements):\n",
    "        self.array = np.delete(self.array, elements)\n",
    "    \n",
    "    def get_name(self):\n",
    "        return self.name\n",
    "    \n",
    "    def get_array(self):\n",
    "        return self.array\n",
    "    \n",
    "example = myArray('example_array')\n",
    "example.add_array_elements([1,2,3])\n",
    "print(example.get_name())"
   ]
  },
  {
   "cell_type": "markdown",
   "metadata": {},
   "source": [
    "#### 64. Consider a given vector, how to add 1 to each element indexed by a second vector (be careful with repeated indices)? (★★★)"
   ]
  },
  {
   "cell_type": "code",
   "execution_count": 181,
   "metadata": {},
   "outputs": [
    {
     "name": "stdout",
     "output_type": "stream",
     "text": [
      "[79 26 67 27 45 67 85 79 17 87] [4 5 6 6 6 1 3 4 8 5]\n",
      "[79 27 67 28 47 69 88 79 18 87]\n"
     ]
    }
   ],
   "source": [
    "v = np.random.randint(100, size=10)\n",
    "i = np.random.randint(10, size=10)\n",
    "print(v, i)\n",
    "np.add.at(v, i, 1)\n",
    "print(v)"
   ]
  },
  {
   "cell_type": "markdown",
   "metadata": {},
   "source": [
    "#### 65. How to accumulate elements of a vector (X) to an array (F) based on an index list (I)? (★★★)"
   ]
  },
  {
   "cell_type": "code",
   "execution_count": 182,
   "metadata": {},
   "outputs": [
    {
     "name": "stdout",
     "output_type": "stream",
     "text": [
      "[1. 2. 7.]\n"
     ]
    }
   ],
   "source": [
    "X = np.array([1,2,3,4])\n",
    "I = np.array([0, 1, 2, 2])\n",
    "F = np.zeros(3)\n",
    "np.add.at(F, I, X)\n",
    "print(F)"
   ]
  },
  {
   "cell_type": "markdown",
   "metadata": {},
   "source": [
    "#### 66. Considering a (w,h,3) image of (dtype=ubyte), compute the number of unique colors (★★☆)"
   ]
  },
  {
   "cell_type": "code",
   "execution_count": 185,
   "metadata": {},
   "outputs": [
    {
     "name": "stdout",
     "output_type": "stream",
     "text": [
      "65536\n"
     ]
    }
   ],
   "source": [
    "w, h, c = 256, 256, 256\n",
    "data = np.random.randint(0, 255, (w, h, c), dtype=np.uint8)\n",
    "unique_colors = np.unique(data.reshape(-1, c), axis=0)\n",
    "print(len(unique_colors))"
   ]
  },
  {
   "cell_type": "markdown",
   "metadata": {},
   "source": [
    "#### 67. Considering a four dimensions array, how to get sum over the last two axis at once? (★★★)"
   ]
  },
  {
   "cell_type": "code",
   "execution_count": 187,
   "metadata": {},
   "outputs": [
    {
     "name": "stdout",
     "output_type": "stream",
     "text": [
      "[[ 21  57]\n",
      " [ 93 129]]\n"
     ]
    }
   ],
   "source": [
    "M = np.array([[[[1,2,3],\n",
    "                [4,5,6]],\n",
    "               [[7,8,9],\n",
    "                [10,11,12]]],\n",
    "              [[[13,14,15],\n",
    "                [16,17,18]],\n",
    "               [[19,20,21],\n",
    "                [22,23,24]]]])\n",
    "print(np.sum(M, axis=(-2,-1)))"
   ]
  },
  {
   "cell_type": "markdown",
   "metadata": {},
   "source": [
    "#### 68. Considering a one-dimensional vector D, how to compute means of subsets of D using a vector S of same size describing subset  indices? (★★★)"
   ]
  },
  {
   "cell_type": "code",
   "execution_count": 188,
   "metadata": {},
   "outputs": [
    {
     "name": "stdout",
     "output_type": "stream",
     "text": [
      "[96.         26.         28.         18.         59.         45.33333333\n",
      " 86.          7.        ]\n"
     ]
    }
   ],
   "source": [
    "D = np.random.randint(100, size=10)\n",
    "S = np.random.randint(100, size=10)\n",
    "\n",
    "unique_subsets = np.unique(S)\n",
    "result = np.array([np.mean(D[S==subset]) for subset in unique_subsets])\n",
    "print(result)"
   ]
  },
  {
   "cell_type": "markdown",
   "metadata": {},
   "source": [
    "#### 69. How to get the diagonal of a dot product? (★★★)"
   ]
  },
  {
   "cell_type": "code",
   "execution_count": 190,
   "metadata": {},
   "outputs": [
    {
     "name": "stdout",
     "output_type": "stream",
     "text": [
      "[21 28]\n"
     ]
    }
   ],
   "source": [
    "A = np.array([[3, 5], [2, 4]]) \n",
    "B = np.array([[2, 4], [3, 5]]) \n",
    "diagonal = np.diagonal(np.dot(A, B) ) \n",
    "print(diagonal)"
   ]
  },
  {
   "cell_type": "markdown",
   "metadata": {},
   "source": [
    "#### 70. Consider the vector [1, 2, 3, 4, 5], how to build a new vector with 3 consecutive zeros interleaved between each value? (★★★)"
   ]
  },
  {
   "cell_type": "code",
   "execution_count": 193,
   "metadata": {},
   "outputs": [
    {
     "name": "stdout",
     "output_type": "stream",
     "text": [
      "[1. 0. 0. 2. 0. 0. 3. 0. 0. 4. 0. 0. 5.]\n"
     ]
    }
   ],
   "source": [
    "M = np.array([1,2,3,4,5])\n",
    "val = 2\n",
    "M0 = np.zeros(len(M) + (len(M) - 1) * (val))\n",
    "M0[:: val + 1] = M\n",
    "print(M0)"
   ]
  },
  {
   "cell_type": "markdown",
   "metadata": {},
   "source": [
    "#### 71. Consider an array of dimension (5,5,3), how to mulitply it by an array with dimensions (5,5)? (★★★)"
   ]
  },
  {
   "cell_type": "code",
   "execution_count": 205,
   "metadata": {},
   "outputs": [
    {
     "name": "stdout",
     "output_type": "stream",
     "text": [
      "[[[0.3 0.3 0.3]\n",
      "  [0.3 0.3 0.3]\n",
      "  [0.3 0.3 0.3]\n",
      "  [0.3 0.3 0.3]\n",
      "  [0.3 0.3 0.3]]\n",
      "\n",
      " [[0.3 0.3 0.3]\n",
      "  [0.3 0.3 0.3]\n",
      "  [0.3 0.3 0.3]\n",
      "  [0.3 0.3 0.3]\n",
      "  [0.3 0.3 0.3]]\n",
      "\n",
      " [[0.3 0.3 0.3]\n",
      "  [0.3 0.3 0.3]\n",
      "  [0.3 0.3 0.3]\n",
      "  [0.3 0.3 0.3]\n",
      "  [0.3 0.3 0.3]]\n",
      "\n",
      " [[0.3 0.3 0.3]\n",
      "  [0.3 0.3 0.3]\n",
      "  [0.3 0.3 0.3]\n",
      "  [0.3 0.3 0.3]\n",
      "  [0.3 0.3 0.3]]\n",
      "\n",
      " [[0.3 0.3 0.3]\n",
      "  [0.3 0.3 0.3]\n",
      "  [0.3 0.3 0.3]\n",
      "  [0.3 0.3 0.3]\n",
      "  [0.3 0.3 0.3]]]\n"
     ]
    }
   ],
   "source": [
    "A = np.ones((5, 5, 3))\n",
    "B = .3 * np.ones((5, 5))\n",
    "print(A * B[:, :, None])"
   ]
  },
  {
   "cell_type": "markdown",
   "metadata": {},
   "source": [
    "#### 72. How to swap two rows of an array? (★★★)"
   ]
  },
  {
   "cell_type": "code",
   "execution_count": 209,
   "metadata": {},
   "outputs": [
    {
     "name": "stdout",
     "output_type": "stream",
     "text": [
      "[[1 2 3]\n",
      " [7 8 9]\n",
      " [4 5 6]]\n"
     ]
    }
   ],
   "source": [
    "M = np.array([[1,2,3], \n",
    "              [4,5,6], \n",
    "              [7,8,9]])\n",
    "M[[1,2], :] = M[[2,1], :]\n",
    "print(M)"
   ]
  },
  {
   "cell_type": "markdown",
   "metadata": {},
   "source": [
    "#### 73. Consider a set of 10 triplets describing 10 triangles (with shared vertices), find the set of unique line segments composing all the  triangles (★★★)"
   ]
  },
  {
   "cell_type": "code",
   "execution_count": 215,
   "metadata": {},
   "outputs": [
    {
     "name": "stdout",
     "output_type": "stream",
     "text": [
      "[[ 1  2]\n",
      " [ 2  3]\n",
      " [ 3  1]\n",
      " [ 3  1]\n",
      " [ 2  3]\n",
      " [ 1  2]\n",
      " [ 4  5]\n",
      " [ 5  6]\n",
      " [ 6  4]\n",
      " [ 6  4]\n",
      " [ 5  6]\n",
      " [ 4  5]\n",
      " [13 14]\n",
      " [14 15]\n",
      " [15 13]\n",
      " [15 13]\n",
      " [14 15]\n",
      " [13 14]\n",
      " [22 23]\n",
      " [23 24]\n",
      " [24 22]\n",
      " [24 22]\n",
      " [23 24]\n",
      " [22 23]]\n"
     ]
    }
   ],
   "source": [
    "V =             [[(1,2),(2,3),(3,1)],\n",
    "                [(4,5),(5,6),(6,4)],\n",
    "                [(13,14),(14,15),(15,13)],\n",
    "                [(22,23),(23,24),(24,22)]]\n",
    "line_segments = np.empty((0,2), dtype = int)\n",
    "for triplet in V:\n",
    "    line_segments = np.vstack((line_segments, triplet, triplet[::-1]))\n",
    "print(line_segments)"
   ]
  },
  {
   "cell_type": "markdown",
   "metadata": {},
   "source": [
    "#### 74. Given a sorted array C that corresponds to a bincount, how to produce an array A such that np.bincount(A) == C? (★★★)"
   ]
  },
  {
   "cell_type": "code",
   "execution_count": 216,
   "metadata": {},
   "outputs": [
    {
     "name": "stdout",
     "output_type": "stream",
     "text": [
      "[0 1 1 1 2 2 2 3 3 3]\n",
      "[1 3 3 3]\n"
     ]
    }
   ],
   "source": [
    "C = np.array([1, 3, 3, 3])\n",
    "A = np.repeat(np.arange(len(C)), C)\n",
    "print(A)\n",
    "print(np.bincount(A))"
   ]
  },
  {
   "cell_type": "markdown",
   "metadata": {},
   "source": [
    "#### 75. How to compute averages using a sliding window over an array? (★★★)"
   ]
  },
  {
   "cell_type": "code",
   "execution_count": 221,
   "metadata": {},
   "outputs": [
    {
     "name": "stdout",
     "output_type": "stream",
     "text": [
      "[3. 4. 5. 6. 7. 8.]\n"
     ]
    }
   ],
   "source": [
    "v = np.array([2., 3., 4., 5., 6., 7., 8., 9.])\n",
    "sliding_window_size = 3\n",
    "conv_win = np.ones(sliding_window_size)\n",
    "conv_win /= 1.0 * sliding_window_size\n",
    "convolved = np.convolve(v, conv_win, 'valid')\n",
    "print(convolved)"
   ]
  },
  {
   "cell_type": "markdown",
   "metadata": {},
   "source": [
    "#### 76. Consider a one-dimensional array Z, build a two-dimensional array whose first row is (Z[0],Z[1],Z[2]) and each subsequent row is  shifted by 1 (last row should be (Z[-3],Z[-2],Z[-1]) (★★★)"
   ]
  },
  {
   "cell_type": "code",
   "execution_count": 222,
   "metadata": {},
   "outputs": [
    {
     "name": "stdout",
     "output_type": "stream",
     "text": [
      "[[1 2 3]\n",
      " [2 3 4]\n",
      " [3 4 5]\n",
      " [4 5 6]\n",
      " [5 6 7]\n",
      " [6 7 8]\n",
      " [7 8 9]\n",
      " [7 8 9]]\n"
     ]
    }
   ],
   "source": [
    "Z = np.array([1, 2, 3, 4, 5, 6, 7, 8, 9])\n",
    "print(np.array([[Z[i], Z[i+1], Z[i+2]] for i in range(len(Z) - 2)] + [[Z[-3], Z[-2], Z[-1]]]))"
   ]
  },
  {
   "cell_type": "markdown",
   "metadata": {},
   "source": [
    "#### 77. How to negate a boolean, or to change the sign of a float inplace? (★★★)"
   ]
  },
  {
   "cell_type": "code",
   "execution_count": 226,
   "metadata": {},
   "outputs": [
    {
     "name": "stdout",
     "output_type": "stream",
     "text": [
      "[-0.34742356  0.86825928 -0.92472562 -0.1445952   0.59598071  0.07758039\n",
      "  0.22288009  0.57799243 -0.70772716  0.79390792  0.0615906  -0.97969215\n",
      " -0.12644159 -0.54797098 -0.0277991  -0.87101158 -0.69459945  0.81797755\n",
      " -0.15820615 -0.15166281]\n"
     ]
    }
   ],
   "source": [
    "M = np.random.uniform(-1.0, 1.0, 20)\n",
    "print(np.negative(M, out=M))"
   ]
  },
  {
   "cell_type": "markdown",
   "metadata": {},
   "source": [
    "#### 78. Consider 2 sets of points P0,P1 describing lines (2d) and a point p, how to compute distance from p to each line i (P0[i],P1[i])? (★★★)"
   ]
  },
  {
   "cell_type": "code",
   "execution_count": 227,
   "metadata": {},
   "outputs": [
    {
     "name": "stdout",
     "output_type": "stream",
     "text": [
      "[0.70710678 0.70710678]\n"
     ]
    }
   ],
   "source": [
    "P0 = np.array([[1,1],[2,2]])\n",
    "P1 = np.array([[3,3],[4,4]])\n",
    "p = np.array([2,3])\n",
    "\n",
    "distance = np.abs( ((P1[:,1] - P0[:,1]) * p[0] - (P1[:,0] - P0[:,0]) * p[1] + P1[:,0] * P0[:,1] - P1[:,1] * P0[:,0]) /\n",
    "             np.sqrt( (P1[:,1] - P0[:,1])**2 + (P1[:,0] - P0[:,0])**2 ))\n",
    "\n",
    "print(distance)"
   ]
  },
  {
   "cell_type": "markdown",
   "metadata": {},
   "source": [
    "#### 79. Consider 2 sets of points P0,P1 describing lines (2d) and a set of points P, how to compute distance from each point j (P[j]) to each line i (P0[i],P1[i])? (★★★)"
   ]
  },
  {
   "cell_type": "code",
   "execution_count": 229,
   "metadata": {},
   "outputs": [
    {
     "name": "stdout",
     "output_type": "stream",
     "text": [
      "[0.5 0.5 0.5]\n"
     ]
    }
   ],
   "source": [
    "P0 = np.array([[0, 0], [1, 1], [2, 2]])\n",
    "P1 = np.array([[1, 0], [2, 1], [3, 2]])\n",
    "P = np.array([[0.5, 0.5], [1.5, 1.5], [2.5, 2.5]])\n",
    "line_vectors = P1 - P0\n",
    "p_vectors = P - P0\n",
    "cross_products = np.cross(line_vectors, p_vectors)\n",
    "magnitudes = np.linalg.norm(line_vectors, axis=1)\n",
    "distances = np.abs(cross_products) / magnitudes\n",
    "print(distances)"
   ]
  },
  {
   "cell_type": "markdown",
   "metadata": {},
   "source": [
    "#### 80. Consider an arbitrary array, write a function that extract a subpart with a fixed shape and centered on a given element (pad with a `fill` value when necessary) (★★★)"
   ]
  },
  {
   "cell_type": "code",
   "execution_count": 234,
   "metadata": {},
   "outputs": [
    {
     "name": "stdout",
     "output_type": "stream",
     "text": [
      "[[1 2]\n",
      " [5 6]]\n"
     ]
    }
   ],
   "source": [
    "def extract_subpart(arr, shape, element, fill_value):\n",
    "    subpart = np.ones(shape, dtype=arr.dtype) * fill_value\n",
    "    start_x = element[0] - (shape[0] // 2)\n",
    "    start_y = element[1] - (shape[1] // 2)\n",
    "    end_x = start_x + shape[0]\n",
    "    end_y = start_y + shape[1]\n",
    "    start_x = max(start_x, 0)\n",
    "    start_y = max(start_y, 0)\n",
    "    end_x = min(end_x, arr.shape[0])\n",
    "    end_y = min(end_y, arr.shape[1])\n",
    "    subpart[start_x:end_x, start_y:end_y] = arr[start_x:end_x, start_y:end_y]    \n",
    "    return subpart\n",
    "\n",
    "\n",
    "v = np.array([[1, 2, 3], \n",
    "              [5, 6, 7], \n",
    "              [9, 10, 11]])\n",
    "\n",
    "shape = (2, 2)\n",
    "element = (1, 1)\n",
    "fill_value = 0\n",
    "\n",
    "print(extract_subpart(v, shape, element, fill_value))"
   ]
  },
  {
   "cell_type": "markdown",
   "metadata": {},
   "source": [
    "#### 81. Consider an array Z = [1,2,3,4,5,6,7,8,9,10,11,12,13,14], how to generate an array R = [[1,2,3,4], [2,3,4,5], [3,4,5,6], ..., [11,12,13,14]]? (★★★)"
   ]
  },
  {
   "cell_type": "code",
   "execution_count": 237,
   "metadata": {},
   "outputs": [
    {
     "name": "stdout",
     "output_type": "stream",
     "text": [
      "[[ 1  2  3]\n",
      " [ 2  3  4]\n",
      " [ 3  4  5]\n",
      " [ 4  5  6]\n",
      " [ 5  6  7]\n",
      " [ 6  7  8]\n",
      " [ 7  8  9]\n",
      " [ 8  9 10]\n",
      " [ 9 10 11]\n",
      " [10 11 12]\n",
      " [11 12 13]\n",
      " [12 13 14]]\n"
     ]
    }
   ],
   "source": [
    "Z = np.array([1,2,3,4,5,6,7,8,9,10,11,12,13,14])\n",
    "R = np.array([Z[i-3:i] for i in range(3, len(Z)+1)])\n",
    "print(R)"
   ]
  },
  {
   "cell_type": "markdown",
   "metadata": {},
   "source": [
    "#### 82. Compute a matrix rank (★★★)"
   ]
  },
  {
   "cell_type": "code",
   "execution_count": 242,
   "metadata": {},
   "outputs": [
    {
     "name": "stdout",
     "output_type": "stream",
     "text": [
      "10\n"
     ]
    }
   ],
   "source": [
    "M = np.random.uniform(0, 1, (10, 10))\n",
    "U, S, V = np.linalg.svd(M)\n",
    "rank = np.sum(S > 1e-10)\n",
    "print(rank)"
   ]
  },
  {
   "cell_type": "markdown",
   "metadata": {},
   "source": [
    "#### 83. How to find the most frequent value in an array?"
   ]
  },
  {
   "cell_type": "code",
   "execution_count": 246,
   "metadata": {},
   "outputs": [
    {
     "name": "stdout",
     "output_type": "stream",
     "text": [
      "[ 0 10 18 15  4  3  8 16 19 12 10  0 12  6 15 11  4 11  7 12]\n",
      "12\n"
     ]
    }
   ],
   "source": [
    "M = np.random.randint(0, 20, 20)\n",
    "print(M)\n",
    "print(np.bincount(M).argmax())"
   ]
  },
  {
   "cell_type": "markdown",
   "metadata": {},
   "source": [
    "#### 84. Extract all the contiguous 3x3 blocks from a random 10x10 matrix (★★★)"
   ]
  },
  {
   "cell_type": "code",
   "execution_count": 249,
   "metadata": {},
   "outputs": [
    {
     "name": "stdout",
     "output_type": "stream",
     "text": [
      "[[[[2 2 3]\n",
      "   [1 1 2]\n",
      "   [0 3 1]]\n",
      "\n",
      "  [[2 3 3]\n",
      "   [1 2 3]\n",
      "   [3 1 0]]\n",
      "\n",
      "  [[3 3 2]\n",
      "   [2 3 0]\n",
      "   [1 0 2]]\n",
      "\n",
      "  [[3 2 2]\n",
      "   [3 0 2]\n",
      "   [0 2 3]]\n",
      "\n",
      "  [[2 2 1]\n",
      "   [0 2 3]\n",
      "   [2 3 0]]\n",
      "\n",
      "  [[2 1 1]\n",
      "   [2 3 2]\n",
      "   [3 0 2]]\n",
      "\n",
      "  [[1 1 1]\n",
      "   [3 2 2]\n",
      "   [0 2 1]]\n",
      "\n",
      "  [[1 1 0]\n",
      "   [2 2 3]\n",
      "   [2 1 1]]]\n",
      "\n",
      "\n",
      " [[[1 1 2]\n",
      "   [0 3 1]\n",
      "   [1 2 3]]\n",
      "\n",
      "  [[1 2 3]\n",
      "   [3 1 0]\n",
      "   [2 3 3]]\n",
      "\n",
      "  [[2 3 0]\n",
      "   [1 0 2]\n",
      "   [3 3 1]]\n",
      "\n",
      "  [[3 0 2]\n",
      "   [0 2 3]\n",
      "   [3 1 1]]\n",
      "\n",
      "  [[0 2 3]\n",
      "   [2 3 0]\n",
      "   [1 1 2]]\n",
      "\n",
      "  [[2 3 2]\n",
      "   [3 0 2]\n",
      "   [1 2 3]]\n",
      "\n",
      "  [[3 2 2]\n",
      "   [0 2 1]\n",
      "   [2 3 0]]\n",
      "\n",
      "  [[2 2 3]\n",
      "   [2 1 1]\n",
      "   [3 0 3]]]\n",
      "\n",
      "\n",
      " [[[0 3 1]\n",
      "   [1 2 3]\n",
      "   [0 0 2]]\n",
      "\n",
      "  [[3 1 0]\n",
      "   [2 3 3]\n",
      "   [0 2 3]]\n",
      "\n",
      "  [[1 0 2]\n",
      "   [3 3 1]\n",
      "   [2 3 3]]\n",
      "\n",
      "  [[0 2 3]\n",
      "   [3 1 1]\n",
      "   [3 3 1]]\n",
      "\n",
      "  [[2 3 0]\n",
      "   [1 1 2]\n",
      "   [3 1 1]]\n",
      "\n",
      "  [[3 0 2]\n",
      "   [1 2 3]\n",
      "   [1 1 3]]\n",
      "\n",
      "  [[0 2 1]\n",
      "   [2 3 0]\n",
      "   [1 3 1]]\n",
      "\n",
      "  [[2 1 1]\n",
      "   [3 0 3]\n",
      "   [3 1 2]]]\n",
      "\n",
      "\n",
      " [[[1 2 3]\n",
      "   [0 0 2]\n",
      "   [3 0 1]]\n",
      "\n",
      "  [[2 3 3]\n",
      "   [0 2 3]\n",
      "   [0 1 3]]\n",
      "\n",
      "  [[3 3 1]\n",
      "   [2 3 3]\n",
      "   [1 3 2]]\n",
      "\n",
      "  [[3 1 1]\n",
      "   [3 3 1]\n",
      "   [3 2 3]]\n",
      "\n",
      "  [[1 1 2]\n",
      "   [3 1 1]\n",
      "   [2 3 2]]\n",
      "\n",
      "  [[1 2 3]\n",
      "   [1 1 3]\n",
      "   [3 2 3]]\n",
      "\n",
      "  [[2 3 0]\n",
      "   [1 3 1]\n",
      "   [2 3 2]]\n",
      "\n",
      "  [[3 0 3]\n",
      "   [3 1 2]\n",
      "   [3 2 1]]]\n",
      "\n",
      "\n",
      " [[[0 0 2]\n",
      "   [3 0 1]\n",
      "   [1 1 1]]\n",
      "\n",
      "  [[0 2 3]\n",
      "   [0 1 3]\n",
      "   [1 1 3]]\n",
      "\n",
      "  [[2 3 3]\n",
      "   [1 3 2]\n",
      "   [1 3 1]]\n",
      "\n",
      "  [[3 3 1]\n",
      "   [3 2 3]\n",
      "   [3 1 1]]\n",
      "\n",
      "  [[3 1 1]\n",
      "   [2 3 2]\n",
      "   [1 1 3]]\n",
      "\n",
      "  [[1 1 3]\n",
      "   [3 2 3]\n",
      "   [1 3 2]]\n",
      "\n",
      "  [[1 3 1]\n",
      "   [2 3 2]\n",
      "   [3 2 1]]\n",
      "\n",
      "  [[3 1 2]\n",
      "   [3 2 1]\n",
      "   [2 1 2]]]\n",
      "\n",
      "\n",
      " [[[3 0 1]\n",
      "   [1 1 1]\n",
      "   [2 1 2]]\n",
      "\n",
      "  [[0 1 3]\n",
      "   [1 1 3]\n",
      "   [1 2 1]]\n",
      "\n",
      "  [[1 3 2]\n",
      "   [1 3 1]\n",
      "   [2 1 1]]\n",
      "\n",
      "  [[3 2 3]\n",
      "   [3 1 1]\n",
      "   [1 1 3]]\n",
      "\n",
      "  [[2 3 2]\n",
      "   [1 1 3]\n",
      "   [1 3 3]]\n",
      "\n",
      "  [[3 2 3]\n",
      "   [1 3 2]\n",
      "   [3 3 3]]\n",
      "\n",
      "  [[2 3 2]\n",
      "   [3 2 1]\n",
      "   [3 3 0]]\n",
      "\n",
      "  [[3 2 1]\n",
      "   [2 1 2]\n",
      "   [3 0 0]]]\n",
      "\n",
      "\n",
      " [[[1 1 1]\n",
      "   [2 1 2]\n",
      "   [1 0 0]]\n",
      "\n",
      "  [[1 1 3]\n",
      "   [1 2 1]\n",
      "   [0 0 1]]\n",
      "\n",
      "  [[1 3 1]\n",
      "   [2 1 1]\n",
      "   [0 1 0]]\n",
      "\n",
      "  [[3 1 1]\n",
      "   [1 1 3]\n",
      "   [1 0 0]]\n",
      "\n",
      "  [[1 1 3]\n",
      "   [1 3 3]\n",
      "   [0 0 2]]\n",
      "\n",
      "  [[1 3 2]\n",
      "   [3 3 3]\n",
      "   [0 2 3]]\n",
      "\n",
      "  [[3 2 1]\n",
      "   [3 3 0]\n",
      "   [2 3 1]]\n",
      "\n",
      "  [[2 1 2]\n",
      "   [3 0 0]\n",
      "   [3 1 2]]]\n",
      "\n",
      "\n",
      " [[[2 1 2]\n",
      "   [1 0 0]\n",
      "   [1 2 0]]\n",
      "\n",
      "  [[1 2 1]\n",
      "   [0 0 1]\n",
      "   [2 0 3]]\n",
      "\n",
      "  [[2 1 1]\n",
      "   [0 1 0]\n",
      "   [0 3 3]]\n",
      "\n",
      "  [[1 1 3]\n",
      "   [1 0 0]\n",
      "   [3 3 3]]\n",
      "\n",
      "  [[1 3 3]\n",
      "   [0 0 2]\n",
      "   [3 3 1]]\n",
      "\n",
      "  [[3 3 3]\n",
      "   [0 2 3]\n",
      "   [3 1 3]]\n",
      "\n",
      "  [[3 3 0]\n",
      "   [2 3 1]\n",
      "   [1 3 3]]\n",
      "\n",
      "  [[3 0 0]\n",
      "   [3 1 2]\n",
      "   [3 3 1]]]]\n"
     ]
    }
   ],
   "source": [
    "from numpy.lib import stride_tricks\n",
    "\n",
    "\n",
    "Z = np.random.randint(0, 4, (10, 10))\n",
    "i = 1 + (Z.shape[0] - 3)\n",
    "j = 1 + (Z.shape[1] - 3)\n",
    "\n",
    "M = stride_tricks.as_strided(Z, shape=(i, j, 3, 3), strides=Z.strides + Z.strides)\n",
    "print(M)"
   ]
  },
  {
   "cell_type": "markdown",
   "metadata": {},
   "source": [
    "#### 85. Create a 2D array subclass such that Z[i,j] == Z[j,i] (★★★)"
   ]
  },
  {
   "cell_type": "code",
   "execution_count": 264,
   "metadata": {},
   "outputs": [
    {
     "name": "stdout",
     "output_type": "stream",
     "text": [
      "[[5. 6. 7.]\n",
      " [6. 7. 8.]\n",
      " [7. 8. 9.]]\n"
     ]
    }
   ],
   "source": [
    "class Sym2DArray(np.ndarray):\n",
    "    def __setitem__(self, index, value):\n",
    "        i, j = index\n",
    "        super().__setitem__((i, j), value)\n",
    "        super().__setitem__((j, i), value)\n",
    "\n",
    "M = Sym2DArray([3, 3])\n",
    "print(M)"
   ]
  },
  {
   "cell_type": "markdown",
   "metadata": {},
   "source": [
    "#### 86. Consider a set of p matrices with shape (n,n) and a set of p vectors with shape (n,1). How to compute the sum of of the p matrix products at once? (result has shape (n,1)) (★★★)"
   ]
  },
  {
   "cell_type": "code",
   "execution_count": 266,
   "metadata": {},
   "outputs": [
    {
     "name": "stdout",
     "output_type": "stream",
     "text": [
      "[[75.]\n",
      " [75.]\n",
      " [75.]\n",
      " [75.]\n",
      " [75.]]\n"
     ]
    }
   ],
   "source": [
    "p, n = 15, 5\n",
    "M = np.ones((p, n, n))\n",
    "V = np.ones((p, n, 1))\n",
    "S = np.tensordot(M, V, axes=[[0, 2], [0, 1]])\n",
    "print(S)"
   ]
  },
  {
   "cell_type": "markdown",
   "metadata": {},
   "source": [
    "#### 87. Consider a 16x16 array, how to get the block-sum (block size is 4x4)? (★★★)"
   ]
  },
  {
   "cell_type": "code",
   "execution_count": 271,
   "metadata": {},
   "outputs": [
    {
     "name": "stdout",
     "output_type": "stream",
     "text": [
      "[[81. 63.]\n",
      " [63. 49.]]\n"
     ]
    }
   ],
   "source": [
    "M = np.ones((16, 16))\n",
    "val = 9\n",
    "M0 = np.add.reduceat(np.add.reduceat(M, np.arange(0, M.shape[0], val), axis=0),\n",
    "                                       np.arange(0, M.shape[1], val), axis=1)\n",
    "print(M0)"
   ]
  },
  {
   "cell_type": "markdown",
   "metadata": {},
   "source": [
    "#### 88. How to implement the Game of Life using numpy arrays? (★★★)"
   ]
  },
  {
   "cell_type": "code",
   "execution_count": 272,
   "metadata": {},
   "outputs": [
    {
     "name": "stdout",
     "output_type": "stream",
     "text": [
      "Initial grid:\n",
      "[[0. 0. 0.]\n",
      " [0. 1. 0.]\n",
      " [0. 0. 0.]]\n",
      "After iteration 1:\n",
      "[[0. 0. 0.]\n",
      " [0. 0. 0.]\n",
      " [0. 0. 0.]]\n",
      "After iteration 2:\n",
      "[[0. 0. 0.]\n",
      " [0. 0. 0.]\n",
      " [0. 0. 0.]]\n",
      "After iteration 3:\n",
      "[[0. 0. 0.]\n",
      " [0. 0. 0.]\n",
      " [0. 0. 0.]]\n",
      "After iteration 4:\n",
      "[[0. 0. 0.]\n",
      " [0. 0. 0.]\n",
      " [0. 0. 0.]]\n"
     ]
    }
   ],
   "source": [
    "grid = np.zeros((3,3))\n",
    "grid[1,1] = 1\n",
    "print(\"Initial grid:\")\n",
    "print(grid)\n",
    "for iteration in range(4):\n",
    "    new_grid = np.copy(grid)\n",
    "    for i in range(3):\n",
    "        for j in range(3):\n",
    "            live_neighbors = (grid[(i-1)%3, (j-1)%3] + grid[(i-1)%3, j] + \n",
    "                              grid[(i-1)%3, (j+1)%3] + grid[i, (j-1)%3] + \n",
    "                              grid[i, (j+1)%3] + grid[(i+1)%3, (j-1)%3] +\n",
    "                              grid[(i+1)%3, j] + grid[(i+1)%3, (j+1)%3])\n",
    "            if grid[i, j] == 0 and live_neighbors == 3:\n",
    "                new_grid[i, j] = 1\n",
    "            elif grid[i, j] == 1 and (live_neighbors < 2 or live_neighbors > 3):\n",
    "                new_grid[i, j] = 0\n",
    "            else:\n",
    "                new_grid[i, j] = grid[i, j]\n",
    "    grid = np.copy(new_grid)\n",
    "    print(\"After iteration {}:\".format(iteration+1))\n",
    "    print(grid)"
   ]
  },
  {
   "cell_type": "markdown",
   "metadata": {},
   "source": [
    "#### 89. How to get the n largest values of an array (★★★)"
   ]
  },
  {
   "cell_type": "code",
   "execution_count": 278,
   "metadata": {},
   "outputs": [
    {
     "name": "stdout",
     "output_type": "stream",
     "text": [
      "[244 244 245 245 246 246 246 246 246 246 247 247 247 248 249]\n"
     ]
    }
   ],
   "source": [
    "v = np.random.randint(250, size=1000)\n",
    "n = 15\n",
    "print (v[np.argsort(v)[-n:]])"
   ]
  },
  {
   "cell_type": "markdown",
   "metadata": {},
   "source": [
    "#### 90. Given an arbitrary number of vectors, build the cartesian product (every combinations of every item) (★★★)"
   ]
  },
  {
   "cell_type": "code",
   "execution_count": 282,
   "metadata": {},
   "outputs": [
    {
     "name": "stdout",
     "output_type": "stream",
     "text": [
      "[[1 4 7]\n",
      " [1 4 8]\n",
      " [1 5 7]\n",
      " [1 5 8]\n",
      " [1 6 7]\n",
      " [1 6 8]\n",
      " [2 4 7]\n",
      " [2 4 8]\n",
      " [2 5 7]\n",
      " [2 5 8]\n",
      " [2 6 7]\n",
      " [2 6 8]]\n"
     ]
    }
   ],
   "source": [
    "def cartesian(v):\n",
    "    v = [np.asarray(i) for i in v]\n",
    "    shape = (len(j) for j in v)\n",
    "    x = np.indices(shape, dtype=int)\n",
    "    x = x.reshape(len(v), -1).T\n",
    "    for n, arr in enumerate(v):\n",
    "        x[:, n] = v[n][x[:, n]]\n",
    "    return x\n",
    "\n",
    "print (cartesian(([1, 2], [4, 5, 6], [7, 8])))"
   ]
  },
  {
   "cell_type": "markdown",
   "metadata": {},
   "source": [
    "#### 91. How to create a record array from a regular array? (★★★)"
   ]
  },
  {
   "cell_type": "code",
   "execution_count": 287,
   "metadata": {},
   "outputs": [
    {
     "name": "stdout",
     "output_type": "stream",
     "text": [
      "[(1, 2, 3) (4, 5, 6) (7, 8, 9)]\n",
      "[('John', '23') ('Mary', '19') ('Bob', '27')]\n"
     ]
    }
   ],
   "source": [
    "arr = np.array([[1,2,3],\n",
    "                [4,5,6],\n",
    "                [7,8,9]])\n",
    "rec_arr = np.rec.fromarrays(arr.T, names='a,b,c')\n",
    "\n",
    "print(rec_arr)\n",
    "\n",
    "arr = np.array([['John', 23],\n",
    "                ['Mary', 19],\n",
    "                ['Bob', 27]])\n",
    "rec_arr = np.rec.fromarrays(arr.T, names='name,age')\n",
    "\n",
    "print(rec_arr)"
   ]
  },
  {
   "cell_type": "markdown",
   "metadata": {},
   "source": [
    "#### 92. Consider a large vector Z, compute Z to the power of 3 using 3 different methods (★★★)"
   ]
  },
  {
   "cell_type": "code",
   "execution_count": 285,
   "metadata": {},
   "outputs": [
    {
     "name": "stdout",
     "output_type": "stream",
     "text": [
      "1.71 s ± 54.4 ms per loop (mean ± std. dev. of 7 runs, 1 loop each)\n",
      "381 ms ± 21.1 ms per loop (mean ± std. dev. of 7 runs, 1 loop each)\n",
      "215 ms ± 20.9 ms per loop (mean ± std. dev. of 7 runs, 1 loop each)\n"
     ]
    }
   ],
   "source": [
    "Z = np.random.rand(int(5e7))\n",
    "\n",
    "%timeit np.power(Z, 3)\n",
    "%timeit Z * Z * Z\n",
    "%timeit np.einsum('i,i,i->i', Z, Z, Z)"
   ]
  },
  {
   "cell_type": "markdown",
   "metadata": {},
   "source": [
    "#### 93. Consider two arrays A and B of shape (8,3) and (2,2). How to find rows of A that contain elements of each row of B regardless of the order of the elements in B? (★★★)"
   ]
  },
  {
   "cell_type": "code",
   "execution_count": 293,
   "metadata": {},
   "outputs": [
    {
     "name": "stdout",
     "output_type": "stream",
     "text": [
      "[[9 5 2]\n",
      " [7 7 3]\n",
      " [6 3 3]\n",
      " [5 2 7]\n",
      " [7 9 2]\n",
      " [7 4 7]\n",
      " [0 9 7]\n",
      " [8 4 0]]\n",
      "[[9 3]\n",
      " [5 2]]\n",
      "[0 4]\n"
     ]
    }
   ],
   "source": [
    "A = np.random.randint(0, 10, (8,3))\n",
    "B = np.random.randint(0, 10, (2,2))\n",
    "print(A)\n",
    "print(B)\n",
    "C = (A[..., np.newaxis, np.newaxis] == B)\n",
    "print(np.where(C.any((3,1)).all(1))[0])"
   ]
  },
  {
   "cell_type": "markdown",
   "metadata": {},
   "source": [
    "#### 94. Considering a 10x3 matrix, extract rows with unequal values (e.g. [2,2,3]) (★★★)"
   ]
  },
  {
   "cell_type": "code",
   "execution_count": 298,
   "metadata": {},
   "outputs": [
    {
     "name": "stdout",
     "output_type": "stream",
     "text": [
      "[[2 3 2]\n",
      " [1 3 2]\n",
      " [3 3 2]\n",
      " [0 2 2]\n",
      " [2 3 2]\n",
      " [0 2 0]\n",
      " [1 4 0]\n",
      " [1 1 4]\n",
      " [2 2 0]\n",
      " [0 3 1]] \n",
      "\n",
      "[[1 3 2]\n",
      " [3 3 2]\n",
      " [0 2 2]\n",
      " [0 2 0]\n",
      " [1 4 0]\n",
      " [1 1 4]\n",
      " [2 2 0]\n",
      " [0 3 1]]\n"
     ]
    }
   ],
   "source": [
    "M = np.random.randint(0, 5, (10, 3))\n",
    "print(M, '\\n')\n",
    "\n",
    "unequal_rows = M[np.any(M != M[0], axis=1)]\n",
    "print(unequal_rows)"
   ]
  },
  {
   "cell_type": "markdown",
   "metadata": {},
   "source": [
    "#### 95. Convert a vector of ints into a matrix binary representation (★★★)"
   ]
  },
  {
   "cell_type": "code",
   "execution_count": 301,
   "metadata": {},
   "outputs": [
    {
     "name": "stdout",
     "output_type": "stream",
     "text": [
      "[[0 0 0 0 0 0 0 0]\n",
      " [0 0 0 0 0 0 0 1]\n",
      " [0 0 0 0 0 0 1 0]\n",
      " [0 0 0 0 0 0 1 1]\n",
      " [0 0 0 0 1 1 1 1]\n",
      " [0 0 0 1 0 0 0 0]\n",
      " [0 0 1 0 0 0 0 0]\n",
      " [0 1 0 0 0 0 0 0]\n",
      " [1 0 0 0 0 0 0 0]]\n"
     ]
    }
   ],
   "source": [
    "M = np.array([0, 1, 2, 3, 15, 16, 32, 64, 128], dtype=np.uint8)\n",
    "print(np.unpackbits(M[:, np.newaxis], axis=1))"
   ]
  },
  {
   "cell_type": "markdown",
   "metadata": {},
   "source": [
    "#### 96. Given a two dimensional array, how to extract unique rows? (★★★)"
   ]
  },
  {
   "cell_type": "code",
   "execution_count": 310,
   "metadata": {},
   "outputs": [
    {
     "name": "stdout",
     "output_type": "stream",
     "text": [
      "[[2 1]\n",
      " [1 0]\n",
      " [0 0]\n",
      " [2 0]\n",
      " [2 0]\n",
      " [1 0]\n",
      " [0 2]\n",
      " [1 0]]\n",
      "[[0 0]\n",
      " [0 2]\n",
      " [1 0]\n",
      " [2 0]\n",
      " [2 1]]\n"
     ]
    }
   ],
   "source": [
    "v = np.random.randint(0, 3,(8, 2))\n",
    "print(v)\n",
    "u = np.unique(v, axis=0)\n",
    "print(u)"
   ]
  },
  {
   "cell_type": "markdown",
   "metadata": {},
   "source": [
    "#### 97. Considering 2 vectors A & B, write the einsum equivalent of inner, outer, sum, and mul function (★★★)"
   ]
  },
  {
   "cell_type": "code",
   "execution_count": 314,
   "metadata": {},
   "outputs": [
    {
     "name": "stdout",
     "output_type": "stream",
     "text": [
      "[0 4 0 4 2 2 0 1 1 4]\n",
      "[2 1 4 1 4 4 2 4 2 2]\n",
      "38\n",
      "[[ 0  0  0  0  0  0  0  0  0  0]\n",
      " [ 8  4 16  4 16 16  8 16  8  8]\n",
      " [ 0  0  0  0  0  0  0  0  0  0]\n",
      " [ 8  4 16  4 16 16  8 16  8  8]\n",
      " [ 4  2  8  2  8  8  4  8  4  4]\n",
      " [ 4  2  8  2  8  8  4  8  4  4]\n",
      " [ 0  0  0  0  0  0  0  0  0  0]\n",
      " [ 2  1  4  1  4  4  2  4  2  2]\n",
      " [ 2  1  4  1  4  4  2  4  2  2]\n",
      " [ 8  4 16  4 16 16  8 16  8  8]]\n",
      "18\n",
      "38\n"
     ]
    }
   ],
   "source": [
    "A = np.random.randint(5, size=10)\n",
    "B = np.random.randint(5, size=10)\n",
    "print(A, B, sep='\\n')\n",
    "\n",
    "print(np.einsum('i,i', A, B))\n",
    "print(np.einsum('i,j', A, B))\n",
    "print(np.einsum('i->', A))\n",
    "print(np.einsum('i,i', A, B))"
   ]
  },
  {
   "cell_type": "markdown",
   "metadata": {},
   "source": [
    "#### 98. Considering a path described by two vectors (X,Y), how to sample it using equidistant samples (★★★)?"
   ]
  },
  {
   "cell_type": "code",
   "execution_count": 316,
   "metadata": {},
   "outputs": [
    {
     "name": "stdout",
     "output_type": "stream",
     "text": [
      "[0 2 3 2 0 0 3 3 2 2]\n",
      "[2 1 2 4 1 0 1 2 2 1]\n",
      "[[0.         2.        ]\n",
      " [1.28571429 1.35714286]\n",
      " [2.28571429 1.28571429]\n",
      " [2.92857143 1.92857143]\n",
      " [2.42857143 3.14285714]\n",
      " [1.57142857 3.35714286]\n",
      " [0.28571429 1.42857143]\n",
      " [0.         0.5       ]\n",
      " [0.42857143 0.14285714]\n",
      " [2.35714286 0.78571429]\n",
      " [3.         1.42857143]\n",
      " [2.92857143 2.        ]\n",
      " [2.28571429 2.        ]\n",
      " [2.         1.64285714]\n",
      " [2.         1.        ]]\n"
     ]
    }
   ],
   "source": [
    "x = np.random.randint(5, size=10)\n",
    "y = np.random.randint(5, size=10)\n",
    "print(x, y, sep='\\n')\n",
    "samples = np.linspace(0, len(x)-1, num=n) \n",
    "x_samples = np.interp(samples, np.arange(len(x)), x)\n",
    "y_samples = np.interp(samples, np.arange(len(y)), y)\n",
    "samples = np.vstack([x_samples, y_samples]).T\n",
    "print(samples)"
   ]
  },
  {
   "cell_type": "markdown",
   "metadata": {},
   "source": [
    "#### 99. Given an integer n and a 2D array X, select from X the rows which can be interpreted as draws from a multinomial distribution with n degrees, i.e., the rows which only contain integers and which sum to n. (★★★)"
   ]
  },
  {
   "cell_type": "code",
   "execution_count": 317,
   "metadata": {},
   "outputs": [
    {
     "name": "stdout",
     "output_type": "stream",
     "text": [
      "[[1 2 3]]\n"
     ]
    }
   ],
   "source": [
    "X = np.array([[1,2,3],\n",
    "              [3,3,3],\n",
    "              [1,1,8],\n",
    "              [2,3,5],\n",
    "              [4,3,3]])\n",
    "n = 6\n",
    "result = np.array([row for row in X if np.sum(row) == n])\n",
    "print(result)"
   ]
  },
  {
   "cell_type": "markdown",
   "metadata": {},
   "source": [
    "#### 100. Compute bootstrapped 95% confidence intervals for the mean of a 1D array X (i.e., resample the elements of an array with replacement N times, compute the mean of each sample, and then compute percentiles over the means). (★★★)"
   ]
  },
  {
   "cell_type": "code",
   "execution_count": 319,
   "metadata": {},
   "outputs": [
    {
     "name": "stdout",
     "output_type": "stream",
     "text": [
      "The 95% confidence interval for the mean of the array is: [3.18181818 6.72727273]\n"
     ]
    }
   ],
   "source": [
    "X = np.arange(11)\n",
    "# Number of times to resample array\n",
    "N = 1000\n",
    "mean_list = []\n",
    "\n",
    "# Resample the array N times and compute the mean\n",
    "for n in range(N):\n",
    "    sample = np.random.choice(X, size=len(X), replace=True)\n",
    "    mean_list.append(np.mean(sample))\n",
    "\n",
    "# Compute the 95% confidence interval\n",
    "CI = np.percentile(mean_list, q=[2.5,97.5])\n",
    "print(\"The 95% confidence interval for the mean of the array is:\", CI)"
   ]
  },
  {
   "cell_type": "code",
   "execution_count": null,
   "metadata": {},
   "outputs": [],
   "source": []
  }
 ],
 "metadata": {
  "kernelspec": {
   "display_name": "Python 3",
   "language": "python",
   "name": "python3"
  },
  "language_info": {
   "codemirror_mode": {
    "name": "ipython",
    "version": 3
   },
   "file_extension": ".py",
   "mimetype": "text/x-python",
   "name": "python",
   "nbconvert_exporter": "python",
   "pygments_lexer": "ipython3",
   "version": "3.7.4"
  }
 },
 "nbformat": 4,
 "nbformat_minor": 5
}
